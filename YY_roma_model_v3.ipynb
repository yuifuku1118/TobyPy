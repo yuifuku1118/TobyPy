{
  "nbformat": 4,
  "nbformat_minor": 0,
  "metadata": {
    "accelerator": "GPU",
    "colab": {
      "name": "YY_roma_model_v3.ipynb",
      "provenance": [],
      "collapsed_sections": [],
      "machine_shape": "hm",
      "mount_file_id": "1Z_O9qoS7Q35VfD3HXXXuMYOlvn9vbDx2",
      "authorship_tag": "ABX9TyNFR5Xpl0ls0VIyzLLdFDKf",
      "include_colab_link": true
    },
    "kernelspec": {
      "display_name": "Python 3",
      "name": "python3"
    },
    "language_info": {
      "name": "python"
    },
    "widgets": {
      "application/vnd.jupyter.widget-state+json": {
        "8e87acf33f8349f5a00ee18b182db4a9": {
          "model_module": "@jupyter-widgets/controls",
          "model_name": "HBoxModel",
          "state": {
            "_view_name": "HBoxView",
            "_dom_classes": [],
            "_model_name": "HBoxModel",
            "_view_module": "@jupyter-widgets/controls",
            "_model_module_version": "1.5.0",
            "_view_count": null,
            "_view_module_version": "1.5.0",
            "box_style": "",
            "layout": "IPY_MODEL_e406513683b441b18be2a96a1b961278",
            "_model_module": "@jupyter-widgets/controls",
            "children": [
              "IPY_MODEL_f20abe746c2347bb91ffa010ca81e894",
              "IPY_MODEL_f280ff5ff12d452f875fd681c4d594e4"
            ]
          }
        },
        "e406513683b441b18be2a96a1b961278": {
          "model_module": "@jupyter-widgets/base",
          "model_name": "LayoutModel",
          "state": {
            "_view_name": "LayoutView",
            "grid_template_rows": null,
            "right": null,
            "justify_content": null,
            "_view_module": "@jupyter-widgets/base",
            "overflow": null,
            "_model_module_version": "1.2.0",
            "_view_count": null,
            "flex_flow": null,
            "width": null,
            "min_width": null,
            "border": null,
            "align_items": null,
            "bottom": null,
            "_model_module": "@jupyter-widgets/base",
            "top": null,
            "grid_column": null,
            "overflow_y": null,
            "overflow_x": null,
            "grid_auto_flow": null,
            "grid_area": null,
            "grid_template_columns": null,
            "flex": null,
            "_model_name": "LayoutModel",
            "justify_items": null,
            "grid_row": null,
            "max_height": null,
            "align_content": null,
            "visibility": null,
            "align_self": null,
            "height": null,
            "min_height": null,
            "padding": null,
            "grid_auto_rows": null,
            "grid_gap": null,
            "max_width": null,
            "order": null,
            "_view_module_version": "1.2.0",
            "grid_template_areas": null,
            "object_position": null,
            "object_fit": null,
            "grid_auto_columns": null,
            "margin": null,
            "display": null,
            "left": null
          }
        },
        "f20abe746c2347bb91ffa010ca81e894": {
          "model_module": "@jupyter-widgets/controls",
          "model_name": "FloatProgressModel",
          "state": {
            "_view_name": "ProgressView",
            "style": "IPY_MODEL_9b27598979e14638bd00cb71d36958f4",
            "_dom_classes": [],
            "description": "100%",
            "_model_name": "FloatProgressModel",
            "bar_style": "success",
            "max": 686,
            "_view_module": "@jupyter-widgets/controls",
            "_model_module_version": "1.5.0",
            "value": 686,
            "_view_count": null,
            "_view_module_version": "1.5.0",
            "orientation": "horizontal",
            "min": 0,
            "description_tooltip": null,
            "_model_module": "@jupyter-widgets/controls",
            "layout": "IPY_MODEL_31040fb3fbf54582b77d1a5dfda0ffa6"
          }
        },
        "f280ff5ff12d452f875fd681c4d594e4": {
          "model_module": "@jupyter-widgets/controls",
          "model_name": "HTMLModel",
          "state": {
            "_view_name": "HTMLView",
            "style": "IPY_MODEL_400082db135640a9842bd1986e446f76",
            "_dom_classes": [],
            "description": "",
            "_model_name": "HTMLModel",
            "placeholder": "​",
            "_view_module": "@jupyter-widgets/controls",
            "_model_module_version": "1.5.0",
            "value": " 686/686 [01:58&lt;00:00,  5.80ex/s]",
            "_view_count": null,
            "_view_module_version": "1.5.0",
            "description_tooltip": null,
            "_model_module": "@jupyter-widgets/controls",
            "layout": "IPY_MODEL_9c0bedde7fcf4230bb947f46479a4040"
          }
        },
        "9b27598979e14638bd00cb71d36958f4": {
          "model_module": "@jupyter-widgets/controls",
          "model_name": "ProgressStyleModel",
          "state": {
            "_view_name": "StyleView",
            "_model_name": "ProgressStyleModel",
            "description_width": "initial",
            "_view_module": "@jupyter-widgets/base",
            "_model_module_version": "1.5.0",
            "_view_count": null,
            "_view_module_version": "1.2.0",
            "bar_color": null,
            "_model_module": "@jupyter-widgets/controls"
          }
        },
        "31040fb3fbf54582b77d1a5dfda0ffa6": {
          "model_module": "@jupyter-widgets/base",
          "model_name": "LayoutModel",
          "state": {
            "_view_name": "LayoutView",
            "grid_template_rows": null,
            "right": null,
            "justify_content": null,
            "_view_module": "@jupyter-widgets/base",
            "overflow": null,
            "_model_module_version": "1.2.0",
            "_view_count": null,
            "flex_flow": null,
            "width": null,
            "min_width": null,
            "border": null,
            "align_items": null,
            "bottom": null,
            "_model_module": "@jupyter-widgets/base",
            "top": null,
            "grid_column": null,
            "overflow_y": null,
            "overflow_x": null,
            "grid_auto_flow": null,
            "grid_area": null,
            "grid_template_columns": null,
            "flex": null,
            "_model_name": "LayoutModel",
            "justify_items": null,
            "grid_row": null,
            "max_height": null,
            "align_content": null,
            "visibility": null,
            "align_self": null,
            "height": null,
            "min_height": null,
            "padding": null,
            "grid_auto_rows": null,
            "grid_gap": null,
            "max_width": null,
            "order": null,
            "_view_module_version": "1.2.0",
            "grid_template_areas": null,
            "object_position": null,
            "object_fit": null,
            "grid_auto_columns": null,
            "margin": null,
            "display": null,
            "left": null
          }
        },
        "400082db135640a9842bd1986e446f76": {
          "model_module": "@jupyter-widgets/controls",
          "model_name": "DescriptionStyleModel",
          "state": {
            "_view_name": "StyleView",
            "_model_name": "DescriptionStyleModel",
            "description_width": "",
            "_view_module": "@jupyter-widgets/base",
            "_model_module_version": "1.5.0",
            "_view_count": null,
            "_view_module_version": "1.2.0",
            "_model_module": "@jupyter-widgets/controls"
          }
        },
        "9c0bedde7fcf4230bb947f46479a4040": {
          "model_module": "@jupyter-widgets/base",
          "model_name": "LayoutModel",
          "state": {
            "_view_name": "LayoutView",
            "grid_template_rows": null,
            "right": null,
            "justify_content": null,
            "_view_module": "@jupyter-widgets/base",
            "overflow": null,
            "_model_module_version": "1.2.0",
            "_view_count": null,
            "flex_flow": null,
            "width": null,
            "min_width": null,
            "border": null,
            "align_items": null,
            "bottom": null,
            "_model_module": "@jupyter-widgets/base",
            "top": null,
            "grid_column": null,
            "overflow_y": null,
            "overflow_x": null,
            "grid_auto_flow": null,
            "grid_area": null,
            "grid_template_columns": null,
            "flex": null,
            "_model_name": "LayoutModel",
            "justify_items": null,
            "grid_row": null,
            "max_height": null,
            "align_content": null,
            "visibility": null,
            "align_self": null,
            "height": null,
            "min_height": null,
            "padding": null,
            "grid_auto_rows": null,
            "grid_gap": null,
            "max_width": null,
            "order": null,
            "_view_module_version": "1.2.0",
            "grid_template_areas": null,
            "object_position": null,
            "object_fit": null,
            "grid_auto_columns": null,
            "margin": null,
            "display": null,
            "left": null
          }
        },
        "137d274fe2334777a7e61b9491678a52": {
          "model_module": "@jupyter-widgets/controls",
          "model_name": "HBoxModel",
          "state": {
            "_view_name": "HBoxView",
            "_dom_classes": [],
            "_model_name": "HBoxModel",
            "_view_module": "@jupyter-widgets/controls",
            "_model_module_version": "1.5.0",
            "_view_count": null,
            "_view_module_version": "1.5.0",
            "box_style": "",
            "layout": "IPY_MODEL_999cb8abc6f94738b37a644ae8f24a56",
            "_model_module": "@jupyter-widgets/controls",
            "children": [
              "IPY_MODEL_d0eb6cdf7ba14481884563e967bc252d",
              "IPY_MODEL_8380431e433a48dda5866f619ffd6ff9"
            ]
          }
        },
        "999cb8abc6f94738b37a644ae8f24a56": {
          "model_module": "@jupyter-widgets/base",
          "model_name": "LayoutModel",
          "state": {
            "_view_name": "LayoutView",
            "grid_template_rows": null,
            "right": null,
            "justify_content": null,
            "_view_module": "@jupyter-widgets/base",
            "overflow": null,
            "_model_module_version": "1.2.0",
            "_view_count": null,
            "flex_flow": null,
            "width": null,
            "min_width": null,
            "border": null,
            "align_items": null,
            "bottom": null,
            "_model_module": "@jupyter-widgets/base",
            "top": null,
            "grid_column": null,
            "overflow_y": null,
            "overflow_x": null,
            "grid_auto_flow": null,
            "grid_area": null,
            "grid_template_columns": null,
            "flex": null,
            "_model_name": "LayoutModel",
            "justify_items": null,
            "grid_row": null,
            "max_height": null,
            "align_content": null,
            "visibility": null,
            "align_self": null,
            "height": null,
            "min_height": null,
            "padding": null,
            "grid_auto_rows": null,
            "grid_gap": null,
            "max_width": null,
            "order": null,
            "_view_module_version": "1.2.0",
            "grid_template_areas": null,
            "object_position": null,
            "object_fit": null,
            "grid_auto_columns": null,
            "margin": null,
            "display": null,
            "left": null
          }
        },
        "d0eb6cdf7ba14481884563e967bc252d": {
          "model_module": "@jupyter-widgets/controls",
          "model_name": "FloatProgressModel",
          "state": {
            "_view_name": "ProgressView",
            "style": "IPY_MODEL_e7eb07c291e6437b9d702c50a796ae60",
            "_dom_classes": [],
            "description": "100%",
            "_model_name": "FloatProgressModel",
            "bar_style": "success",
            "max": 686,
            "_view_module": "@jupyter-widgets/controls",
            "_model_module_version": "1.5.0",
            "value": 686,
            "_view_count": null,
            "_view_module_version": "1.5.0",
            "orientation": "horizontal",
            "min": 0,
            "description_tooltip": null,
            "_model_module": "@jupyter-widgets/controls",
            "layout": "IPY_MODEL_ae54e79c31414655a9470b48b17446c6"
          }
        },
        "8380431e433a48dda5866f619ffd6ff9": {
          "model_module": "@jupyter-widgets/controls",
          "model_name": "HTMLModel",
          "state": {
            "_view_name": "HTMLView",
            "style": "IPY_MODEL_e7350566aed6427fa43e40337aec93ef",
            "_dom_classes": [],
            "description": "",
            "_model_name": "HTMLModel",
            "placeholder": "​",
            "_view_module": "@jupyter-widgets/controls",
            "_model_module_version": "1.5.0",
            "value": " 686/686 [01:54&lt;00:00,  6.01ex/s]",
            "_view_count": null,
            "_view_module_version": "1.5.0",
            "description_tooltip": null,
            "_model_module": "@jupyter-widgets/controls",
            "layout": "IPY_MODEL_d2138279e39e40b8a7d179712b9feb5a"
          }
        },
        "e7eb07c291e6437b9d702c50a796ae60": {
          "model_module": "@jupyter-widgets/controls",
          "model_name": "ProgressStyleModel",
          "state": {
            "_view_name": "StyleView",
            "_model_name": "ProgressStyleModel",
            "description_width": "initial",
            "_view_module": "@jupyter-widgets/base",
            "_model_module_version": "1.5.0",
            "_view_count": null,
            "_view_module_version": "1.2.0",
            "bar_color": null,
            "_model_module": "@jupyter-widgets/controls"
          }
        },
        "ae54e79c31414655a9470b48b17446c6": {
          "model_module": "@jupyter-widgets/base",
          "model_name": "LayoutModel",
          "state": {
            "_view_name": "LayoutView",
            "grid_template_rows": null,
            "right": null,
            "justify_content": null,
            "_view_module": "@jupyter-widgets/base",
            "overflow": null,
            "_model_module_version": "1.2.0",
            "_view_count": null,
            "flex_flow": null,
            "width": null,
            "min_width": null,
            "border": null,
            "align_items": null,
            "bottom": null,
            "_model_module": "@jupyter-widgets/base",
            "top": null,
            "grid_column": null,
            "overflow_y": null,
            "overflow_x": null,
            "grid_auto_flow": null,
            "grid_area": null,
            "grid_template_columns": null,
            "flex": null,
            "_model_name": "LayoutModel",
            "justify_items": null,
            "grid_row": null,
            "max_height": null,
            "align_content": null,
            "visibility": null,
            "align_self": null,
            "height": null,
            "min_height": null,
            "padding": null,
            "grid_auto_rows": null,
            "grid_gap": null,
            "max_width": null,
            "order": null,
            "_view_module_version": "1.2.0",
            "grid_template_areas": null,
            "object_position": null,
            "object_fit": null,
            "grid_auto_columns": null,
            "margin": null,
            "display": null,
            "left": null
          }
        },
        "e7350566aed6427fa43e40337aec93ef": {
          "model_module": "@jupyter-widgets/controls",
          "model_name": "DescriptionStyleModel",
          "state": {
            "_view_name": "StyleView",
            "_model_name": "DescriptionStyleModel",
            "description_width": "",
            "_view_module": "@jupyter-widgets/base",
            "_model_module_version": "1.5.0",
            "_view_count": null,
            "_view_module_version": "1.2.0",
            "_model_module": "@jupyter-widgets/controls"
          }
        },
        "d2138279e39e40b8a7d179712b9feb5a": {
          "model_module": "@jupyter-widgets/base",
          "model_name": "LayoutModel",
          "state": {
            "_view_name": "LayoutView",
            "grid_template_rows": null,
            "right": null,
            "justify_content": null,
            "_view_module": "@jupyter-widgets/base",
            "overflow": null,
            "_model_module_version": "1.2.0",
            "_view_count": null,
            "flex_flow": null,
            "width": null,
            "min_width": null,
            "border": null,
            "align_items": null,
            "bottom": null,
            "_model_module": "@jupyter-widgets/base",
            "top": null,
            "grid_column": null,
            "overflow_y": null,
            "overflow_x": null,
            "grid_auto_flow": null,
            "grid_area": null,
            "grid_template_columns": null,
            "flex": null,
            "_model_name": "LayoutModel",
            "justify_items": null,
            "grid_row": null,
            "max_height": null,
            "align_content": null,
            "visibility": null,
            "align_self": null,
            "height": null,
            "min_height": null,
            "padding": null,
            "grid_auto_rows": null,
            "grid_gap": null,
            "max_width": null,
            "order": null,
            "_view_module_version": "1.2.0",
            "grid_template_areas": null,
            "object_position": null,
            "object_fit": null,
            "grid_auto_columns": null,
            "margin": null,
            "display": null,
            "left": null
          }
        },
        "08245514389d45fbb93ac8d87f49a0d9": {
          "model_module": "@jupyter-widgets/controls",
          "model_name": "HBoxModel",
          "state": {
            "_view_name": "HBoxView",
            "_dom_classes": [],
            "_model_name": "HBoxModel",
            "_view_module": "@jupyter-widgets/controls",
            "_model_module_version": "1.5.0",
            "_view_count": null,
            "_view_module_version": "1.5.0",
            "box_style": "",
            "layout": "IPY_MODEL_2906cceb552649cd86d08bda8b1f37d3",
            "_model_module": "@jupyter-widgets/controls",
            "children": [
              "IPY_MODEL_e8779c3c332246bd9088ac5ea7484df9",
              "IPY_MODEL_4bd0f7f837d24cf4ab20a9fee1d15da1"
            ]
          }
        },
        "2906cceb552649cd86d08bda8b1f37d3": {
          "model_module": "@jupyter-widgets/base",
          "model_name": "LayoutModel",
          "state": {
            "_view_name": "LayoutView",
            "grid_template_rows": null,
            "right": null,
            "justify_content": null,
            "_view_module": "@jupyter-widgets/base",
            "overflow": null,
            "_model_module_version": "1.2.0",
            "_view_count": null,
            "flex_flow": null,
            "width": null,
            "min_width": null,
            "border": null,
            "align_items": null,
            "bottom": null,
            "_model_module": "@jupyter-widgets/base",
            "top": null,
            "grid_column": null,
            "overflow_y": null,
            "overflow_x": null,
            "grid_auto_flow": null,
            "grid_area": null,
            "grid_template_columns": null,
            "flex": null,
            "_model_name": "LayoutModel",
            "justify_items": null,
            "grid_row": null,
            "max_height": null,
            "align_content": null,
            "visibility": null,
            "align_self": null,
            "height": null,
            "min_height": null,
            "padding": null,
            "grid_auto_rows": null,
            "grid_gap": null,
            "max_width": null,
            "order": null,
            "_view_module_version": "1.2.0",
            "grid_template_areas": null,
            "object_position": null,
            "object_fit": null,
            "grid_auto_columns": null,
            "margin": null,
            "display": null,
            "left": null
          }
        },
        "e8779c3c332246bd9088ac5ea7484df9": {
          "model_module": "@jupyter-widgets/controls",
          "model_name": "FloatProgressModel",
          "state": {
            "_view_name": "ProgressView",
            "style": "IPY_MODEL_b46172c7636246bd8ccf4f32db664206",
            "_dom_classes": [],
            "description": "100%",
            "_model_name": "FloatProgressModel",
            "bar_style": "success",
            "max": 686,
            "_view_module": "@jupyter-widgets/controls",
            "_model_module_version": "1.5.0",
            "value": 686,
            "_view_count": null,
            "_view_module_version": "1.5.0",
            "orientation": "horizontal",
            "min": 0,
            "description_tooltip": null,
            "_model_module": "@jupyter-widgets/controls",
            "layout": "IPY_MODEL_be8fb766b7ec488db4f612a0717f34d3"
          }
        },
        "4bd0f7f837d24cf4ab20a9fee1d15da1": {
          "model_module": "@jupyter-widgets/controls",
          "model_name": "HTMLModel",
          "state": {
            "_view_name": "HTMLView",
            "style": "IPY_MODEL_1ace89e1ee67476cb636e0022c90e5c8",
            "_dom_classes": [],
            "description": "",
            "_model_name": "HTMLModel",
            "placeholder": "​",
            "_view_module": "@jupyter-widgets/controls",
            "_model_module_version": "1.5.0",
            "value": " 686/686 [10:52&lt;00:00,  1.05ex/s]",
            "_view_count": null,
            "_view_module_version": "1.5.0",
            "description_tooltip": null,
            "_model_module": "@jupyter-widgets/controls",
            "layout": "IPY_MODEL_ae46815365cd48c5868545c4f6f21d15"
          }
        },
        "b46172c7636246bd8ccf4f32db664206": {
          "model_module": "@jupyter-widgets/controls",
          "model_name": "ProgressStyleModel",
          "state": {
            "_view_name": "StyleView",
            "_model_name": "ProgressStyleModel",
            "description_width": "initial",
            "_view_module": "@jupyter-widgets/base",
            "_model_module_version": "1.5.0",
            "_view_count": null,
            "_view_module_version": "1.2.0",
            "bar_color": null,
            "_model_module": "@jupyter-widgets/controls"
          }
        },
        "be8fb766b7ec488db4f612a0717f34d3": {
          "model_module": "@jupyter-widgets/base",
          "model_name": "LayoutModel",
          "state": {
            "_view_name": "LayoutView",
            "grid_template_rows": null,
            "right": null,
            "justify_content": null,
            "_view_module": "@jupyter-widgets/base",
            "overflow": null,
            "_model_module_version": "1.2.0",
            "_view_count": null,
            "flex_flow": null,
            "width": null,
            "min_width": null,
            "border": null,
            "align_items": null,
            "bottom": null,
            "_model_module": "@jupyter-widgets/base",
            "top": null,
            "grid_column": null,
            "overflow_y": null,
            "overflow_x": null,
            "grid_auto_flow": null,
            "grid_area": null,
            "grid_template_columns": null,
            "flex": null,
            "_model_name": "LayoutModel",
            "justify_items": null,
            "grid_row": null,
            "max_height": null,
            "align_content": null,
            "visibility": null,
            "align_self": null,
            "height": null,
            "min_height": null,
            "padding": null,
            "grid_auto_rows": null,
            "grid_gap": null,
            "max_width": null,
            "order": null,
            "_view_module_version": "1.2.0",
            "grid_template_areas": null,
            "object_position": null,
            "object_fit": null,
            "grid_auto_columns": null,
            "margin": null,
            "display": null,
            "left": null
          }
        },
        "1ace89e1ee67476cb636e0022c90e5c8": {
          "model_module": "@jupyter-widgets/controls",
          "model_name": "DescriptionStyleModel",
          "state": {
            "_view_name": "StyleView",
            "_model_name": "DescriptionStyleModel",
            "description_width": "",
            "_view_module": "@jupyter-widgets/base",
            "_model_module_version": "1.5.0",
            "_view_count": null,
            "_view_module_version": "1.2.0",
            "_model_module": "@jupyter-widgets/controls"
          }
        },
        "ae46815365cd48c5868545c4f6f21d15": {
          "model_module": "@jupyter-widgets/base",
          "model_name": "LayoutModel",
          "state": {
            "_view_name": "LayoutView",
            "grid_template_rows": null,
            "right": null,
            "justify_content": null,
            "_view_module": "@jupyter-widgets/base",
            "overflow": null,
            "_model_module_version": "1.2.0",
            "_view_count": null,
            "flex_flow": null,
            "width": null,
            "min_width": null,
            "border": null,
            "align_items": null,
            "bottom": null,
            "_model_module": "@jupyter-widgets/base",
            "top": null,
            "grid_column": null,
            "overflow_y": null,
            "overflow_x": null,
            "grid_auto_flow": null,
            "grid_area": null,
            "grid_template_columns": null,
            "flex": null,
            "_model_name": "LayoutModel",
            "justify_items": null,
            "grid_row": null,
            "max_height": null,
            "align_content": null,
            "visibility": null,
            "align_self": null,
            "height": null,
            "min_height": null,
            "padding": null,
            "grid_auto_rows": null,
            "grid_gap": null,
            "max_width": null,
            "order": null,
            "_view_module_version": "1.2.0",
            "grid_template_areas": null,
            "object_position": null,
            "object_fit": null,
            "grid_auto_columns": null,
            "margin": null,
            "display": null,
            "left": null
          }
        },
        "2d8bb94c5e0740a883e546b29bd90087": {
          "model_module": "@jupyter-widgets/controls",
          "model_name": "HBoxModel",
          "state": {
            "_view_name": "HBoxView",
            "_dom_classes": [],
            "_model_name": "HBoxModel",
            "_view_module": "@jupyter-widgets/controls",
            "_model_module_version": "1.5.0",
            "_view_count": null,
            "_view_module_version": "1.5.0",
            "box_style": "",
            "layout": "IPY_MODEL_311af989165e4f98bdceda46eb2aeec5",
            "_model_module": "@jupyter-widgets/controls",
            "children": [
              "IPY_MODEL_df62f913234046be9daff1a1a24d1605",
              "IPY_MODEL_584d9d240a8b442c998cb3355a2db4a4"
            ]
          }
        },
        "311af989165e4f98bdceda46eb2aeec5": {
          "model_module": "@jupyter-widgets/base",
          "model_name": "LayoutModel",
          "state": {
            "_view_name": "LayoutView",
            "grid_template_rows": null,
            "right": null,
            "justify_content": null,
            "_view_module": "@jupyter-widgets/base",
            "overflow": null,
            "_model_module_version": "1.2.0",
            "_view_count": null,
            "flex_flow": null,
            "width": null,
            "min_width": null,
            "border": null,
            "align_items": null,
            "bottom": null,
            "_model_module": "@jupyter-widgets/base",
            "top": null,
            "grid_column": null,
            "overflow_y": null,
            "overflow_x": null,
            "grid_auto_flow": null,
            "grid_area": null,
            "grid_template_columns": null,
            "flex": null,
            "_model_name": "LayoutModel",
            "justify_items": null,
            "grid_row": null,
            "max_height": null,
            "align_content": null,
            "visibility": null,
            "align_self": null,
            "height": null,
            "min_height": null,
            "padding": null,
            "grid_auto_rows": null,
            "grid_gap": null,
            "max_width": null,
            "order": null,
            "_view_module_version": "1.2.0",
            "grid_template_areas": null,
            "object_position": null,
            "object_fit": null,
            "grid_auto_columns": null,
            "margin": null,
            "display": null,
            "left": null
          }
        },
        "df62f913234046be9daff1a1a24d1605": {
          "model_module": "@jupyter-widgets/controls",
          "model_name": "FloatProgressModel",
          "state": {
            "_view_name": "ProgressView",
            "style": "IPY_MODEL_900f5849e05647f681ed31e2b2e2b702",
            "_dom_classes": [],
            "description": "100%",
            "_model_name": "FloatProgressModel",
            "bar_style": "success",
            "max": 686,
            "_view_module": "@jupyter-widgets/controls",
            "_model_module_version": "1.5.0",
            "value": 686,
            "_view_count": null,
            "_view_module_version": "1.5.0",
            "orientation": "horizontal",
            "min": 0,
            "description_tooltip": null,
            "_model_module": "@jupyter-widgets/controls",
            "layout": "IPY_MODEL_1e5f5f70ea1549b09aae5f00e4bd10cd"
          }
        },
        "584d9d240a8b442c998cb3355a2db4a4": {
          "model_module": "@jupyter-widgets/controls",
          "model_name": "HTMLModel",
          "state": {
            "_view_name": "HTMLView",
            "style": "IPY_MODEL_71d2fbee63d94430b63a6cb89f1f2837",
            "_dom_classes": [],
            "description": "",
            "_model_name": "HTMLModel",
            "placeholder": "​",
            "_view_module": "@jupyter-widgets/controls",
            "_model_module_version": "1.5.0",
            "value": " 686/686 [10:51&lt;00:00,  1.05ex/s]",
            "_view_count": null,
            "_view_module_version": "1.5.0",
            "description_tooltip": null,
            "_model_module": "@jupyter-widgets/controls",
            "layout": "IPY_MODEL_ccd7671e09344b90b4aab20c030d19d4"
          }
        },
        "900f5849e05647f681ed31e2b2e2b702": {
          "model_module": "@jupyter-widgets/controls",
          "model_name": "ProgressStyleModel",
          "state": {
            "_view_name": "StyleView",
            "_model_name": "ProgressStyleModel",
            "description_width": "initial",
            "_view_module": "@jupyter-widgets/base",
            "_model_module_version": "1.5.0",
            "_view_count": null,
            "_view_module_version": "1.2.0",
            "bar_color": null,
            "_model_module": "@jupyter-widgets/controls"
          }
        },
        "1e5f5f70ea1549b09aae5f00e4bd10cd": {
          "model_module": "@jupyter-widgets/base",
          "model_name": "LayoutModel",
          "state": {
            "_view_name": "LayoutView",
            "grid_template_rows": null,
            "right": null,
            "justify_content": null,
            "_view_module": "@jupyter-widgets/base",
            "overflow": null,
            "_model_module_version": "1.2.0",
            "_view_count": null,
            "flex_flow": null,
            "width": null,
            "min_width": null,
            "border": null,
            "align_items": null,
            "bottom": null,
            "_model_module": "@jupyter-widgets/base",
            "top": null,
            "grid_column": null,
            "overflow_y": null,
            "overflow_x": null,
            "grid_auto_flow": null,
            "grid_area": null,
            "grid_template_columns": null,
            "flex": null,
            "_model_name": "LayoutModel",
            "justify_items": null,
            "grid_row": null,
            "max_height": null,
            "align_content": null,
            "visibility": null,
            "align_self": null,
            "height": null,
            "min_height": null,
            "padding": null,
            "grid_auto_rows": null,
            "grid_gap": null,
            "max_width": null,
            "order": null,
            "_view_module_version": "1.2.0",
            "grid_template_areas": null,
            "object_position": null,
            "object_fit": null,
            "grid_auto_columns": null,
            "margin": null,
            "display": null,
            "left": null
          }
        },
        "71d2fbee63d94430b63a6cb89f1f2837": {
          "model_module": "@jupyter-widgets/controls",
          "model_name": "DescriptionStyleModel",
          "state": {
            "_view_name": "StyleView",
            "_model_name": "DescriptionStyleModel",
            "description_width": "",
            "_view_module": "@jupyter-widgets/base",
            "_model_module_version": "1.5.0",
            "_view_count": null,
            "_view_module_version": "1.2.0",
            "_model_module": "@jupyter-widgets/controls"
          }
        },
        "ccd7671e09344b90b4aab20c030d19d4": {
          "model_module": "@jupyter-widgets/base",
          "model_name": "LayoutModel",
          "state": {
            "_view_name": "LayoutView",
            "grid_template_rows": null,
            "right": null,
            "justify_content": null,
            "_view_module": "@jupyter-widgets/base",
            "overflow": null,
            "_model_module_version": "1.2.0",
            "_view_count": null,
            "flex_flow": null,
            "width": null,
            "min_width": null,
            "border": null,
            "align_items": null,
            "bottom": null,
            "_model_module": "@jupyter-widgets/base",
            "top": null,
            "grid_column": null,
            "overflow_y": null,
            "overflow_x": null,
            "grid_auto_flow": null,
            "grid_area": null,
            "grid_template_columns": null,
            "flex": null,
            "_model_name": "LayoutModel",
            "justify_items": null,
            "grid_row": null,
            "max_height": null,
            "align_content": null,
            "visibility": null,
            "align_self": null,
            "height": null,
            "min_height": null,
            "padding": null,
            "grid_auto_rows": null,
            "grid_gap": null,
            "max_width": null,
            "order": null,
            "_view_module_version": "1.2.0",
            "grid_template_areas": null,
            "object_position": null,
            "object_fit": null,
            "grid_auto_columns": null,
            "margin": null,
            "display": null,
            "left": null
          }
        },
        "cff3c4345e1541e6adcea80ac9869775": {
          "model_module": "@jupyter-widgets/controls",
          "model_name": "HBoxModel",
          "state": {
            "_view_name": "HBoxView",
            "_dom_classes": [],
            "_model_name": "HBoxModel",
            "_view_module": "@jupyter-widgets/controls",
            "_model_module_version": "1.5.0",
            "_view_count": null,
            "_view_module_version": "1.5.0",
            "box_style": "",
            "layout": "IPY_MODEL_7e534c37cd9e4a1f8a33db00efd81a33",
            "_model_module": "@jupyter-widgets/controls",
            "children": [
              "IPY_MODEL_c2c0d0d437d54e30ae76fc8a7aa1b83b",
              "IPY_MODEL_0b15a1a6deba4d70884eecd0c1002013"
            ]
          }
        },
        "7e534c37cd9e4a1f8a33db00efd81a33": {
          "model_module": "@jupyter-widgets/base",
          "model_name": "LayoutModel",
          "state": {
            "_view_name": "LayoutView",
            "grid_template_rows": null,
            "right": null,
            "justify_content": null,
            "_view_module": "@jupyter-widgets/base",
            "overflow": null,
            "_model_module_version": "1.2.0",
            "_view_count": null,
            "flex_flow": null,
            "width": null,
            "min_width": null,
            "border": null,
            "align_items": null,
            "bottom": null,
            "_model_module": "@jupyter-widgets/base",
            "top": null,
            "grid_column": null,
            "overflow_y": null,
            "overflow_x": null,
            "grid_auto_flow": null,
            "grid_area": null,
            "grid_template_columns": null,
            "flex": null,
            "_model_name": "LayoutModel",
            "justify_items": null,
            "grid_row": null,
            "max_height": null,
            "align_content": null,
            "visibility": null,
            "align_self": null,
            "height": null,
            "min_height": null,
            "padding": null,
            "grid_auto_rows": null,
            "grid_gap": null,
            "max_width": null,
            "order": null,
            "_view_module_version": "1.2.0",
            "grid_template_areas": null,
            "object_position": null,
            "object_fit": null,
            "grid_auto_columns": null,
            "margin": null,
            "display": null,
            "left": null
          }
        },
        "c2c0d0d437d54e30ae76fc8a7aa1b83b": {
          "model_module": "@jupyter-widgets/controls",
          "model_name": "FloatProgressModel",
          "state": {
            "_view_name": "ProgressView",
            "style": "IPY_MODEL_12341ed747bc47219939d83c24f5f3d2",
            "_dom_classes": [],
            "description": "100%",
            "_model_name": "FloatProgressModel",
            "bar_style": "success",
            "max": 1,
            "_view_module": "@jupyter-widgets/controls",
            "_model_module_version": "1.5.0",
            "value": 1,
            "_view_count": null,
            "_view_module_version": "1.5.0",
            "orientation": "horizontal",
            "min": 0,
            "description_tooltip": null,
            "_model_module": "@jupyter-widgets/controls",
            "layout": "IPY_MODEL_559d1430f49043e9967097ed5a636af0"
          }
        },
        "0b15a1a6deba4d70884eecd0c1002013": {
          "model_module": "@jupyter-widgets/controls",
          "model_name": "HTMLModel",
          "state": {
            "_view_name": "HTMLView",
            "style": "IPY_MODEL_d9409aa97a024c53b21499dc9a8a9324",
            "_dom_classes": [],
            "description": "",
            "_model_name": "HTMLModel",
            "placeholder": "​",
            "_view_module": "@jupyter-widgets/controls",
            "_model_module_version": "1.5.0",
            "value": " 1/1 [00:15&lt;00:00, 15.16s/ba]",
            "_view_count": null,
            "_view_module_version": "1.5.0",
            "description_tooltip": null,
            "_model_module": "@jupyter-widgets/controls",
            "layout": "IPY_MODEL_796fe2361d5c4876ad01b0c54e3b6684"
          }
        },
        "12341ed747bc47219939d83c24f5f3d2": {
          "model_module": "@jupyter-widgets/controls",
          "model_name": "ProgressStyleModel",
          "state": {
            "_view_name": "StyleView",
            "_model_name": "ProgressStyleModel",
            "description_width": "initial",
            "_view_module": "@jupyter-widgets/base",
            "_model_module_version": "1.5.0",
            "_view_count": null,
            "_view_module_version": "1.2.0",
            "bar_color": null,
            "_model_module": "@jupyter-widgets/controls"
          }
        },
        "559d1430f49043e9967097ed5a636af0": {
          "model_module": "@jupyter-widgets/base",
          "model_name": "LayoutModel",
          "state": {
            "_view_name": "LayoutView",
            "grid_template_rows": null,
            "right": null,
            "justify_content": null,
            "_view_module": "@jupyter-widgets/base",
            "overflow": null,
            "_model_module_version": "1.2.0",
            "_view_count": null,
            "flex_flow": null,
            "width": null,
            "min_width": null,
            "border": null,
            "align_items": null,
            "bottom": null,
            "_model_module": "@jupyter-widgets/base",
            "top": null,
            "grid_column": null,
            "overflow_y": null,
            "overflow_x": null,
            "grid_auto_flow": null,
            "grid_area": null,
            "grid_template_columns": null,
            "flex": null,
            "_model_name": "LayoutModel",
            "justify_items": null,
            "grid_row": null,
            "max_height": null,
            "align_content": null,
            "visibility": null,
            "align_self": null,
            "height": null,
            "min_height": null,
            "padding": null,
            "grid_auto_rows": null,
            "grid_gap": null,
            "max_width": null,
            "order": null,
            "_view_module_version": "1.2.0",
            "grid_template_areas": null,
            "object_position": null,
            "object_fit": null,
            "grid_auto_columns": null,
            "margin": null,
            "display": null,
            "left": null
          }
        },
        "d9409aa97a024c53b21499dc9a8a9324": {
          "model_module": "@jupyter-widgets/controls",
          "model_name": "DescriptionStyleModel",
          "state": {
            "_view_name": "StyleView",
            "_model_name": "DescriptionStyleModel",
            "description_width": "",
            "_view_module": "@jupyter-widgets/base",
            "_model_module_version": "1.5.0",
            "_view_count": null,
            "_view_module_version": "1.2.0",
            "_model_module": "@jupyter-widgets/controls"
          }
        },
        "796fe2361d5c4876ad01b0c54e3b6684": {
          "model_module": "@jupyter-widgets/base",
          "model_name": "LayoutModel",
          "state": {
            "_view_name": "LayoutView",
            "grid_template_rows": null,
            "right": null,
            "justify_content": null,
            "_view_module": "@jupyter-widgets/base",
            "overflow": null,
            "_model_module_version": "1.2.0",
            "_view_count": null,
            "flex_flow": null,
            "width": null,
            "min_width": null,
            "border": null,
            "align_items": null,
            "bottom": null,
            "_model_module": "@jupyter-widgets/base",
            "top": null,
            "grid_column": null,
            "overflow_y": null,
            "overflow_x": null,
            "grid_auto_flow": null,
            "grid_area": null,
            "grid_template_columns": null,
            "flex": null,
            "_model_name": "LayoutModel",
            "justify_items": null,
            "grid_row": null,
            "max_height": null,
            "align_content": null,
            "visibility": null,
            "align_self": null,
            "height": null,
            "min_height": null,
            "padding": null,
            "grid_auto_rows": null,
            "grid_gap": null,
            "max_width": null,
            "order": null,
            "_view_module_version": "1.2.0",
            "grid_template_areas": null,
            "object_position": null,
            "object_fit": null,
            "grid_auto_columns": null,
            "margin": null,
            "display": null,
            "left": null
          }
        },
        "a323cca947be48fc94eb3989ab8a3ed1": {
          "model_module": "@jupyter-widgets/controls",
          "model_name": "HBoxModel",
          "state": {
            "_view_name": "HBoxView",
            "_dom_classes": [],
            "_model_name": "HBoxModel",
            "_view_module": "@jupyter-widgets/controls",
            "_model_module_version": "1.5.0",
            "_view_count": null,
            "_view_module_version": "1.5.0",
            "box_style": "",
            "layout": "IPY_MODEL_f78c582591b64712a0664606fc8e3327",
            "_model_module": "@jupyter-widgets/controls",
            "children": [
              "IPY_MODEL_e9efedf3cb3047dfac7bd57a89c17b84",
              "IPY_MODEL_e9fe9220749840c9af3c226db285f977"
            ]
          }
        },
        "f78c582591b64712a0664606fc8e3327": {
          "model_module": "@jupyter-widgets/base",
          "model_name": "LayoutModel",
          "state": {
            "_view_name": "LayoutView",
            "grid_template_rows": null,
            "right": null,
            "justify_content": null,
            "_view_module": "@jupyter-widgets/base",
            "overflow": null,
            "_model_module_version": "1.2.0",
            "_view_count": null,
            "flex_flow": null,
            "width": null,
            "min_width": null,
            "border": null,
            "align_items": null,
            "bottom": null,
            "_model_module": "@jupyter-widgets/base",
            "top": null,
            "grid_column": null,
            "overflow_y": null,
            "overflow_x": null,
            "grid_auto_flow": null,
            "grid_area": null,
            "grid_template_columns": null,
            "flex": null,
            "_model_name": "LayoutModel",
            "justify_items": null,
            "grid_row": null,
            "max_height": null,
            "align_content": null,
            "visibility": null,
            "align_self": null,
            "height": null,
            "min_height": null,
            "padding": null,
            "grid_auto_rows": null,
            "grid_gap": null,
            "max_width": null,
            "order": null,
            "_view_module_version": "1.2.0",
            "grid_template_areas": null,
            "object_position": null,
            "object_fit": null,
            "grid_auto_columns": null,
            "margin": null,
            "display": null,
            "left": null
          }
        },
        "e9efedf3cb3047dfac7bd57a89c17b84": {
          "model_module": "@jupyter-widgets/controls",
          "model_name": "FloatProgressModel",
          "state": {
            "_view_name": "ProgressView",
            "style": "IPY_MODEL_2b58c0006802491c8c53766bc77fc42c",
            "_dom_classes": [],
            "description": "100%",
            "_model_name": "FloatProgressModel",
            "bar_style": "success",
            "max": 1,
            "_view_module": "@jupyter-widgets/controls",
            "_model_module_version": "1.5.0",
            "value": 1,
            "_view_count": null,
            "_view_module_version": "1.5.0",
            "orientation": "horizontal",
            "min": 0,
            "description_tooltip": null,
            "_model_module": "@jupyter-widgets/controls",
            "layout": "IPY_MODEL_ea46855ca5a34cff83af504db6458706"
          }
        },
        "e9fe9220749840c9af3c226db285f977": {
          "model_module": "@jupyter-widgets/controls",
          "model_name": "HTMLModel",
          "state": {
            "_view_name": "HTMLView",
            "style": "IPY_MODEL_f191f2296f1d4e018517e96adc1c0845",
            "_dom_classes": [],
            "description": "",
            "_model_name": "HTMLModel",
            "placeholder": "​",
            "_view_module": "@jupyter-widgets/controls",
            "_model_module_version": "1.5.0",
            "value": " 1/1 [00:04&lt;00:00,  4.73s/ba]",
            "_view_count": null,
            "_view_module_version": "1.5.0",
            "description_tooltip": null,
            "_model_module": "@jupyter-widgets/controls",
            "layout": "IPY_MODEL_679929fdbbc44d48b8fa905470faebac"
          }
        },
        "2b58c0006802491c8c53766bc77fc42c": {
          "model_module": "@jupyter-widgets/controls",
          "model_name": "ProgressStyleModel",
          "state": {
            "_view_name": "StyleView",
            "_model_name": "ProgressStyleModel",
            "description_width": "initial",
            "_view_module": "@jupyter-widgets/base",
            "_model_module_version": "1.5.0",
            "_view_count": null,
            "_view_module_version": "1.2.0",
            "bar_color": null,
            "_model_module": "@jupyter-widgets/controls"
          }
        },
        "ea46855ca5a34cff83af504db6458706": {
          "model_module": "@jupyter-widgets/base",
          "model_name": "LayoutModel",
          "state": {
            "_view_name": "LayoutView",
            "grid_template_rows": null,
            "right": null,
            "justify_content": null,
            "_view_module": "@jupyter-widgets/base",
            "overflow": null,
            "_model_module_version": "1.2.0",
            "_view_count": null,
            "flex_flow": null,
            "width": null,
            "min_width": null,
            "border": null,
            "align_items": null,
            "bottom": null,
            "_model_module": "@jupyter-widgets/base",
            "top": null,
            "grid_column": null,
            "overflow_y": null,
            "overflow_x": null,
            "grid_auto_flow": null,
            "grid_area": null,
            "grid_template_columns": null,
            "flex": null,
            "_model_name": "LayoutModel",
            "justify_items": null,
            "grid_row": null,
            "max_height": null,
            "align_content": null,
            "visibility": null,
            "align_self": null,
            "height": null,
            "min_height": null,
            "padding": null,
            "grid_auto_rows": null,
            "grid_gap": null,
            "max_width": null,
            "order": null,
            "_view_module_version": "1.2.0",
            "grid_template_areas": null,
            "object_position": null,
            "object_fit": null,
            "grid_auto_columns": null,
            "margin": null,
            "display": null,
            "left": null
          }
        },
        "f191f2296f1d4e018517e96adc1c0845": {
          "model_module": "@jupyter-widgets/controls",
          "model_name": "DescriptionStyleModel",
          "state": {
            "_view_name": "StyleView",
            "_model_name": "DescriptionStyleModel",
            "description_width": "",
            "_view_module": "@jupyter-widgets/base",
            "_model_module_version": "1.5.0",
            "_view_count": null,
            "_view_module_version": "1.2.0",
            "_model_module": "@jupyter-widgets/controls"
          }
        },
        "679929fdbbc44d48b8fa905470faebac": {
          "model_module": "@jupyter-widgets/base",
          "model_name": "LayoutModel",
          "state": {
            "_view_name": "LayoutView",
            "grid_template_rows": null,
            "right": null,
            "justify_content": null,
            "_view_module": "@jupyter-widgets/base",
            "overflow": null,
            "_model_module_version": "1.2.0",
            "_view_count": null,
            "flex_flow": null,
            "width": null,
            "min_width": null,
            "border": null,
            "align_items": null,
            "bottom": null,
            "_model_module": "@jupyter-widgets/base",
            "top": null,
            "grid_column": null,
            "overflow_y": null,
            "overflow_x": null,
            "grid_auto_flow": null,
            "grid_area": null,
            "grid_template_columns": null,
            "flex": null,
            "_model_name": "LayoutModel",
            "justify_items": null,
            "grid_row": null,
            "max_height": null,
            "align_content": null,
            "visibility": null,
            "align_self": null,
            "height": null,
            "min_height": null,
            "padding": null,
            "grid_auto_rows": null,
            "grid_gap": null,
            "max_width": null,
            "order": null,
            "_view_module_version": "1.2.0",
            "grid_template_areas": null,
            "object_position": null,
            "object_fit": null,
            "grid_auto_columns": null,
            "margin": null,
            "display": null,
            "left": null
          }
        },
        "ec9e7cbc5401494d8cd3ebe6306dcd51": {
          "model_module": "@jupyter-widgets/controls",
          "model_name": "HBoxModel",
          "state": {
            "_view_name": "HBoxView",
            "_dom_classes": [],
            "_model_name": "HBoxModel",
            "_view_module": "@jupyter-widgets/controls",
            "_model_module_version": "1.5.0",
            "_view_count": null,
            "_view_module_version": "1.5.0",
            "box_style": "",
            "layout": "IPY_MODEL_acc056aeb57b4c75b867e9a07d011058",
            "_model_module": "@jupyter-widgets/controls",
            "children": [
              "IPY_MODEL_22f3cba49cd04696a509b2fa2dcc5a37",
              "IPY_MODEL_d1a4c2c37d614107a0d7178a31400d45"
            ]
          }
        },
        "acc056aeb57b4c75b867e9a07d011058": {
          "model_module": "@jupyter-widgets/base",
          "model_name": "LayoutModel",
          "state": {
            "_view_name": "LayoutView",
            "grid_template_rows": null,
            "right": null,
            "justify_content": null,
            "_view_module": "@jupyter-widgets/base",
            "overflow": null,
            "_model_module_version": "1.2.0",
            "_view_count": null,
            "flex_flow": null,
            "width": null,
            "min_width": null,
            "border": null,
            "align_items": null,
            "bottom": null,
            "_model_module": "@jupyter-widgets/base",
            "top": null,
            "grid_column": null,
            "overflow_y": null,
            "overflow_x": null,
            "grid_auto_flow": null,
            "grid_area": null,
            "grid_template_columns": null,
            "flex": null,
            "_model_name": "LayoutModel",
            "justify_items": null,
            "grid_row": null,
            "max_height": null,
            "align_content": null,
            "visibility": null,
            "align_self": null,
            "height": null,
            "min_height": null,
            "padding": null,
            "grid_auto_rows": null,
            "grid_gap": null,
            "max_width": null,
            "order": null,
            "_view_module_version": "1.2.0",
            "grid_template_areas": null,
            "object_position": null,
            "object_fit": null,
            "grid_auto_columns": null,
            "margin": null,
            "display": null,
            "left": null
          }
        },
        "22f3cba49cd04696a509b2fa2dcc5a37": {
          "model_module": "@jupyter-widgets/controls",
          "model_name": "FloatProgressModel",
          "state": {
            "_view_name": "ProgressView",
            "style": "IPY_MODEL_226d772a493d40adb7fad1665bc4245e",
            "_dom_classes": [],
            "description": "100%",
            "_model_name": "FloatProgressModel",
            "bar_style": "success",
            "max": 686,
            "_view_module": "@jupyter-widgets/controls",
            "_model_module_version": "1.5.0",
            "value": 686,
            "_view_count": null,
            "_view_module_version": "1.5.0",
            "orientation": "horizontal",
            "min": 0,
            "description_tooltip": null,
            "_model_module": "@jupyter-widgets/controls",
            "layout": "IPY_MODEL_ced337e6ac704d47933238623ce84930"
          }
        },
        "d1a4c2c37d614107a0d7178a31400d45": {
          "model_module": "@jupyter-widgets/controls",
          "model_name": "HTMLModel",
          "state": {
            "_view_name": "HTMLView",
            "style": "IPY_MODEL_332ecf99c0da4311931fd101cbbbd950",
            "_dom_classes": [],
            "description": "",
            "_model_name": "HTMLModel",
            "placeholder": "​",
            "_view_module": "@jupyter-widgets/controls",
            "_model_module_version": "1.5.0",
            "value": " 686/686 [04:54&lt;00:00,  2.33ex/s]",
            "_view_count": null,
            "_view_module_version": "1.5.0",
            "description_tooltip": null,
            "_model_module": "@jupyter-widgets/controls",
            "layout": "IPY_MODEL_8f7d9c38a7854fb8b82fb3a1b095eb6d"
          }
        },
        "226d772a493d40adb7fad1665bc4245e": {
          "model_module": "@jupyter-widgets/controls",
          "model_name": "ProgressStyleModel",
          "state": {
            "_view_name": "StyleView",
            "_model_name": "ProgressStyleModel",
            "description_width": "initial",
            "_view_module": "@jupyter-widgets/base",
            "_model_module_version": "1.5.0",
            "_view_count": null,
            "_view_module_version": "1.2.0",
            "bar_color": null,
            "_model_module": "@jupyter-widgets/controls"
          }
        },
        "ced337e6ac704d47933238623ce84930": {
          "model_module": "@jupyter-widgets/base",
          "model_name": "LayoutModel",
          "state": {
            "_view_name": "LayoutView",
            "grid_template_rows": null,
            "right": null,
            "justify_content": null,
            "_view_module": "@jupyter-widgets/base",
            "overflow": null,
            "_model_module_version": "1.2.0",
            "_view_count": null,
            "flex_flow": null,
            "width": null,
            "min_width": null,
            "border": null,
            "align_items": null,
            "bottom": null,
            "_model_module": "@jupyter-widgets/base",
            "top": null,
            "grid_column": null,
            "overflow_y": null,
            "overflow_x": null,
            "grid_auto_flow": null,
            "grid_area": null,
            "grid_template_columns": null,
            "flex": null,
            "_model_name": "LayoutModel",
            "justify_items": null,
            "grid_row": null,
            "max_height": null,
            "align_content": null,
            "visibility": null,
            "align_self": null,
            "height": null,
            "min_height": null,
            "padding": null,
            "grid_auto_rows": null,
            "grid_gap": null,
            "max_width": null,
            "order": null,
            "_view_module_version": "1.2.0",
            "grid_template_areas": null,
            "object_position": null,
            "object_fit": null,
            "grid_auto_columns": null,
            "margin": null,
            "display": null,
            "left": null
          }
        },
        "332ecf99c0da4311931fd101cbbbd950": {
          "model_module": "@jupyter-widgets/controls",
          "model_name": "DescriptionStyleModel",
          "state": {
            "_view_name": "StyleView",
            "_model_name": "DescriptionStyleModel",
            "description_width": "",
            "_view_module": "@jupyter-widgets/base",
            "_model_module_version": "1.5.0",
            "_view_count": null,
            "_view_module_version": "1.2.0",
            "_model_module": "@jupyter-widgets/controls"
          }
        },
        "8f7d9c38a7854fb8b82fb3a1b095eb6d": {
          "model_module": "@jupyter-widgets/base",
          "model_name": "LayoutModel",
          "state": {
            "_view_name": "LayoutView",
            "grid_template_rows": null,
            "right": null,
            "justify_content": null,
            "_view_module": "@jupyter-widgets/base",
            "overflow": null,
            "_model_module_version": "1.2.0",
            "_view_count": null,
            "flex_flow": null,
            "width": null,
            "min_width": null,
            "border": null,
            "align_items": null,
            "bottom": null,
            "_model_module": "@jupyter-widgets/base",
            "top": null,
            "grid_column": null,
            "overflow_y": null,
            "overflow_x": null,
            "grid_auto_flow": null,
            "grid_area": null,
            "grid_template_columns": null,
            "flex": null,
            "_model_name": "LayoutModel",
            "justify_items": null,
            "grid_row": null,
            "max_height": null,
            "align_content": null,
            "visibility": null,
            "align_self": null,
            "height": null,
            "min_height": null,
            "padding": null,
            "grid_auto_rows": null,
            "grid_gap": null,
            "max_width": null,
            "order": null,
            "_view_module_version": "1.2.0",
            "grid_template_areas": null,
            "object_position": null,
            "object_fit": null,
            "grid_auto_columns": null,
            "margin": null,
            "display": null,
            "left": null
          }
        },
        "68d136a255c442d6a2758b127aecfa0f": {
          "model_module": "@jupyter-widgets/controls",
          "model_name": "HBoxModel",
          "state": {
            "_view_name": "HBoxView",
            "_dom_classes": [],
            "_model_name": "HBoxModel",
            "_view_module": "@jupyter-widgets/controls",
            "_model_module_version": "1.5.0",
            "_view_count": null,
            "_view_module_version": "1.5.0",
            "box_style": "",
            "layout": "IPY_MODEL_78000f8c84374bb1b368155e90a5561f",
            "_model_module": "@jupyter-widgets/controls",
            "children": [
              "IPY_MODEL_fd2d15ce583c4ad58922b56ffe0d9486",
              "IPY_MODEL_69a9fe71a2e545f18b1728fbde6822f7"
            ]
          }
        },
        "78000f8c84374bb1b368155e90a5561f": {
          "model_module": "@jupyter-widgets/base",
          "model_name": "LayoutModel",
          "state": {
            "_view_name": "LayoutView",
            "grid_template_rows": null,
            "right": null,
            "justify_content": null,
            "_view_module": "@jupyter-widgets/base",
            "overflow": null,
            "_model_module_version": "1.2.0",
            "_view_count": null,
            "flex_flow": null,
            "width": null,
            "min_width": null,
            "border": null,
            "align_items": null,
            "bottom": null,
            "_model_module": "@jupyter-widgets/base",
            "top": null,
            "grid_column": null,
            "overflow_y": null,
            "overflow_x": null,
            "grid_auto_flow": null,
            "grid_area": null,
            "grid_template_columns": null,
            "flex": null,
            "_model_name": "LayoutModel",
            "justify_items": null,
            "grid_row": null,
            "max_height": null,
            "align_content": null,
            "visibility": null,
            "align_self": null,
            "height": null,
            "min_height": null,
            "padding": null,
            "grid_auto_rows": null,
            "grid_gap": null,
            "max_width": null,
            "order": null,
            "_view_module_version": "1.2.0",
            "grid_template_areas": null,
            "object_position": null,
            "object_fit": null,
            "grid_auto_columns": null,
            "margin": null,
            "display": null,
            "left": null
          }
        },
        "fd2d15ce583c4ad58922b56ffe0d9486": {
          "model_module": "@jupyter-widgets/controls",
          "model_name": "FloatProgressModel",
          "state": {
            "_view_name": "ProgressView",
            "style": "IPY_MODEL_3c605163b0914f508c6ab9a6d770ca81",
            "_dom_classes": [],
            "description": "100%",
            "_model_name": "FloatProgressModel",
            "bar_style": "success",
            "max": 686,
            "_view_module": "@jupyter-widgets/controls",
            "_model_module_version": "1.5.0",
            "value": 686,
            "_view_count": null,
            "_view_module_version": "1.5.0",
            "orientation": "horizontal",
            "min": 0,
            "description_tooltip": null,
            "_model_module": "@jupyter-widgets/controls",
            "layout": "IPY_MODEL_11d19474f900466ca553d85941107bc3"
          }
        },
        "69a9fe71a2e545f18b1728fbde6822f7": {
          "model_module": "@jupyter-widgets/controls",
          "model_name": "HTMLModel",
          "state": {
            "_view_name": "HTMLView",
            "style": "IPY_MODEL_5af2f91a03b24b2f9b1bd55c8ebe7b0d",
            "_dom_classes": [],
            "description": "",
            "_model_name": "HTMLModel",
            "placeholder": "​",
            "_view_module": "@jupyter-widgets/controls",
            "_model_module_version": "1.5.0",
            "value": " 686/686 [02:24&lt;00:00,  4.75ex/s]",
            "_view_count": null,
            "_view_module_version": "1.5.0",
            "description_tooltip": null,
            "_model_module": "@jupyter-widgets/controls",
            "layout": "IPY_MODEL_86d1137769774e8bb564ade4097f02fa"
          }
        },
        "3c605163b0914f508c6ab9a6d770ca81": {
          "model_module": "@jupyter-widgets/controls",
          "model_name": "ProgressStyleModel",
          "state": {
            "_view_name": "StyleView",
            "_model_name": "ProgressStyleModel",
            "description_width": "initial",
            "_view_module": "@jupyter-widgets/base",
            "_model_module_version": "1.5.0",
            "_view_count": null,
            "_view_module_version": "1.2.0",
            "bar_color": null,
            "_model_module": "@jupyter-widgets/controls"
          }
        },
        "11d19474f900466ca553d85941107bc3": {
          "model_module": "@jupyter-widgets/base",
          "model_name": "LayoutModel",
          "state": {
            "_view_name": "LayoutView",
            "grid_template_rows": null,
            "right": null,
            "justify_content": null,
            "_view_module": "@jupyter-widgets/base",
            "overflow": null,
            "_model_module_version": "1.2.0",
            "_view_count": null,
            "flex_flow": null,
            "width": null,
            "min_width": null,
            "border": null,
            "align_items": null,
            "bottom": null,
            "_model_module": "@jupyter-widgets/base",
            "top": null,
            "grid_column": null,
            "overflow_y": null,
            "overflow_x": null,
            "grid_auto_flow": null,
            "grid_area": null,
            "grid_template_columns": null,
            "flex": null,
            "_model_name": "LayoutModel",
            "justify_items": null,
            "grid_row": null,
            "max_height": null,
            "align_content": null,
            "visibility": null,
            "align_self": null,
            "height": null,
            "min_height": null,
            "padding": null,
            "grid_auto_rows": null,
            "grid_gap": null,
            "max_width": null,
            "order": null,
            "_view_module_version": "1.2.0",
            "grid_template_areas": null,
            "object_position": null,
            "object_fit": null,
            "grid_auto_columns": null,
            "margin": null,
            "display": null,
            "left": null
          }
        },
        "5af2f91a03b24b2f9b1bd55c8ebe7b0d": {
          "model_module": "@jupyter-widgets/controls",
          "model_name": "DescriptionStyleModel",
          "state": {
            "_view_name": "StyleView",
            "_model_name": "DescriptionStyleModel",
            "description_width": "",
            "_view_module": "@jupyter-widgets/base",
            "_model_module_version": "1.5.0",
            "_view_count": null,
            "_view_module_version": "1.2.0",
            "_model_module": "@jupyter-widgets/controls"
          }
        },
        "86d1137769774e8bb564ade4097f02fa": {
          "model_module": "@jupyter-widgets/base",
          "model_name": "LayoutModel",
          "state": {
            "_view_name": "LayoutView",
            "grid_template_rows": null,
            "right": null,
            "justify_content": null,
            "_view_module": "@jupyter-widgets/base",
            "overflow": null,
            "_model_module_version": "1.2.0",
            "_view_count": null,
            "flex_flow": null,
            "width": null,
            "min_width": null,
            "border": null,
            "align_items": null,
            "bottom": null,
            "_model_module": "@jupyter-widgets/base",
            "top": null,
            "grid_column": null,
            "overflow_y": null,
            "overflow_x": null,
            "grid_auto_flow": null,
            "grid_area": null,
            "grid_template_columns": null,
            "flex": null,
            "_model_name": "LayoutModel",
            "justify_items": null,
            "grid_row": null,
            "max_height": null,
            "align_content": null,
            "visibility": null,
            "align_self": null,
            "height": null,
            "min_height": null,
            "padding": null,
            "grid_auto_rows": null,
            "grid_gap": null,
            "max_width": null,
            "order": null,
            "_view_module_version": "1.2.0",
            "grid_template_areas": null,
            "object_position": null,
            "object_fit": null,
            "grid_auto_columns": null,
            "margin": null,
            "display": null,
            "left": null
          }
        },
        "b285e475ae604b038d3752d425205493": {
          "model_module": "@jupyter-widgets/controls",
          "model_name": "HBoxModel",
          "state": {
            "_view_name": "HBoxView",
            "_dom_classes": [],
            "_model_name": "HBoxModel",
            "_view_module": "@jupyter-widgets/controls",
            "_model_module_version": "1.5.0",
            "_view_count": null,
            "_view_module_version": "1.5.0",
            "box_style": "",
            "layout": "IPY_MODEL_9ac7145b4285430985f94623db13cc17",
            "_model_module": "@jupyter-widgets/controls",
            "children": [
              "IPY_MODEL_42d637cd61d64be79470ba212b0b6788",
              "IPY_MODEL_a31699579c2742719ebbf39e6e213c32"
            ]
          }
        },
        "9ac7145b4285430985f94623db13cc17": {
          "model_module": "@jupyter-widgets/base",
          "model_name": "LayoutModel",
          "state": {
            "_view_name": "LayoutView",
            "grid_template_rows": null,
            "right": null,
            "justify_content": null,
            "_view_module": "@jupyter-widgets/base",
            "overflow": null,
            "_model_module_version": "1.2.0",
            "_view_count": null,
            "flex_flow": null,
            "width": null,
            "min_width": null,
            "border": null,
            "align_items": null,
            "bottom": null,
            "_model_module": "@jupyter-widgets/base",
            "top": null,
            "grid_column": null,
            "overflow_y": null,
            "overflow_x": null,
            "grid_auto_flow": null,
            "grid_area": null,
            "grid_template_columns": null,
            "flex": null,
            "_model_name": "LayoutModel",
            "justify_items": null,
            "grid_row": null,
            "max_height": null,
            "align_content": null,
            "visibility": null,
            "align_self": null,
            "height": null,
            "min_height": null,
            "padding": null,
            "grid_auto_rows": null,
            "grid_gap": null,
            "max_width": null,
            "order": null,
            "_view_module_version": "1.2.0",
            "grid_template_areas": null,
            "object_position": null,
            "object_fit": null,
            "grid_auto_columns": null,
            "margin": null,
            "display": null,
            "left": null
          }
        },
        "42d637cd61d64be79470ba212b0b6788": {
          "model_module": "@jupyter-widgets/controls",
          "model_name": "FloatProgressModel",
          "state": {
            "_view_name": "ProgressView",
            "style": "IPY_MODEL_39f5b5b029004811837eb99a8e63a2ad",
            "_dom_classes": [],
            "description": "#0: 100%",
            "_model_name": "FloatProgressModel",
            "bar_style": "success",
            "max": 172,
            "_view_module": "@jupyter-widgets/controls",
            "_model_module_version": "1.5.0",
            "value": 172,
            "_view_count": null,
            "_view_module_version": "1.5.0",
            "orientation": "horizontal",
            "min": 0,
            "description_tooltip": null,
            "_model_module": "@jupyter-widgets/controls",
            "layout": "IPY_MODEL_9e01058ad48a4dc3bfdf8e89cfd9c542"
          }
        },
        "a31699579c2742719ebbf39e6e213c32": {
          "model_module": "@jupyter-widgets/controls",
          "model_name": "HTMLModel",
          "state": {
            "_view_name": "HTMLView",
            "style": "IPY_MODEL_a46cde471b0b4edf9bb6a9c84899aaf6",
            "_dom_classes": [],
            "description": "",
            "_model_name": "HTMLModel",
            "placeholder": "​",
            "_view_module": "@jupyter-widgets/controls",
            "_model_module_version": "1.5.0",
            "value": " 172/172 [00:06&lt;00:00, 24.60ex/s]",
            "_view_count": null,
            "_view_module_version": "1.5.0",
            "description_tooltip": null,
            "_model_module": "@jupyter-widgets/controls",
            "layout": "IPY_MODEL_a2224824674a45c8a1c17d9f3b674397"
          }
        },
        "39f5b5b029004811837eb99a8e63a2ad": {
          "model_module": "@jupyter-widgets/controls",
          "model_name": "ProgressStyleModel",
          "state": {
            "_view_name": "StyleView",
            "_model_name": "ProgressStyleModel",
            "description_width": "initial",
            "_view_module": "@jupyter-widgets/base",
            "_model_module_version": "1.5.0",
            "_view_count": null,
            "_view_module_version": "1.2.0",
            "bar_color": null,
            "_model_module": "@jupyter-widgets/controls"
          }
        },
        "9e01058ad48a4dc3bfdf8e89cfd9c542": {
          "model_module": "@jupyter-widgets/base",
          "model_name": "LayoutModel",
          "state": {
            "_view_name": "LayoutView",
            "grid_template_rows": null,
            "right": null,
            "justify_content": null,
            "_view_module": "@jupyter-widgets/base",
            "overflow": null,
            "_model_module_version": "1.2.0",
            "_view_count": null,
            "flex_flow": null,
            "width": null,
            "min_width": null,
            "border": null,
            "align_items": null,
            "bottom": null,
            "_model_module": "@jupyter-widgets/base",
            "top": null,
            "grid_column": null,
            "overflow_y": null,
            "overflow_x": null,
            "grid_auto_flow": null,
            "grid_area": null,
            "grid_template_columns": null,
            "flex": null,
            "_model_name": "LayoutModel",
            "justify_items": null,
            "grid_row": null,
            "max_height": null,
            "align_content": null,
            "visibility": null,
            "align_self": null,
            "height": null,
            "min_height": null,
            "padding": null,
            "grid_auto_rows": null,
            "grid_gap": null,
            "max_width": null,
            "order": null,
            "_view_module_version": "1.2.0",
            "grid_template_areas": null,
            "object_position": null,
            "object_fit": null,
            "grid_auto_columns": null,
            "margin": null,
            "display": null,
            "left": null
          }
        },
        "a46cde471b0b4edf9bb6a9c84899aaf6": {
          "model_module": "@jupyter-widgets/controls",
          "model_name": "DescriptionStyleModel",
          "state": {
            "_view_name": "StyleView",
            "_model_name": "DescriptionStyleModel",
            "description_width": "",
            "_view_module": "@jupyter-widgets/base",
            "_model_module_version": "1.5.0",
            "_view_count": null,
            "_view_module_version": "1.2.0",
            "_model_module": "@jupyter-widgets/controls"
          }
        },
        "a2224824674a45c8a1c17d9f3b674397": {
          "model_module": "@jupyter-widgets/base",
          "model_name": "LayoutModel",
          "state": {
            "_view_name": "LayoutView",
            "grid_template_rows": null,
            "right": null,
            "justify_content": null,
            "_view_module": "@jupyter-widgets/base",
            "overflow": null,
            "_model_module_version": "1.2.0",
            "_view_count": null,
            "flex_flow": null,
            "width": null,
            "min_width": null,
            "border": null,
            "align_items": null,
            "bottom": null,
            "_model_module": "@jupyter-widgets/base",
            "top": null,
            "grid_column": null,
            "overflow_y": null,
            "overflow_x": null,
            "grid_auto_flow": null,
            "grid_area": null,
            "grid_template_columns": null,
            "flex": null,
            "_model_name": "LayoutModel",
            "justify_items": null,
            "grid_row": null,
            "max_height": null,
            "align_content": null,
            "visibility": null,
            "align_self": null,
            "height": null,
            "min_height": null,
            "padding": null,
            "grid_auto_rows": null,
            "grid_gap": null,
            "max_width": null,
            "order": null,
            "_view_module_version": "1.2.0",
            "grid_template_areas": null,
            "object_position": null,
            "object_fit": null,
            "grid_auto_columns": null,
            "margin": null,
            "display": null,
            "left": null
          }
        },
        "878c4ca3b1c1456aa0747845a44bccfd": {
          "model_module": "@jupyter-widgets/controls",
          "model_name": "HBoxModel",
          "state": {
            "_view_name": "HBoxView",
            "_dom_classes": [],
            "_model_name": "HBoxModel",
            "_view_module": "@jupyter-widgets/controls",
            "_model_module_version": "1.5.0",
            "_view_count": null,
            "_view_module_version": "1.5.0",
            "box_style": "",
            "layout": "IPY_MODEL_aba0eb20714b4dc8bbbf1888d1b68b54",
            "_model_module": "@jupyter-widgets/controls",
            "children": [
              "IPY_MODEL_65473c7089e6469a89ed8205658ea7a8",
              "IPY_MODEL_d099ef0077284bfb9c4a8e6a62c9a45a"
            ]
          }
        },
        "aba0eb20714b4dc8bbbf1888d1b68b54": {
          "model_module": "@jupyter-widgets/base",
          "model_name": "LayoutModel",
          "state": {
            "_view_name": "LayoutView",
            "grid_template_rows": null,
            "right": null,
            "justify_content": null,
            "_view_module": "@jupyter-widgets/base",
            "overflow": null,
            "_model_module_version": "1.2.0",
            "_view_count": null,
            "flex_flow": null,
            "width": null,
            "min_width": null,
            "border": null,
            "align_items": null,
            "bottom": null,
            "_model_module": "@jupyter-widgets/base",
            "top": null,
            "grid_column": null,
            "overflow_y": null,
            "overflow_x": null,
            "grid_auto_flow": null,
            "grid_area": null,
            "grid_template_columns": null,
            "flex": null,
            "_model_name": "LayoutModel",
            "justify_items": null,
            "grid_row": null,
            "max_height": null,
            "align_content": null,
            "visibility": null,
            "align_self": null,
            "height": null,
            "min_height": null,
            "padding": null,
            "grid_auto_rows": null,
            "grid_gap": null,
            "max_width": null,
            "order": null,
            "_view_module_version": "1.2.0",
            "grid_template_areas": null,
            "object_position": null,
            "object_fit": null,
            "grid_auto_columns": null,
            "margin": null,
            "display": null,
            "left": null
          }
        },
        "65473c7089e6469a89ed8205658ea7a8": {
          "model_module": "@jupyter-widgets/controls",
          "model_name": "FloatProgressModel",
          "state": {
            "_view_name": "ProgressView",
            "style": "IPY_MODEL_51107b7f074e47eba21d6885f5bbaaa3",
            "_dom_classes": [],
            "description": "#1: 100%",
            "_model_name": "FloatProgressModel",
            "bar_style": "success",
            "max": 172,
            "_view_module": "@jupyter-widgets/controls",
            "_model_module_version": "1.5.0",
            "value": 172,
            "_view_count": null,
            "_view_module_version": "1.5.0",
            "orientation": "horizontal",
            "min": 0,
            "description_tooltip": null,
            "_model_module": "@jupyter-widgets/controls",
            "layout": "IPY_MODEL_9f454afbaef4406eb8d21a75d14dbd3c"
          }
        },
        "d099ef0077284bfb9c4a8e6a62c9a45a": {
          "model_module": "@jupyter-widgets/controls",
          "model_name": "HTMLModel",
          "state": {
            "_view_name": "HTMLView",
            "style": "IPY_MODEL_5fc538aacda34ce39d2c43614710a7c5",
            "_dom_classes": [],
            "description": "",
            "_model_name": "HTMLModel",
            "placeholder": "​",
            "_view_module": "@jupyter-widgets/controls",
            "_model_module_version": "1.5.0",
            "value": " 172/172 [00:06&lt;00:00, 24.90ex/s]",
            "_view_count": null,
            "_view_module_version": "1.5.0",
            "description_tooltip": null,
            "_model_module": "@jupyter-widgets/controls",
            "layout": "IPY_MODEL_312cf32b8e314b18821bceb83cd69401"
          }
        },
        "51107b7f074e47eba21d6885f5bbaaa3": {
          "model_module": "@jupyter-widgets/controls",
          "model_name": "ProgressStyleModel",
          "state": {
            "_view_name": "StyleView",
            "_model_name": "ProgressStyleModel",
            "description_width": "initial",
            "_view_module": "@jupyter-widgets/base",
            "_model_module_version": "1.5.0",
            "_view_count": null,
            "_view_module_version": "1.2.0",
            "bar_color": null,
            "_model_module": "@jupyter-widgets/controls"
          }
        },
        "9f454afbaef4406eb8d21a75d14dbd3c": {
          "model_module": "@jupyter-widgets/base",
          "model_name": "LayoutModel",
          "state": {
            "_view_name": "LayoutView",
            "grid_template_rows": null,
            "right": null,
            "justify_content": null,
            "_view_module": "@jupyter-widgets/base",
            "overflow": null,
            "_model_module_version": "1.2.0",
            "_view_count": null,
            "flex_flow": null,
            "width": null,
            "min_width": null,
            "border": null,
            "align_items": null,
            "bottom": null,
            "_model_module": "@jupyter-widgets/base",
            "top": null,
            "grid_column": null,
            "overflow_y": null,
            "overflow_x": null,
            "grid_auto_flow": null,
            "grid_area": null,
            "grid_template_columns": null,
            "flex": null,
            "_model_name": "LayoutModel",
            "justify_items": null,
            "grid_row": null,
            "max_height": null,
            "align_content": null,
            "visibility": null,
            "align_self": null,
            "height": null,
            "min_height": null,
            "padding": null,
            "grid_auto_rows": null,
            "grid_gap": null,
            "max_width": null,
            "order": null,
            "_view_module_version": "1.2.0",
            "grid_template_areas": null,
            "object_position": null,
            "object_fit": null,
            "grid_auto_columns": null,
            "margin": null,
            "display": null,
            "left": null
          }
        },
        "5fc538aacda34ce39d2c43614710a7c5": {
          "model_module": "@jupyter-widgets/controls",
          "model_name": "DescriptionStyleModel",
          "state": {
            "_view_name": "StyleView",
            "_model_name": "DescriptionStyleModel",
            "description_width": "",
            "_view_module": "@jupyter-widgets/base",
            "_model_module_version": "1.5.0",
            "_view_count": null,
            "_view_module_version": "1.2.0",
            "_model_module": "@jupyter-widgets/controls"
          }
        },
        "312cf32b8e314b18821bceb83cd69401": {
          "model_module": "@jupyter-widgets/base",
          "model_name": "LayoutModel",
          "state": {
            "_view_name": "LayoutView",
            "grid_template_rows": null,
            "right": null,
            "justify_content": null,
            "_view_module": "@jupyter-widgets/base",
            "overflow": null,
            "_model_module_version": "1.2.0",
            "_view_count": null,
            "flex_flow": null,
            "width": null,
            "min_width": null,
            "border": null,
            "align_items": null,
            "bottom": null,
            "_model_module": "@jupyter-widgets/base",
            "top": null,
            "grid_column": null,
            "overflow_y": null,
            "overflow_x": null,
            "grid_auto_flow": null,
            "grid_area": null,
            "grid_template_columns": null,
            "flex": null,
            "_model_name": "LayoutModel",
            "justify_items": null,
            "grid_row": null,
            "max_height": null,
            "align_content": null,
            "visibility": null,
            "align_self": null,
            "height": null,
            "min_height": null,
            "padding": null,
            "grid_auto_rows": null,
            "grid_gap": null,
            "max_width": null,
            "order": null,
            "_view_module_version": "1.2.0",
            "grid_template_areas": null,
            "object_position": null,
            "object_fit": null,
            "grid_auto_columns": null,
            "margin": null,
            "display": null,
            "left": null
          }
        },
        "d09716a1334e46198426b870907e5f5c": {
          "model_module": "@jupyter-widgets/controls",
          "model_name": "HBoxModel",
          "state": {
            "_view_name": "HBoxView",
            "_dom_classes": [],
            "_model_name": "HBoxModel",
            "_view_module": "@jupyter-widgets/controls",
            "_model_module_version": "1.5.0",
            "_view_count": null,
            "_view_module_version": "1.5.0",
            "box_style": "",
            "layout": "IPY_MODEL_0d62360480314193818e51db59179d01",
            "_model_module": "@jupyter-widgets/controls",
            "children": [
              "IPY_MODEL_09a990624fb54d9c93d55fac9a28dc80",
              "IPY_MODEL_b95058b7089146389544ca7283239de8"
            ]
          }
        },
        "0d62360480314193818e51db59179d01": {
          "model_module": "@jupyter-widgets/base",
          "model_name": "LayoutModel",
          "state": {
            "_view_name": "LayoutView",
            "grid_template_rows": null,
            "right": null,
            "justify_content": null,
            "_view_module": "@jupyter-widgets/base",
            "overflow": null,
            "_model_module_version": "1.2.0",
            "_view_count": null,
            "flex_flow": null,
            "width": null,
            "min_width": null,
            "border": null,
            "align_items": null,
            "bottom": null,
            "_model_module": "@jupyter-widgets/base",
            "top": null,
            "grid_column": null,
            "overflow_y": null,
            "overflow_x": null,
            "grid_auto_flow": null,
            "grid_area": null,
            "grid_template_columns": null,
            "flex": null,
            "_model_name": "LayoutModel",
            "justify_items": null,
            "grid_row": null,
            "max_height": null,
            "align_content": null,
            "visibility": null,
            "align_self": null,
            "height": null,
            "min_height": null,
            "padding": null,
            "grid_auto_rows": null,
            "grid_gap": null,
            "max_width": null,
            "order": null,
            "_view_module_version": "1.2.0",
            "grid_template_areas": null,
            "object_position": null,
            "object_fit": null,
            "grid_auto_columns": null,
            "margin": null,
            "display": null,
            "left": null
          }
        },
        "09a990624fb54d9c93d55fac9a28dc80": {
          "model_module": "@jupyter-widgets/controls",
          "model_name": "FloatProgressModel",
          "state": {
            "_view_name": "ProgressView",
            "style": "IPY_MODEL_dc0b92d002e94899b8151c742fe34377",
            "_dom_classes": [],
            "description": "#2: 100%",
            "_model_name": "FloatProgressModel",
            "bar_style": "success",
            "max": 171,
            "_view_module": "@jupyter-widgets/controls",
            "_model_module_version": "1.5.0",
            "value": 171,
            "_view_count": null,
            "_view_module_version": "1.5.0",
            "orientation": "horizontal",
            "min": 0,
            "description_tooltip": null,
            "_model_module": "@jupyter-widgets/controls",
            "layout": "IPY_MODEL_d59c7d7617914b3e88b2341501c91cc6"
          }
        },
        "b95058b7089146389544ca7283239de8": {
          "model_module": "@jupyter-widgets/controls",
          "model_name": "HTMLModel",
          "state": {
            "_view_name": "HTMLView",
            "style": "IPY_MODEL_2cc8eecb3b314d58afe6e282051de2b5",
            "_dom_classes": [],
            "description": "",
            "_model_name": "HTMLModel",
            "placeholder": "​",
            "_view_module": "@jupyter-widgets/controls",
            "_model_module_version": "1.5.0",
            "value": " 171/171 [00:06&lt;00:00, 28.28ex/s]",
            "_view_count": null,
            "_view_module_version": "1.5.0",
            "description_tooltip": null,
            "_model_module": "@jupyter-widgets/controls",
            "layout": "IPY_MODEL_3eec4ea5b4a64ec8a2d3cb60697228b2"
          }
        },
        "dc0b92d002e94899b8151c742fe34377": {
          "model_module": "@jupyter-widgets/controls",
          "model_name": "ProgressStyleModel",
          "state": {
            "_view_name": "StyleView",
            "_model_name": "ProgressStyleModel",
            "description_width": "initial",
            "_view_module": "@jupyter-widgets/base",
            "_model_module_version": "1.5.0",
            "_view_count": null,
            "_view_module_version": "1.2.0",
            "bar_color": null,
            "_model_module": "@jupyter-widgets/controls"
          }
        },
        "d59c7d7617914b3e88b2341501c91cc6": {
          "model_module": "@jupyter-widgets/base",
          "model_name": "LayoutModel",
          "state": {
            "_view_name": "LayoutView",
            "grid_template_rows": null,
            "right": null,
            "justify_content": null,
            "_view_module": "@jupyter-widgets/base",
            "overflow": null,
            "_model_module_version": "1.2.0",
            "_view_count": null,
            "flex_flow": null,
            "width": null,
            "min_width": null,
            "border": null,
            "align_items": null,
            "bottom": null,
            "_model_module": "@jupyter-widgets/base",
            "top": null,
            "grid_column": null,
            "overflow_y": null,
            "overflow_x": null,
            "grid_auto_flow": null,
            "grid_area": null,
            "grid_template_columns": null,
            "flex": null,
            "_model_name": "LayoutModel",
            "justify_items": null,
            "grid_row": null,
            "max_height": null,
            "align_content": null,
            "visibility": null,
            "align_self": null,
            "height": null,
            "min_height": null,
            "padding": null,
            "grid_auto_rows": null,
            "grid_gap": null,
            "max_width": null,
            "order": null,
            "_view_module_version": "1.2.0",
            "grid_template_areas": null,
            "object_position": null,
            "object_fit": null,
            "grid_auto_columns": null,
            "margin": null,
            "display": null,
            "left": null
          }
        },
        "2cc8eecb3b314d58afe6e282051de2b5": {
          "model_module": "@jupyter-widgets/controls",
          "model_name": "DescriptionStyleModel",
          "state": {
            "_view_name": "StyleView",
            "_model_name": "DescriptionStyleModel",
            "description_width": "",
            "_view_module": "@jupyter-widgets/base",
            "_model_module_version": "1.5.0",
            "_view_count": null,
            "_view_module_version": "1.2.0",
            "_model_module": "@jupyter-widgets/controls"
          }
        },
        "3eec4ea5b4a64ec8a2d3cb60697228b2": {
          "model_module": "@jupyter-widgets/base",
          "model_name": "LayoutModel",
          "state": {
            "_view_name": "LayoutView",
            "grid_template_rows": null,
            "right": null,
            "justify_content": null,
            "_view_module": "@jupyter-widgets/base",
            "overflow": null,
            "_model_module_version": "1.2.0",
            "_view_count": null,
            "flex_flow": null,
            "width": null,
            "min_width": null,
            "border": null,
            "align_items": null,
            "bottom": null,
            "_model_module": "@jupyter-widgets/base",
            "top": null,
            "grid_column": null,
            "overflow_y": null,
            "overflow_x": null,
            "grid_auto_flow": null,
            "grid_area": null,
            "grid_template_columns": null,
            "flex": null,
            "_model_name": "LayoutModel",
            "justify_items": null,
            "grid_row": null,
            "max_height": null,
            "align_content": null,
            "visibility": null,
            "align_self": null,
            "height": null,
            "min_height": null,
            "padding": null,
            "grid_auto_rows": null,
            "grid_gap": null,
            "max_width": null,
            "order": null,
            "_view_module_version": "1.2.0",
            "grid_template_areas": null,
            "object_position": null,
            "object_fit": null,
            "grid_auto_columns": null,
            "margin": null,
            "display": null,
            "left": null
          }
        },
        "915c29a06df04ec6acf775d6dcadbf5c": {
          "model_module": "@jupyter-widgets/controls",
          "model_name": "HBoxModel",
          "state": {
            "_view_name": "HBoxView",
            "_dom_classes": [],
            "_model_name": "HBoxModel",
            "_view_module": "@jupyter-widgets/controls",
            "_model_module_version": "1.5.0",
            "_view_count": null,
            "_view_module_version": "1.5.0",
            "box_style": "",
            "layout": "IPY_MODEL_abca24c23e9b4b2ba3d4667ef8313efa",
            "_model_module": "@jupyter-widgets/controls",
            "children": [
              "IPY_MODEL_edd0682044874e3d89b845e9243f57a0",
              "IPY_MODEL_281dcc1b3d1c468fae0af227df59ff47"
            ]
          }
        },
        "abca24c23e9b4b2ba3d4667ef8313efa": {
          "model_module": "@jupyter-widgets/base",
          "model_name": "LayoutModel",
          "state": {
            "_view_name": "LayoutView",
            "grid_template_rows": null,
            "right": null,
            "justify_content": null,
            "_view_module": "@jupyter-widgets/base",
            "overflow": null,
            "_model_module_version": "1.2.0",
            "_view_count": null,
            "flex_flow": null,
            "width": null,
            "min_width": null,
            "border": null,
            "align_items": null,
            "bottom": null,
            "_model_module": "@jupyter-widgets/base",
            "top": null,
            "grid_column": null,
            "overflow_y": null,
            "overflow_x": null,
            "grid_auto_flow": null,
            "grid_area": null,
            "grid_template_columns": null,
            "flex": null,
            "_model_name": "LayoutModel",
            "justify_items": null,
            "grid_row": null,
            "max_height": null,
            "align_content": null,
            "visibility": null,
            "align_self": null,
            "height": null,
            "min_height": null,
            "padding": null,
            "grid_auto_rows": null,
            "grid_gap": null,
            "max_width": null,
            "order": null,
            "_view_module_version": "1.2.0",
            "grid_template_areas": null,
            "object_position": null,
            "object_fit": null,
            "grid_auto_columns": null,
            "margin": null,
            "display": null,
            "left": null
          }
        },
        "edd0682044874e3d89b845e9243f57a0": {
          "model_module": "@jupyter-widgets/controls",
          "model_name": "FloatProgressModel",
          "state": {
            "_view_name": "ProgressView",
            "style": "IPY_MODEL_f03d159a4d104225b204982af50709cb",
            "_dom_classes": [],
            "description": "#3: 100%",
            "_model_name": "FloatProgressModel",
            "bar_style": "success",
            "max": 171,
            "_view_module": "@jupyter-widgets/controls",
            "_model_module_version": "1.5.0",
            "value": 171,
            "_view_count": null,
            "_view_module_version": "1.5.0",
            "orientation": "horizontal",
            "min": 0,
            "description_tooltip": null,
            "_model_module": "@jupyter-widgets/controls",
            "layout": "IPY_MODEL_1f4275bf521b4a20b2ee95f0b1ef813b"
          }
        },
        "281dcc1b3d1c468fae0af227df59ff47": {
          "model_module": "@jupyter-widgets/controls",
          "model_name": "HTMLModel",
          "state": {
            "_view_name": "HTMLView",
            "style": "IPY_MODEL_e1144b7698c44f20aaf29ad9094ef822",
            "_dom_classes": [],
            "description": "",
            "_model_name": "HTMLModel",
            "placeholder": "​",
            "_view_module": "@jupyter-widgets/controls",
            "_model_module_version": "1.5.0",
            "value": " 171/171 [00:06&lt;00:00, 25.26ex/s]",
            "_view_count": null,
            "_view_module_version": "1.5.0",
            "description_tooltip": null,
            "_model_module": "@jupyter-widgets/controls",
            "layout": "IPY_MODEL_c579c59a09da47dfbd6874e00c7ad58a"
          }
        },
        "f03d159a4d104225b204982af50709cb": {
          "model_module": "@jupyter-widgets/controls",
          "model_name": "ProgressStyleModel",
          "state": {
            "_view_name": "StyleView",
            "_model_name": "ProgressStyleModel",
            "description_width": "initial",
            "_view_module": "@jupyter-widgets/base",
            "_model_module_version": "1.5.0",
            "_view_count": null,
            "_view_module_version": "1.2.0",
            "bar_color": null,
            "_model_module": "@jupyter-widgets/controls"
          }
        },
        "1f4275bf521b4a20b2ee95f0b1ef813b": {
          "model_module": "@jupyter-widgets/base",
          "model_name": "LayoutModel",
          "state": {
            "_view_name": "LayoutView",
            "grid_template_rows": null,
            "right": null,
            "justify_content": null,
            "_view_module": "@jupyter-widgets/base",
            "overflow": null,
            "_model_module_version": "1.2.0",
            "_view_count": null,
            "flex_flow": null,
            "width": null,
            "min_width": null,
            "border": null,
            "align_items": null,
            "bottom": null,
            "_model_module": "@jupyter-widgets/base",
            "top": null,
            "grid_column": null,
            "overflow_y": null,
            "overflow_x": null,
            "grid_auto_flow": null,
            "grid_area": null,
            "grid_template_columns": null,
            "flex": null,
            "_model_name": "LayoutModel",
            "justify_items": null,
            "grid_row": null,
            "max_height": null,
            "align_content": null,
            "visibility": null,
            "align_self": null,
            "height": null,
            "min_height": null,
            "padding": null,
            "grid_auto_rows": null,
            "grid_gap": null,
            "max_width": null,
            "order": null,
            "_view_module_version": "1.2.0",
            "grid_template_areas": null,
            "object_position": null,
            "object_fit": null,
            "grid_auto_columns": null,
            "margin": null,
            "display": null,
            "left": null
          }
        },
        "e1144b7698c44f20aaf29ad9094ef822": {
          "model_module": "@jupyter-widgets/controls",
          "model_name": "DescriptionStyleModel",
          "state": {
            "_view_name": "StyleView",
            "_model_name": "DescriptionStyleModel",
            "description_width": "",
            "_view_module": "@jupyter-widgets/base",
            "_model_module_version": "1.5.0",
            "_view_count": null,
            "_view_module_version": "1.2.0",
            "_model_module": "@jupyter-widgets/controls"
          }
        },
        "c579c59a09da47dfbd6874e00c7ad58a": {
          "model_module": "@jupyter-widgets/base",
          "model_name": "LayoutModel",
          "state": {
            "_view_name": "LayoutView",
            "grid_template_rows": null,
            "right": null,
            "justify_content": null,
            "_view_module": "@jupyter-widgets/base",
            "overflow": null,
            "_model_module_version": "1.2.0",
            "_view_count": null,
            "flex_flow": null,
            "width": null,
            "min_width": null,
            "border": null,
            "align_items": null,
            "bottom": null,
            "_model_module": "@jupyter-widgets/base",
            "top": null,
            "grid_column": null,
            "overflow_y": null,
            "overflow_x": null,
            "grid_auto_flow": null,
            "grid_area": null,
            "grid_template_columns": null,
            "flex": null,
            "_model_name": "LayoutModel",
            "justify_items": null,
            "grid_row": null,
            "max_height": null,
            "align_content": null,
            "visibility": null,
            "align_self": null,
            "height": null,
            "min_height": null,
            "padding": null,
            "grid_auto_rows": null,
            "grid_gap": null,
            "max_width": null,
            "order": null,
            "_view_module_version": "1.2.0",
            "grid_template_areas": null,
            "object_position": null,
            "object_fit": null,
            "grid_auto_columns": null,
            "margin": null,
            "display": null,
            "left": null
          }
        },
        "ef6faa920424435da111a77a6302c5fd": {
          "model_module": "@jupyter-widgets/controls",
          "model_name": "HBoxModel",
          "state": {
            "_view_name": "HBoxView",
            "_dom_classes": [],
            "_model_name": "HBoxModel",
            "_view_module": "@jupyter-widgets/controls",
            "_model_module_version": "1.5.0",
            "_view_count": null,
            "_view_module_version": "1.5.0",
            "box_style": "",
            "layout": "IPY_MODEL_ca8d1dfb3d7c48c781df65490d1c54a3",
            "_model_module": "@jupyter-widgets/controls",
            "children": [
              "IPY_MODEL_18caaf0b2fe0495cae6e08b1fd2a99f0",
              "IPY_MODEL_ebc0ceb94ba74d18893eb69ddfaa4ee1"
            ]
          }
        },
        "ca8d1dfb3d7c48c781df65490d1c54a3": {
          "model_module": "@jupyter-widgets/base",
          "model_name": "LayoutModel",
          "state": {
            "_view_name": "LayoutView",
            "grid_template_rows": null,
            "right": null,
            "justify_content": null,
            "_view_module": "@jupyter-widgets/base",
            "overflow": null,
            "_model_module_version": "1.2.0",
            "_view_count": null,
            "flex_flow": null,
            "width": null,
            "min_width": null,
            "border": null,
            "align_items": null,
            "bottom": null,
            "_model_module": "@jupyter-widgets/base",
            "top": null,
            "grid_column": null,
            "overflow_y": null,
            "overflow_x": null,
            "grid_auto_flow": null,
            "grid_area": null,
            "grid_template_columns": null,
            "flex": null,
            "_model_name": "LayoutModel",
            "justify_items": null,
            "grid_row": null,
            "max_height": null,
            "align_content": null,
            "visibility": null,
            "align_self": null,
            "height": null,
            "min_height": null,
            "padding": null,
            "grid_auto_rows": null,
            "grid_gap": null,
            "max_width": null,
            "order": null,
            "_view_module_version": "1.2.0",
            "grid_template_areas": null,
            "object_position": null,
            "object_fit": null,
            "grid_auto_columns": null,
            "margin": null,
            "display": null,
            "left": null
          }
        },
        "18caaf0b2fe0495cae6e08b1fd2a99f0": {
          "model_module": "@jupyter-widgets/controls",
          "model_name": "FloatProgressModel",
          "state": {
            "_view_name": "ProgressView",
            "style": "IPY_MODEL_ba63ccaff98247e3be3f0e9014647e7c",
            "_dom_classes": [],
            "description": "#0: 100%",
            "_model_name": "FloatProgressModel",
            "bar_style": "success",
            "max": 172,
            "_view_module": "@jupyter-widgets/controls",
            "_model_module_version": "1.5.0",
            "value": 172,
            "_view_count": null,
            "_view_module_version": "1.5.0",
            "orientation": "horizontal",
            "min": 0,
            "description_tooltip": null,
            "_model_module": "@jupyter-widgets/controls",
            "layout": "IPY_MODEL_af46fea00dd644839ff3823f18db0487"
          }
        },
        "ebc0ceb94ba74d18893eb69ddfaa4ee1": {
          "model_module": "@jupyter-widgets/controls",
          "model_name": "HTMLModel",
          "state": {
            "_view_name": "HTMLView",
            "style": "IPY_MODEL_f7b799fd5daa47879bcf516c7ab73504",
            "_dom_classes": [],
            "description": "",
            "_model_name": "HTMLModel",
            "placeholder": "​",
            "_view_module": "@jupyter-widgets/controls",
            "_model_module_version": "1.5.0",
            "value": " 172/172 [00:06&lt;00:00, 25.18ex/s]",
            "_view_count": null,
            "_view_module_version": "1.5.0",
            "description_tooltip": null,
            "_model_module": "@jupyter-widgets/controls",
            "layout": "IPY_MODEL_867e6ee600fe42b0ad426f439d68aad0"
          }
        },
        "ba63ccaff98247e3be3f0e9014647e7c": {
          "model_module": "@jupyter-widgets/controls",
          "model_name": "ProgressStyleModel",
          "state": {
            "_view_name": "StyleView",
            "_model_name": "ProgressStyleModel",
            "description_width": "initial",
            "_view_module": "@jupyter-widgets/base",
            "_model_module_version": "1.5.0",
            "_view_count": null,
            "_view_module_version": "1.2.0",
            "bar_color": null,
            "_model_module": "@jupyter-widgets/controls"
          }
        },
        "af46fea00dd644839ff3823f18db0487": {
          "model_module": "@jupyter-widgets/base",
          "model_name": "LayoutModel",
          "state": {
            "_view_name": "LayoutView",
            "grid_template_rows": null,
            "right": null,
            "justify_content": null,
            "_view_module": "@jupyter-widgets/base",
            "overflow": null,
            "_model_module_version": "1.2.0",
            "_view_count": null,
            "flex_flow": null,
            "width": null,
            "min_width": null,
            "border": null,
            "align_items": null,
            "bottom": null,
            "_model_module": "@jupyter-widgets/base",
            "top": null,
            "grid_column": null,
            "overflow_y": null,
            "overflow_x": null,
            "grid_auto_flow": null,
            "grid_area": null,
            "grid_template_columns": null,
            "flex": null,
            "_model_name": "LayoutModel",
            "justify_items": null,
            "grid_row": null,
            "max_height": null,
            "align_content": null,
            "visibility": null,
            "align_self": null,
            "height": null,
            "min_height": null,
            "padding": null,
            "grid_auto_rows": null,
            "grid_gap": null,
            "max_width": null,
            "order": null,
            "_view_module_version": "1.2.0",
            "grid_template_areas": null,
            "object_position": null,
            "object_fit": null,
            "grid_auto_columns": null,
            "margin": null,
            "display": null,
            "left": null
          }
        },
        "f7b799fd5daa47879bcf516c7ab73504": {
          "model_module": "@jupyter-widgets/controls",
          "model_name": "DescriptionStyleModel",
          "state": {
            "_view_name": "StyleView",
            "_model_name": "DescriptionStyleModel",
            "description_width": "",
            "_view_module": "@jupyter-widgets/base",
            "_model_module_version": "1.5.0",
            "_view_count": null,
            "_view_module_version": "1.2.0",
            "_model_module": "@jupyter-widgets/controls"
          }
        },
        "867e6ee600fe42b0ad426f439d68aad0": {
          "model_module": "@jupyter-widgets/base",
          "model_name": "LayoutModel",
          "state": {
            "_view_name": "LayoutView",
            "grid_template_rows": null,
            "right": null,
            "justify_content": null,
            "_view_module": "@jupyter-widgets/base",
            "overflow": null,
            "_model_module_version": "1.2.0",
            "_view_count": null,
            "flex_flow": null,
            "width": null,
            "min_width": null,
            "border": null,
            "align_items": null,
            "bottom": null,
            "_model_module": "@jupyter-widgets/base",
            "top": null,
            "grid_column": null,
            "overflow_y": null,
            "overflow_x": null,
            "grid_auto_flow": null,
            "grid_area": null,
            "grid_template_columns": null,
            "flex": null,
            "_model_name": "LayoutModel",
            "justify_items": null,
            "grid_row": null,
            "max_height": null,
            "align_content": null,
            "visibility": null,
            "align_self": null,
            "height": null,
            "min_height": null,
            "padding": null,
            "grid_auto_rows": null,
            "grid_gap": null,
            "max_width": null,
            "order": null,
            "_view_module_version": "1.2.0",
            "grid_template_areas": null,
            "object_position": null,
            "object_fit": null,
            "grid_auto_columns": null,
            "margin": null,
            "display": null,
            "left": null
          }
        },
        "b03941d3a2e94f31a4ece841e9c1252e": {
          "model_module": "@jupyter-widgets/controls",
          "model_name": "HBoxModel",
          "state": {
            "_view_name": "HBoxView",
            "_dom_classes": [],
            "_model_name": "HBoxModel",
            "_view_module": "@jupyter-widgets/controls",
            "_model_module_version": "1.5.0",
            "_view_count": null,
            "_view_module_version": "1.5.0",
            "box_style": "",
            "layout": "IPY_MODEL_fc01e8a0c34a4bc49dc2f0eca22fe9f6",
            "_model_module": "@jupyter-widgets/controls",
            "children": [
              "IPY_MODEL_c94f387690a44978a04bc0f37b335be6",
              "IPY_MODEL_56971c80237b4ff093e3994849a4f7ef"
            ]
          }
        },
        "fc01e8a0c34a4bc49dc2f0eca22fe9f6": {
          "model_module": "@jupyter-widgets/base",
          "model_name": "LayoutModel",
          "state": {
            "_view_name": "LayoutView",
            "grid_template_rows": null,
            "right": null,
            "justify_content": null,
            "_view_module": "@jupyter-widgets/base",
            "overflow": null,
            "_model_module_version": "1.2.0",
            "_view_count": null,
            "flex_flow": null,
            "width": null,
            "min_width": null,
            "border": null,
            "align_items": null,
            "bottom": null,
            "_model_module": "@jupyter-widgets/base",
            "top": null,
            "grid_column": null,
            "overflow_y": null,
            "overflow_x": null,
            "grid_auto_flow": null,
            "grid_area": null,
            "grid_template_columns": null,
            "flex": null,
            "_model_name": "LayoutModel",
            "justify_items": null,
            "grid_row": null,
            "max_height": null,
            "align_content": null,
            "visibility": null,
            "align_self": null,
            "height": null,
            "min_height": null,
            "padding": null,
            "grid_auto_rows": null,
            "grid_gap": null,
            "max_width": null,
            "order": null,
            "_view_module_version": "1.2.0",
            "grid_template_areas": null,
            "object_position": null,
            "object_fit": null,
            "grid_auto_columns": null,
            "margin": null,
            "display": null,
            "left": null
          }
        },
        "c94f387690a44978a04bc0f37b335be6": {
          "model_module": "@jupyter-widgets/controls",
          "model_name": "FloatProgressModel",
          "state": {
            "_view_name": "ProgressView",
            "style": "IPY_MODEL_74b56ef554504038b1810999b5665f0d",
            "_dom_classes": [],
            "description": "#1: 100%",
            "_model_name": "FloatProgressModel",
            "bar_style": "success",
            "max": 172,
            "_view_module": "@jupyter-widgets/controls",
            "_model_module_version": "1.5.0",
            "value": 172,
            "_view_count": null,
            "_view_module_version": "1.5.0",
            "orientation": "horizontal",
            "min": 0,
            "description_tooltip": null,
            "_model_module": "@jupyter-widgets/controls",
            "layout": "IPY_MODEL_4662aafcd3ac4dd9b533050dad3ed589"
          }
        },
        "56971c80237b4ff093e3994849a4f7ef": {
          "model_module": "@jupyter-widgets/controls",
          "model_name": "HTMLModel",
          "state": {
            "_view_name": "HTMLView",
            "style": "IPY_MODEL_3a50df6117dc4c209dcd70054a1cc437",
            "_dom_classes": [],
            "description": "",
            "_model_name": "HTMLModel",
            "placeholder": "​",
            "_view_module": "@jupyter-widgets/controls",
            "_model_module_version": "1.5.0",
            "value": " 172/172 [00:06&lt;00:00, 25.86ex/s]",
            "_view_count": null,
            "_view_module_version": "1.5.0",
            "description_tooltip": null,
            "_model_module": "@jupyter-widgets/controls",
            "layout": "IPY_MODEL_b2b45cc00b0c4f7a91f503c7e0666c60"
          }
        },
        "74b56ef554504038b1810999b5665f0d": {
          "model_module": "@jupyter-widgets/controls",
          "model_name": "ProgressStyleModel",
          "state": {
            "_view_name": "StyleView",
            "_model_name": "ProgressStyleModel",
            "description_width": "initial",
            "_view_module": "@jupyter-widgets/base",
            "_model_module_version": "1.5.0",
            "_view_count": null,
            "_view_module_version": "1.2.0",
            "bar_color": null,
            "_model_module": "@jupyter-widgets/controls"
          }
        },
        "4662aafcd3ac4dd9b533050dad3ed589": {
          "model_module": "@jupyter-widgets/base",
          "model_name": "LayoutModel",
          "state": {
            "_view_name": "LayoutView",
            "grid_template_rows": null,
            "right": null,
            "justify_content": null,
            "_view_module": "@jupyter-widgets/base",
            "overflow": null,
            "_model_module_version": "1.2.0",
            "_view_count": null,
            "flex_flow": null,
            "width": null,
            "min_width": null,
            "border": null,
            "align_items": null,
            "bottom": null,
            "_model_module": "@jupyter-widgets/base",
            "top": null,
            "grid_column": null,
            "overflow_y": null,
            "overflow_x": null,
            "grid_auto_flow": null,
            "grid_area": null,
            "grid_template_columns": null,
            "flex": null,
            "_model_name": "LayoutModel",
            "justify_items": null,
            "grid_row": null,
            "max_height": null,
            "align_content": null,
            "visibility": null,
            "align_self": null,
            "height": null,
            "min_height": null,
            "padding": null,
            "grid_auto_rows": null,
            "grid_gap": null,
            "max_width": null,
            "order": null,
            "_view_module_version": "1.2.0",
            "grid_template_areas": null,
            "object_position": null,
            "object_fit": null,
            "grid_auto_columns": null,
            "margin": null,
            "display": null,
            "left": null
          }
        },
        "3a50df6117dc4c209dcd70054a1cc437": {
          "model_module": "@jupyter-widgets/controls",
          "model_name": "DescriptionStyleModel",
          "state": {
            "_view_name": "StyleView",
            "_model_name": "DescriptionStyleModel",
            "description_width": "",
            "_view_module": "@jupyter-widgets/base",
            "_model_module_version": "1.5.0",
            "_view_count": null,
            "_view_module_version": "1.2.0",
            "_model_module": "@jupyter-widgets/controls"
          }
        },
        "b2b45cc00b0c4f7a91f503c7e0666c60": {
          "model_module": "@jupyter-widgets/base",
          "model_name": "LayoutModel",
          "state": {
            "_view_name": "LayoutView",
            "grid_template_rows": null,
            "right": null,
            "justify_content": null,
            "_view_module": "@jupyter-widgets/base",
            "overflow": null,
            "_model_module_version": "1.2.0",
            "_view_count": null,
            "flex_flow": null,
            "width": null,
            "min_width": null,
            "border": null,
            "align_items": null,
            "bottom": null,
            "_model_module": "@jupyter-widgets/base",
            "top": null,
            "grid_column": null,
            "overflow_y": null,
            "overflow_x": null,
            "grid_auto_flow": null,
            "grid_area": null,
            "grid_template_columns": null,
            "flex": null,
            "_model_name": "LayoutModel",
            "justify_items": null,
            "grid_row": null,
            "max_height": null,
            "align_content": null,
            "visibility": null,
            "align_self": null,
            "height": null,
            "min_height": null,
            "padding": null,
            "grid_auto_rows": null,
            "grid_gap": null,
            "max_width": null,
            "order": null,
            "_view_module_version": "1.2.0",
            "grid_template_areas": null,
            "object_position": null,
            "object_fit": null,
            "grid_auto_columns": null,
            "margin": null,
            "display": null,
            "left": null
          }
        },
        "6d7e47b464be4e4cb1e4f61c30acf342": {
          "model_module": "@jupyter-widgets/controls",
          "model_name": "HBoxModel",
          "state": {
            "_view_name": "HBoxView",
            "_dom_classes": [],
            "_model_name": "HBoxModel",
            "_view_module": "@jupyter-widgets/controls",
            "_model_module_version": "1.5.0",
            "_view_count": null,
            "_view_module_version": "1.5.0",
            "box_style": "",
            "layout": "IPY_MODEL_9c91662d579c48f58c6d1a1c334f44d2",
            "_model_module": "@jupyter-widgets/controls",
            "children": [
              "IPY_MODEL_2652f93207714dee8f263e62055accdb",
              "IPY_MODEL_405b788fa44d4d7aa287d00bea096a7a"
            ]
          }
        },
        "9c91662d579c48f58c6d1a1c334f44d2": {
          "model_module": "@jupyter-widgets/base",
          "model_name": "LayoutModel",
          "state": {
            "_view_name": "LayoutView",
            "grid_template_rows": null,
            "right": null,
            "justify_content": null,
            "_view_module": "@jupyter-widgets/base",
            "overflow": null,
            "_model_module_version": "1.2.0",
            "_view_count": null,
            "flex_flow": null,
            "width": null,
            "min_width": null,
            "border": null,
            "align_items": null,
            "bottom": null,
            "_model_module": "@jupyter-widgets/base",
            "top": null,
            "grid_column": null,
            "overflow_y": null,
            "overflow_x": null,
            "grid_auto_flow": null,
            "grid_area": null,
            "grid_template_columns": null,
            "flex": null,
            "_model_name": "LayoutModel",
            "justify_items": null,
            "grid_row": null,
            "max_height": null,
            "align_content": null,
            "visibility": null,
            "align_self": null,
            "height": null,
            "min_height": null,
            "padding": null,
            "grid_auto_rows": null,
            "grid_gap": null,
            "max_width": null,
            "order": null,
            "_view_module_version": "1.2.0",
            "grid_template_areas": null,
            "object_position": null,
            "object_fit": null,
            "grid_auto_columns": null,
            "margin": null,
            "display": null,
            "left": null
          }
        },
        "2652f93207714dee8f263e62055accdb": {
          "model_module": "@jupyter-widgets/controls",
          "model_name": "FloatProgressModel",
          "state": {
            "_view_name": "ProgressView",
            "style": "IPY_MODEL_bd74506027be48888253f0f53c0fe835",
            "_dom_classes": [],
            "description": "#2: 100%",
            "_model_name": "FloatProgressModel",
            "bar_style": "success",
            "max": 171,
            "_view_module": "@jupyter-widgets/controls",
            "_model_module_version": "1.5.0",
            "value": 171,
            "_view_count": null,
            "_view_module_version": "1.5.0",
            "orientation": "horizontal",
            "min": 0,
            "description_tooltip": null,
            "_model_module": "@jupyter-widgets/controls",
            "layout": "IPY_MODEL_7967e678e2c44f07be8c530cb925eae2"
          }
        },
        "405b788fa44d4d7aa287d00bea096a7a": {
          "model_module": "@jupyter-widgets/controls",
          "model_name": "HTMLModel",
          "state": {
            "_view_name": "HTMLView",
            "style": "IPY_MODEL_3b63f4ee92954108922019faf66cb1e3",
            "_dom_classes": [],
            "description": "",
            "_model_name": "HTMLModel",
            "placeholder": "​",
            "_view_module": "@jupyter-widgets/controls",
            "_model_module_version": "1.5.0",
            "value": " 171/171 [00:06&lt;00:00, 27.64ex/s]",
            "_view_count": null,
            "_view_module_version": "1.5.0",
            "description_tooltip": null,
            "_model_module": "@jupyter-widgets/controls",
            "layout": "IPY_MODEL_cc9871cab9124f86b73eade503f36f71"
          }
        },
        "bd74506027be48888253f0f53c0fe835": {
          "model_module": "@jupyter-widgets/controls",
          "model_name": "ProgressStyleModel",
          "state": {
            "_view_name": "StyleView",
            "_model_name": "ProgressStyleModel",
            "description_width": "initial",
            "_view_module": "@jupyter-widgets/base",
            "_model_module_version": "1.5.0",
            "_view_count": null,
            "_view_module_version": "1.2.0",
            "bar_color": null,
            "_model_module": "@jupyter-widgets/controls"
          }
        },
        "7967e678e2c44f07be8c530cb925eae2": {
          "model_module": "@jupyter-widgets/base",
          "model_name": "LayoutModel",
          "state": {
            "_view_name": "LayoutView",
            "grid_template_rows": null,
            "right": null,
            "justify_content": null,
            "_view_module": "@jupyter-widgets/base",
            "overflow": null,
            "_model_module_version": "1.2.0",
            "_view_count": null,
            "flex_flow": null,
            "width": null,
            "min_width": null,
            "border": null,
            "align_items": null,
            "bottom": null,
            "_model_module": "@jupyter-widgets/base",
            "top": null,
            "grid_column": null,
            "overflow_y": null,
            "overflow_x": null,
            "grid_auto_flow": null,
            "grid_area": null,
            "grid_template_columns": null,
            "flex": null,
            "_model_name": "LayoutModel",
            "justify_items": null,
            "grid_row": null,
            "max_height": null,
            "align_content": null,
            "visibility": null,
            "align_self": null,
            "height": null,
            "min_height": null,
            "padding": null,
            "grid_auto_rows": null,
            "grid_gap": null,
            "max_width": null,
            "order": null,
            "_view_module_version": "1.2.0",
            "grid_template_areas": null,
            "object_position": null,
            "object_fit": null,
            "grid_auto_columns": null,
            "margin": null,
            "display": null,
            "left": null
          }
        },
        "3b63f4ee92954108922019faf66cb1e3": {
          "model_module": "@jupyter-widgets/controls",
          "model_name": "DescriptionStyleModel",
          "state": {
            "_view_name": "StyleView",
            "_model_name": "DescriptionStyleModel",
            "description_width": "",
            "_view_module": "@jupyter-widgets/base",
            "_model_module_version": "1.5.0",
            "_view_count": null,
            "_view_module_version": "1.2.0",
            "_model_module": "@jupyter-widgets/controls"
          }
        },
        "cc9871cab9124f86b73eade503f36f71": {
          "model_module": "@jupyter-widgets/base",
          "model_name": "LayoutModel",
          "state": {
            "_view_name": "LayoutView",
            "grid_template_rows": null,
            "right": null,
            "justify_content": null,
            "_view_module": "@jupyter-widgets/base",
            "overflow": null,
            "_model_module_version": "1.2.0",
            "_view_count": null,
            "flex_flow": null,
            "width": null,
            "min_width": null,
            "border": null,
            "align_items": null,
            "bottom": null,
            "_model_module": "@jupyter-widgets/base",
            "top": null,
            "grid_column": null,
            "overflow_y": null,
            "overflow_x": null,
            "grid_auto_flow": null,
            "grid_area": null,
            "grid_template_columns": null,
            "flex": null,
            "_model_name": "LayoutModel",
            "justify_items": null,
            "grid_row": null,
            "max_height": null,
            "align_content": null,
            "visibility": null,
            "align_self": null,
            "height": null,
            "min_height": null,
            "padding": null,
            "grid_auto_rows": null,
            "grid_gap": null,
            "max_width": null,
            "order": null,
            "_view_module_version": "1.2.0",
            "grid_template_areas": null,
            "object_position": null,
            "object_fit": null,
            "grid_auto_columns": null,
            "margin": null,
            "display": null,
            "left": null
          }
        },
        "83f1d4445df844efb410a4892f2440d8": {
          "model_module": "@jupyter-widgets/controls",
          "model_name": "HBoxModel",
          "state": {
            "_view_name": "HBoxView",
            "_dom_classes": [],
            "_model_name": "HBoxModel",
            "_view_module": "@jupyter-widgets/controls",
            "_model_module_version": "1.5.0",
            "_view_count": null,
            "_view_module_version": "1.5.0",
            "box_style": "",
            "layout": "IPY_MODEL_1c002d57ec3448e19f90f45186cda5fd",
            "_model_module": "@jupyter-widgets/controls",
            "children": [
              "IPY_MODEL_e220ea86d7c3488eb10b402d20fa60a4",
              "IPY_MODEL_2ac7bc38544644c5aa739a46229a09fe"
            ]
          }
        },
        "1c002d57ec3448e19f90f45186cda5fd": {
          "model_module": "@jupyter-widgets/base",
          "model_name": "LayoutModel",
          "state": {
            "_view_name": "LayoutView",
            "grid_template_rows": null,
            "right": null,
            "justify_content": null,
            "_view_module": "@jupyter-widgets/base",
            "overflow": null,
            "_model_module_version": "1.2.0",
            "_view_count": null,
            "flex_flow": null,
            "width": null,
            "min_width": null,
            "border": null,
            "align_items": null,
            "bottom": null,
            "_model_module": "@jupyter-widgets/base",
            "top": null,
            "grid_column": null,
            "overflow_y": null,
            "overflow_x": null,
            "grid_auto_flow": null,
            "grid_area": null,
            "grid_template_columns": null,
            "flex": null,
            "_model_name": "LayoutModel",
            "justify_items": null,
            "grid_row": null,
            "max_height": null,
            "align_content": null,
            "visibility": null,
            "align_self": null,
            "height": null,
            "min_height": null,
            "padding": null,
            "grid_auto_rows": null,
            "grid_gap": null,
            "max_width": null,
            "order": null,
            "_view_module_version": "1.2.0",
            "grid_template_areas": null,
            "object_position": null,
            "object_fit": null,
            "grid_auto_columns": null,
            "margin": null,
            "display": null,
            "left": null
          }
        },
        "e220ea86d7c3488eb10b402d20fa60a4": {
          "model_module": "@jupyter-widgets/controls",
          "model_name": "FloatProgressModel",
          "state": {
            "_view_name": "ProgressView",
            "style": "IPY_MODEL_e249ba4a03d04274bc0e9aeaf3513a77",
            "_dom_classes": [],
            "description": "#3: 100%",
            "_model_name": "FloatProgressModel",
            "bar_style": "success",
            "max": 171,
            "_view_module": "@jupyter-widgets/controls",
            "_model_module_version": "1.5.0",
            "value": 171,
            "_view_count": null,
            "_view_module_version": "1.5.0",
            "orientation": "horizontal",
            "min": 0,
            "description_tooltip": null,
            "_model_module": "@jupyter-widgets/controls",
            "layout": "IPY_MODEL_42c15af12ef34b1698b36371eac0dc06"
          }
        },
        "2ac7bc38544644c5aa739a46229a09fe": {
          "model_module": "@jupyter-widgets/controls",
          "model_name": "HTMLModel",
          "state": {
            "_view_name": "HTMLView",
            "style": "IPY_MODEL_3ec41775629e4defa8114fcd974e98d1",
            "_dom_classes": [],
            "description": "",
            "_model_name": "HTMLModel",
            "placeholder": "​",
            "_view_module": "@jupyter-widgets/controls",
            "_model_module_version": "1.5.0",
            "value": " 171/171 [00:06&lt;00:00, 24.68ex/s]",
            "_view_count": null,
            "_view_module_version": "1.5.0",
            "description_tooltip": null,
            "_model_module": "@jupyter-widgets/controls",
            "layout": "IPY_MODEL_5b40ce060914469caf6f8c6d49003257"
          }
        },
        "e249ba4a03d04274bc0e9aeaf3513a77": {
          "model_module": "@jupyter-widgets/controls",
          "model_name": "ProgressStyleModel",
          "state": {
            "_view_name": "StyleView",
            "_model_name": "ProgressStyleModel",
            "description_width": "initial",
            "_view_module": "@jupyter-widgets/base",
            "_model_module_version": "1.5.0",
            "_view_count": null,
            "_view_module_version": "1.2.0",
            "bar_color": null,
            "_model_module": "@jupyter-widgets/controls"
          }
        },
        "42c15af12ef34b1698b36371eac0dc06": {
          "model_module": "@jupyter-widgets/base",
          "model_name": "LayoutModel",
          "state": {
            "_view_name": "LayoutView",
            "grid_template_rows": null,
            "right": null,
            "justify_content": null,
            "_view_module": "@jupyter-widgets/base",
            "overflow": null,
            "_model_module_version": "1.2.0",
            "_view_count": null,
            "flex_flow": null,
            "width": null,
            "min_width": null,
            "border": null,
            "align_items": null,
            "bottom": null,
            "_model_module": "@jupyter-widgets/base",
            "top": null,
            "grid_column": null,
            "overflow_y": null,
            "overflow_x": null,
            "grid_auto_flow": null,
            "grid_area": null,
            "grid_template_columns": null,
            "flex": null,
            "_model_name": "LayoutModel",
            "justify_items": null,
            "grid_row": null,
            "max_height": null,
            "align_content": null,
            "visibility": null,
            "align_self": null,
            "height": null,
            "min_height": null,
            "padding": null,
            "grid_auto_rows": null,
            "grid_gap": null,
            "max_width": null,
            "order": null,
            "_view_module_version": "1.2.0",
            "grid_template_areas": null,
            "object_position": null,
            "object_fit": null,
            "grid_auto_columns": null,
            "margin": null,
            "display": null,
            "left": null
          }
        },
        "3ec41775629e4defa8114fcd974e98d1": {
          "model_module": "@jupyter-widgets/controls",
          "model_name": "DescriptionStyleModel",
          "state": {
            "_view_name": "StyleView",
            "_model_name": "DescriptionStyleModel",
            "description_width": "",
            "_view_module": "@jupyter-widgets/base",
            "_model_module_version": "1.5.0",
            "_view_count": null,
            "_view_module_version": "1.2.0",
            "_model_module": "@jupyter-widgets/controls"
          }
        },
        "5b40ce060914469caf6f8c6d49003257": {
          "model_module": "@jupyter-widgets/base",
          "model_name": "LayoutModel",
          "state": {
            "_view_name": "LayoutView",
            "grid_template_rows": null,
            "right": null,
            "justify_content": null,
            "_view_module": "@jupyter-widgets/base",
            "overflow": null,
            "_model_module_version": "1.2.0",
            "_view_count": null,
            "flex_flow": null,
            "width": null,
            "min_width": null,
            "border": null,
            "align_items": null,
            "bottom": null,
            "_model_module": "@jupyter-widgets/base",
            "top": null,
            "grid_column": null,
            "overflow_y": null,
            "overflow_x": null,
            "grid_auto_flow": null,
            "grid_area": null,
            "grid_template_columns": null,
            "flex": null,
            "_model_name": "LayoutModel",
            "justify_items": null,
            "grid_row": null,
            "max_height": null,
            "align_content": null,
            "visibility": null,
            "align_self": null,
            "height": null,
            "min_height": null,
            "padding": null,
            "grid_auto_rows": null,
            "grid_gap": null,
            "max_width": null,
            "order": null,
            "_view_module_version": "1.2.0",
            "grid_template_areas": null,
            "object_position": null,
            "object_fit": null,
            "grid_auto_columns": null,
            "margin": null,
            "display": null,
            "left": null
          }
        },
        "429af35513ca4c36b381c320f9a9352a": {
          "model_module": "@jupyter-widgets/controls",
          "model_name": "HBoxModel",
          "state": {
            "_view_name": "HBoxView",
            "_dom_classes": [],
            "_model_name": "HBoxModel",
            "_view_module": "@jupyter-widgets/controls",
            "_model_module_version": "1.5.0",
            "_view_count": null,
            "_view_module_version": "1.5.0",
            "box_style": "",
            "layout": "IPY_MODEL_0f917118ed3841378c946dd785db4354",
            "_model_module": "@jupyter-widgets/controls",
            "children": [
              "IPY_MODEL_c7edaed616c04b439ee88b7ece04be73",
              "IPY_MODEL_8bf26ea33c7e4a20a77189b8f566e120"
            ]
          }
        },
        "0f917118ed3841378c946dd785db4354": {
          "model_module": "@jupyter-widgets/base",
          "model_name": "LayoutModel",
          "state": {
            "_view_name": "LayoutView",
            "grid_template_rows": null,
            "right": null,
            "justify_content": null,
            "_view_module": "@jupyter-widgets/base",
            "overflow": null,
            "_model_module_version": "1.2.0",
            "_view_count": null,
            "flex_flow": null,
            "width": null,
            "min_width": null,
            "border": null,
            "align_items": null,
            "bottom": null,
            "_model_module": "@jupyter-widgets/base",
            "top": null,
            "grid_column": null,
            "overflow_y": null,
            "overflow_x": null,
            "grid_auto_flow": null,
            "grid_area": null,
            "grid_template_columns": null,
            "flex": null,
            "_model_name": "LayoutModel",
            "justify_items": null,
            "grid_row": null,
            "max_height": null,
            "align_content": null,
            "visibility": null,
            "align_self": null,
            "height": null,
            "min_height": null,
            "padding": null,
            "grid_auto_rows": null,
            "grid_gap": null,
            "max_width": null,
            "order": null,
            "_view_module_version": "1.2.0",
            "grid_template_areas": null,
            "object_position": null,
            "object_fit": null,
            "grid_auto_columns": null,
            "margin": null,
            "display": null,
            "left": null
          }
        },
        "c7edaed616c04b439ee88b7ece04be73": {
          "model_module": "@jupyter-widgets/controls",
          "model_name": "FloatProgressModel",
          "state": {
            "_view_name": "ProgressView",
            "style": "IPY_MODEL_6be4a7b0513d46fbbcae7b6b2e836cfa",
            "_dom_classes": [],
            "description": "100%",
            "_model_name": "FloatProgressModel",
            "bar_style": "success",
            "max": 172,
            "_view_module": "@jupyter-widgets/controls",
            "_model_module_version": "1.5.0",
            "value": 172,
            "_view_count": null,
            "_view_module_version": "1.5.0",
            "orientation": "horizontal",
            "min": 0,
            "description_tooltip": null,
            "_model_module": "@jupyter-widgets/controls",
            "layout": "IPY_MODEL_c903d269d8564b2683b9491218f8f733"
          }
        },
        "8bf26ea33c7e4a20a77189b8f566e120": {
          "model_module": "@jupyter-widgets/controls",
          "model_name": "HTMLModel",
          "state": {
            "_view_name": "HTMLView",
            "style": "IPY_MODEL_4a9a34b89425481faae60d97f8572877",
            "_dom_classes": [],
            "description": "",
            "_model_name": "HTMLModel",
            "placeholder": "​",
            "_view_module": "@jupyter-widgets/controls",
            "_model_module_version": "1.5.0",
            "value": " 172/172 [00:33&lt;00:00,  5.14ba/s]",
            "_view_count": null,
            "_view_module_version": "1.5.0",
            "description_tooltip": null,
            "_model_module": "@jupyter-widgets/controls",
            "layout": "IPY_MODEL_6927e3f3c0a04adea36b7448e7504990"
          }
        },
        "6be4a7b0513d46fbbcae7b6b2e836cfa": {
          "model_module": "@jupyter-widgets/controls",
          "model_name": "ProgressStyleModel",
          "state": {
            "_view_name": "StyleView",
            "_model_name": "ProgressStyleModel",
            "description_width": "initial",
            "_view_module": "@jupyter-widgets/base",
            "_model_module_version": "1.5.0",
            "_view_count": null,
            "_view_module_version": "1.2.0",
            "bar_color": null,
            "_model_module": "@jupyter-widgets/controls"
          }
        },
        "c903d269d8564b2683b9491218f8f733": {
          "model_module": "@jupyter-widgets/base",
          "model_name": "LayoutModel",
          "state": {
            "_view_name": "LayoutView",
            "grid_template_rows": null,
            "right": null,
            "justify_content": null,
            "_view_module": "@jupyter-widgets/base",
            "overflow": null,
            "_model_module_version": "1.2.0",
            "_view_count": null,
            "flex_flow": null,
            "width": null,
            "min_width": null,
            "border": null,
            "align_items": null,
            "bottom": null,
            "_model_module": "@jupyter-widgets/base",
            "top": null,
            "grid_column": null,
            "overflow_y": null,
            "overflow_x": null,
            "grid_auto_flow": null,
            "grid_area": null,
            "grid_template_columns": null,
            "flex": null,
            "_model_name": "LayoutModel",
            "justify_items": null,
            "grid_row": null,
            "max_height": null,
            "align_content": null,
            "visibility": null,
            "align_self": null,
            "height": null,
            "min_height": null,
            "padding": null,
            "grid_auto_rows": null,
            "grid_gap": null,
            "max_width": null,
            "order": null,
            "_view_module_version": "1.2.0",
            "grid_template_areas": null,
            "object_position": null,
            "object_fit": null,
            "grid_auto_columns": null,
            "margin": null,
            "display": null,
            "left": null
          }
        },
        "4a9a34b89425481faae60d97f8572877": {
          "model_module": "@jupyter-widgets/controls",
          "model_name": "DescriptionStyleModel",
          "state": {
            "_view_name": "StyleView",
            "_model_name": "DescriptionStyleModel",
            "description_width": "",
            "_view_module": "@jupyter-widgets/base",
            "_model_module_version": "1.5.0",
            "_view_count": null,
            "_view_module_version": "1.2.0",
            "_model_module": "@jupyter-widgets/controls"
          }
        },
        "6927e3f3c0a04adea36b7448e7504990": {
          "model_module": "@jupyter-widgets/base",
          "model_name": "LayoutModel",
          "state": {
            "_view_name": "LayoutView",
            "grid_template_rows": null,
            "right": null,
            "justify_content": null,
            "_view_module": "@jupyter-widgets/base",
            "overflow": null,
            "_model_module_version": "1.2.0",
            "_view_count": null,
            "flex_flow": null,
            "width": null,
            "min_width": null,
            "border": null,
            "align_items": null,
            "bottom": null,
            "_model_module": "@jupyter-widgets/base",
            "top": null,
            "grid_column": null,
            "overflow_y": null,
            "overflow_x": null,
            "grid_auto_flow": null,
            "grid_area": null,
            "grid_template_columns": null,
            "flex": null,
            "_model_name": "LayoutModel",
            "justify_items": null,
            "grid_row": null,
            "max_height": null,
            "align_content": null,
            "visibility": null,
            "align_self": null,
            "height": null,
            "min_height": null,
            "padding": null,
            "grid_auto_rows": null,
            "grid_gap": null,
            "max_width": null,
            "order": null,
            "_view_module_version": "1.2.0",
            "grid_template_areas": null,
            "object_position": null,
            "object_fit": null,
            "grid_auto_columns": null,
            "margin": null,
            "display": null,
            "left": null
          }
        },
        "9efe2e4fd1c3494db7a11efaf024f30b": {
          "model_module": "@jupyter-widgets/controls",
          "model_name": "HBoxModel",
          "state": {
            "_view_name": "HBoxView",
            "_dom_classes": [],
            "_model_name": "HBoxModel",
            "_view_module": "@jupyter-widgets/controls",
            "_model_module_version": "1.5.0",
            "_view_count": null,
            "_view_module_version": "1.5.0",
            "box_style": "",
            "layout": "IPY_MODEL_d42537cfd747460398ff11413f5b751a",
            "_model_module": "@jupyter-widgets/controls",
            "children": [
              "IPY_MODEL_85216d3f06484907b501f6b49cb08c24",
              "IPY_MODEL_7494ee2567f64823925bcaa6069659e2"
            ]
          }
        },
        "d42537cfd747460398ff11413f5b751a": {
          "model_module": "@jupyter-widgets/base",
          "model_name": "LayoutModel",
          "state": {
            "_view_name": "LayoutView",
            "grid_template_rows": null,
            "right": null,
            "justify_content": null,
            "_view_module": "@jupyter-widgets/base",
            "overflow": null,
            "_model_module_version": "1.2.0",
            "_view_count": null,
            "flex_flow": null,
            "width": null,
            "min_width": null,
            "border": null,
            "align_items": null,
            "bottom": null,
            "_model_module": "@jupyter-widgets/base",
            "top": null,
            "grid_column": null,
            "overflow_y": null,
            "overflow_x": null,
            "grid_auto_flow": null,
            "grid_area": null,
            "grid_template_columns": null,
            "flex": null,
            "_model_name": "LayoutModel",
            "justify_items": null,
            "grid_row": null,
            "max_height": null,
            "align_content": null,
            "visibility": null,
            "align_self": null,
            "height": null,
            "min_height": null,
            "padding": null,
            "grid_auto_rows": null,
            "grid_gap": null,
            "max_width": null,
            "order": null,
            "_view_module_version": "1.2.0",
            "grid_template_areas": null,
            "object_position": null,
            "object_fit": null,
            "grid_auto_columns": null,
            "margin": null,
            "display": null,
            "left": null
          }
        },
        "85216d3f06484907b501f6b49cb08c24": {
          "model_module": "@jupyter-widgets/controls",
          "model_name": "FloatProgressModel",
          "state": {
            "_view_name": "ProgressView",
            "style": "IPY_MODEL_87e7d9dd07114facaf17a5ee60f856bf",
            "_dom_classes": [],
            "description": "100%",
            "_model_name": "FloatProgressModel",
            "bar_style": "success",
            "max": 52,
            "_view_module": "@jupyter-widgets/controls",
            "_model_module_version": "1.5.0",
            "value": 52,
            "_view_count": null,
            "_view_module_version": "1.5.0",
            "orientation": "horizontal",
            "min": 0,
            "description_tooltip": null,
            "_model_module": "@jupyter-widgets/controls",
            "layout": "IPY_MODEL_f5ec4aebedde461caed3e7de7800c55b"
          }
        },
        "7494ee2567f64823925bcaa6069659e2": {
          "model_module": "@jupyter-widgets/controls",
          "model_name": "HTMLModel",
          "state": {
            "_view_name": "HTMLView",
            "style": "IPY_MODEL_52507ddb6edf4ba99b1313c812ba7548",
            "_dom_classes": [],
            "description": "",
            "_model_name": "HTMLModel",
            "placeholder": "​",
            "_view_module": "@jupyter-widgets/controls",
            "_model_module_version": "1.5.0",
            "value": " 52/52 [01:18&lt;00:00,  1.50s/ba]",
            "_view_count": null,
            "_view_module_version": "1.5.0",
            "description_tooltip": null,
            "_model_module": "@jupyter-widgets/controls",
            "layout": "IPY_MODEL_95acb778f59a42f9ae872768b59ff509"
          }
        },
        "87e7d9dd07114facaf17a5ee60f856bf": {
          "model_module": "@jupyter-widgets/controls",
          "model_name": "ProgressStyleModel",
          "state": {
            "_view_name": "StyleView",
            "_model_name": "ProgressStyleModel",
            "description_width": "initial",
            "_view_module": "@jupyter-widgets/base",
            "_model_module_version": "1.5.0",
            "_view_count": null,
            "_view_module_version": "1.2.0",
            "bar_color": null,
            "_model_module": "@jupyter-widgets/controls"
          }
        },
        "f5ec4aebedde461caed3e7de7800c55b": {
          "model_module": "@jupyter-widgets/base",
          "model_name": "LayoutModel",
          "state": {
            "_view_name": "LayoutView",
            "grid_template_rows": null,
            "right": null,
            "justify_content": null,
            "_view_module": "@jupyter-widgets/base",
            "overflow": null,
            "_model_module_version": "1.2.0",
            "_view_count": null,
            "flex_flow": null,
            "width": null,
            "min_width": null,
            "border": null,
            "align_items": null,
            "bottom": null,
            "_model_module": "@jupyter-widgets/base",
            "top": null,
            "grid_column": null,
            "overflow_y": null,
            "overflow_x": null,
            "grid_auto_flow": null,
            "grid_area": null,
            "grid_template_columns": null,
            "flex": null,
            "_model_name": "LayoutModel",
            "justify_items": null,
            "grid_row": null,
            "max_height": null,
            "align_content": null,
            "visibility": null,
            "align_self": null,
            "height": null,
            "min_height": null,
            "padding": null,
            "grid_auto_rows": null,
            "grid_gap": null,
            "max_width": null,
            "order": null,
            "_view_module_version": "1.2.0",
            "grid_template_areas": null,
            "object_position": null,
            "object_fit": null,
            "grid_auto_columns": null,
            "margin": null,
            "display": null,
            "left": null
          }
        },
        "52507ddb6edf4ba99b1313c812ba7548": {
          "model_module": "@jupyter-widgets/controls",
          "model_name": "DescriptionStyleModel",
          "state": {
            "_view_name": "StyleView",
            "_model_name": "DescriptionStyleModel",
            "description_width": "",
            "_view_module": "@jupyter-widgets/base",
            "_model_module_version": "1.5.0",
            "_view_count": null,
            "_view_module_version": "1.2.0",
            "_model_module": "@jupyter-widgets/controls"
          }
        },
        "95acb778f59a42f9ae872768b59ff509": {
          "model_module": "@jupyter-widgets/base",
          "model_name": "LayoutModel",
          "state": {
            "_view_name": "LayoutView",
            "grid_template_rows": null,
            "right": null,
            "justify_content": null,
            "_view_module": "@jupyter-widgets/base",
            "overflow": null,
            "_model_module_version": "1.2.0",
            "_view_count": null,
            "flex_flow": null,
            "width": null,
            "min_width": null,
            "border": null,
            "align_items": null,
            "bottom": null,
            "_model_module": "@jupyter-widgets/base",
            "top": null,
            "grid_column": null,
            "overflow_y": null,
            "overflow_x": null,
            "grid_auto_flow": null,
            "grid_area": null,
            "grid_template_columns": null,
            "flex": null,
            "_model_name": "LayoutModel",
            "justify_items": null,
            "grid_row": null,
            "max_height": null,
            "align_content": null,
            "visibility": null,
            "align_self": null,
            "height": null,
            "min_height": null,
            "padding": null,
            "grid_auto_rows": null,
            "grid_gap": null,
            "max_width": null,
            "order": null,
            "_view_module_version": "1.2.0",
            "grid_template_areas": null,
            "object_position": null,
            "object_fit": null,
            "grid_auto_columns": null,
            "margin": null,
            "display": null,
            "left": null
          }
        },
        "3642367448c14898abca3401b94330eb": {
          "model_module": "@jupyter-widgets/controls",
          "model_name": "HBoxModel",
          "state": {
            "_view_name": "HBoxView",
            "_dom_classes": [],
            "_model_name": "HBoxModel",
            "_view_module": "@jupyter-widgets/controls",
            "_model_module_version": "1.5.0",
            "_view_count": null,
            "_view_module_version": "1.5.0",
            "box_style": "",
            "layout": "IPY_MODEL_97ce184b27644f5b974886aab266e8cf",
            "_model_module": "@jupyter-widgets/controls",
            "children": [
              "IPY_MODEL_a05ddd1fafd14065a9f96f33ec96b61f",
              "IPY_MODEL_143ce263420e4b8193dbe262bb2488ee"
            ]
          }
        },
        "97ce184b27644f5b974886aab266e8cf": {
          "model_module": "@jupyter-widgets/base",
          "model_name": "LayoutModel",
          "state": {
            "_view_name": "LayoutView",
            "grid_template_rows": null,
            "right": null,
            "justify_content": null,
            "_view_module": "@jupyter-widgets/base",
            "overflow": null,
            "_model_module_version": "1.2.0",
            "_view_count": null,
            "flex_flow": null,
            "width": null,
            "min_width": null,
            "border": null,
            "align_items": null,
            "bottom": null,
            "_model_module": "@jupyter-widgets/base",
            "top": null,
            "grid_column": null,
            "overflow_y": null,
            "overflow_x": null,
            "grid_auto_flow": null,
            "grid_area": null,
            "grid_template_columns": null,
            "flex": null,
            "_model_name": "LayoutModel",
            "justify_items": null,
            "grid_row": null,
            "max_height": null,
            "align_content": null,
            "visibility": null,
            "align_self": null,
            "height": null,
            "min_height": null,
            "padding": null,
            "grid_auto_rows": null,
            "grid_gap": null,
            "max_width": null,
            "order": null,
            "_view_module_version": "1.2.0",
            "grid_template_areas": null,
            "object_position": null,
            "object_fit": null,
            "grid_auto_columns": null,
            "margin": null,
            "display": null,
            "left": null
          }
        },
        "a05ddd1fafd14065a9f96f33ec96b61f": {
          "model_module": "@jupyter-widgets/controls",
          "model_name": "FloatProgressModel",
          "state": {
            "_view_name": "ProgressView",
            "style": "IPY_MODEL_3c130b820a994d88bcd0f89dc9ec7f2f",
            "_dom_classes": [],
            "description": "Downloading: ",
            "_model_name": "FloatProgressModel",
            "bar_style": "success",
            "max": 1764,
            "_view_module": "@jupyter-widgets/controls",
            "_model_module_version": "1.5.0",
            "value": 1764,
            "_view_count": null,
            "_view_module_version": "1.5.0",
            "orientation": "horizontal",
            "min": 0,
            "description_tooltip": null,
            "_model_module": "@jupyter-widgets/controls",
            "layout": "IPY_MODEL_b3020cf1711745d29c011cd2d26b0357"
          }
        },
        "143ce263420e4b8193dbe262bb2488ee": {
          "model_module": "@jupyter-widgets/controls",
          "model_name": "HTMLModel",
          "state": {
            "_view_name": "HTMLView",
            "style": "IPY_MODEL_c7eed975baa5425b9a39958b4b032c07",
            "_dom_classes": [],
            "description": "",
            "_model_name": "HTMLModel",
            "placeholder": "​",
            "_view_module": "@jupyter-widgets/controls",
            "_model_module_version": "1.5.0",
            "value": " 3.90k/? [00:00&lt;00:00, 17.7kB/s]",
            "_view_count": null,
            "_view_module_version": "1.5.0",
            "description_tooltip": null,
            "_model_module": "@jupyter-widgets/controls",
            "layout": "IPY_MODEL_5f11c1d600754712986e0529b595fd62"
          }
        },
        "3c130b820a994d88bcd0f89dc9ec7f2f": {
          "model_module": "@jupyter-widgets/controls",
          "model_name": "ProgressStyleModel",
          "state": {
            "_view_name": "StyleView",
            "_model_name": "ProgressStyleModel",
            "description_width": "initial",
            "_view_module": "@jupyter-widgets/base",
            "_model_module_version": "1.5.0",
            "_view_count": null,
            "_view_module_version": "1.2.0",
            "bar_color": null,
            "_model_module": "@jupyter-widgets/controls"
          }
        },
        "b3020cf1711745d29c011cd2d26b0357": {
          "model_module": "@jupyter-widgets/base",
          "model_name": "LayoutModel",
          "state": {
            "_view_name": "LayoutView",
            "grid_template_rows": null,
            "right": null,
            "justify_content": null,
            "_view_module": "@jupyter-widgets/base",
            "overflow": null,
            "_model_module_version": "1.2.0",
            "_view_count": null,
            "flex_flow": null,
            "width": null,
            "min_width": null,
            "border": null,
            "align_items": null,
            "bottom": null,
            "_model_module": "@jupyter-widgets/base",
            "top": null,
            "grid_column": null,
            "overflow_y": null,
            "overflow_x": null,
            "grid_auto_flow": null,
            "grid_area": null,
            "grid_template_columns": null,
            "flex": null,
            "_model_name": "LayoutModel",
            "justify_items": null,
            "grid_row": null,
            "max_height": null,
            "align_content": null,
            "visibility": null,
            "align_self": null,
            "height": null,
            "min_height": null,
            "padding": null,
            "grid_auto_rows": null,
            "grid_gap": null,
            "max_width": null,
            "order": null,
            "_view_module_version": "1.2.0",
            "grid_template_areas": null,
            "object_position": null,
            "object_fit": null,
            "grid_auto_columns": null,
            "margin": null,
            "display": null,
            "left": null
          }
        },
        "c7eed975baa5425b9a39958b4b032c07": {
          "model_module": "@jupyter-widgets/controls",
          "model_name": "DescriptionStyleModel",
          "state": {
            "_view_name": "StyleView",
            "_model_name": "DescriptionStyleModel",
            "description_width": "",
            "_view_module": "@jupyter-widgets/base",
            "_model_module_version": "1.5.0",
            "_view_count": null,
            "_view_module_version": "1.2.0",
            "_model_module": "@jupyter-widgets/controls"
          }
        },
        "5f11c1d600754712986e0529b595fd62": {
          "model_module": "@jupyter-widgets/base",
          "model_name": "LayoutModel",
          "state": {
            "_view_name": "LayoutView",
            "grid_template_rows": null,
            "right": null,
            "justify_content": null,
            "_view_module": "@jupyter-widgets/base",
            "overflow": null,
            "_model_module_version": "1.2.0",
            "_view_count": null,
            "flex_flow": null,
            "width": null,
            "min_width": null,
            "border": null,
            "align_items": null,
            "bottom": null,
            "_model_module": "@jupyter-widgets/base",
            "top": null,
            "grid_column": null,
            "overflow_y": null,
            "overflow_x": null,
            "grid_auto_flow": null,
            "grid_area": null,
            "grid_template_columns": null,
            "flex": null,
            "_model_name": "LayoutModel",
            "justify_items": null,
            "grid_row": null,
            "max_height": null,
            "align_content": null,
            "visibility": null,
            "align_self": null,
            "height": null,
            "min_height": null,
            "padding": null,
            "grid_auto_rows": null,
            "grid_gap": null,
            "max_width": null,
            "order": null,
            "_view_module_version": "1.2.0",
            "grid_template_areas": null,
            "object_position": null,
            "object_fit": null,
            "grid_auto_columns": null,
            "margin": null,
            "display": null,
            "left": null
          }
        },
        "bd3161759c1a41fd933f5e552c00e38c": {
          "model_module": "@jupyter-widgets/controls",
          "model_name": "HBoxModel",
          "state": {
            "_view_name": "HBoxView",
            "_dom_classes": [],
            "_model_name": "HBoxModel",
            "_view_module": "@jupyter-widgets/controls",
            "_model_module_version": "1.5.0",
            "_view_count": null,
            "_view_module_version": "1.5.0",
            "box_style": "",
            "layout": "IPY_MODEL_888e5743d9294aec865d976b463bc04e",
            "_model_module": "@jupyter-widgets/controls",
            "children": [
              "IPY_MODEL_2f0ac66a99df4373b5d7e2ade6ee4a27",
              "IPY_MODEL_5d44fdbacd9a41d085ad0e7ec64fee21"
            ]
          }
        },
        "888e5743d9294aec865d976b463bc04e": {
          "model_module": "@jupyter-widgets/base",
          "model_name": "LayoutModel",
          "state": {
            "_view_name": "LayoutView",
            "grid_template_rows": null,
            "right": null,
            "justify_content": null,
            "_view_module": "@jupyter-widgets/base",
            "overflow": null,
            "_model_module_version": "1.2.0",
            "_view_count": null,
            "flex_flow": null,
            "width": null,
            "min_width": null,
            "border": null,
            "align_items": null,
            "bottom": null,
            "_model_module": "@jupyter-widgets/base",
            "top": null,
            "grid_column": null,
            "overflow_y": null,
            "overflow_x": null,
            "grid_auto_flow": null,
            "grid_area": null,
            "grid_template_columns": null,
            "flex": null,
            "_model_name": "LayoutModel",
            "justify_items": null,
            "grid_row": null,
            "max_height": null,
            "align_content": null,
            "visibility": null,
            "align_self": null,
            "height": null,
            "min_height": null,
            "padding": null,
            "grid_auto_rows": null,
            "grid_gap": null,
            "max_width": null,
            "order": null,
            "_view_module_version": "1.2.0",
            "grid_template_areas": null,
            "object_position": null,
            "object_fit": null,
            "grid_auto_columns": null,
            "margin": null,
            "display": null,
            "left": null
          }
        },
        "2f0ac66a99df4373b5d7e2ade6ee4a27": {
          "model_module": "@jupyter-widgets/controls",
          "model_name": "FloatProgressModel",
          "state": {
            "_view_name": "ProgressView",
            "style": "IPY_MODEL_cca69151aae6433ea46587969f65c9ff",
            "_dom_classes": [],
            "description": "Downloading: 100%",
            "_model_name": "FloatProgressModel",
            "bar_style": "success",
            "max": 1768,
            "_view_module": "@jupyter-widgets/controls",
            "_model_module_version": "1.5.0",
            "value": 1768,
            "_view_count": null,
            "_view_module_version": "1.5.0",
            "orientation": "horizontal",
            "min": 0,
            "description_tooltip": null,
            "_model_module": "@jupyter-widgets/controls",
            "layout": "IPY_MODEL_1f2734bae3a245de90d0678440632ae7"
          }
        },
        "5d44fdbacd9a41d085ad0e7ec64fee21": {
          "model_module": "@jupyter-widgets/controls",
          "model_name": "HTMLModel",
          "state": {
            "_view_name": "HTMLView",
            "style": "IPY_MODEL_d205a851cac448ca879f2c54dc7c980a",
            "_dom_classes": [],
            "description": "",
            "_model_name": "HTMLModel",
            "placeholder": "​",
            "_view_module": "@jupyter-widgets/controls",
            "_model_module_version": "1.5.0",
            "value": " 1.77k/1.77k [00:00&lt;00:00, 3.02kB/s]",
            "_view_count": null,
            "_view_module_version": "1.5.0",
            "description_tooltip": null,
            "_model_module": "@jupyter-widgets/controls",
            "layout": "IPY_MODEL_1592ae4ec0a149c7bc0f84effd9ce605"
          }
        },
        "cca69151aae6433ea46587969f65c9ff": {
          "model_module": "@jupyter-widgets/controls",
          "model_name": "ProgressStyleModel",
          "state": {
            "_view_name": "StyleView",
            "_model_name": "ProgressStyleModel",
            "description_width": "initial",
            "_view_module": "@jupyter-widgets/base",
            "_model_module_version": "1.5.0",
            "_view_count": null,
            "_view_module_version": "1.2.0",
            "bar_color": null,
            "_model_module": "@jupyter-widgets/controls"
          }
        },
        "1f2734bae3a245de90d0678440632ae7": {
          "model_module": "@jupyter-widgets/base",
          "model_name": "LayoutModel",
          "state": {
            "_view_name": "LayoutView",
            "grid_template_rows": null,
            "right": null,
            "justify_content": null,
            "_view_module": "@jupyter-widgets/base",
            "overflow": null,
            "_model_module_version": "1.2.0",
            "_view_count": null,
            "flex_flow": null,
            "width": null,
            "min_width": null,
            "border": null,
            "align_items": null,
            "bottom": null,
            "_model_module": "@jupyter-widgets/base",
            "top": null,
            "grid_column": null,
            "overflow_y": null,
            "overflow_x": null,
            "grid_auto_flow": null,
            "grid_area": null,
            "grid_template_columns": null,
            "flex": null,
            "_model_name": "LayoutModel",
            "justify_items": null,
            "grid_row": null,
            "max_height": null,
            "align_content": null,
            "visibility": null,
            "align_self": null,
            "height": null,
            "min_height": null,
            "padding": null,
            "grid_auto_rows": null,
            "grid_gap": null,
            "max_width": null,
            "order": null,
            "_view_module_version": "1.2.0",
            "grid_template_areas": null,
            "object_position": null,
            "object_fit": null,
            "grid_auto_columns": null,
            "margin": null,
            "display": null,
            "left": null
          }
        },
        "d205a851cac448ca879f2c54dc7c980a": {
          "model_module": "@jupyter-widgets/controls",
          "model_name": "DescriptionStyleModel",
          "state": {
            "_view_name": "StyleView",
            "_model_name": "DescriptionStyleModel",
            "description_width": "",
            "_view_module": "@jupyter-widgets/base",
            "_model_module_version": "1.5.0",
            "_view_count": null,
            "_view_module_version": "1.2.0",
            "_model_module": "@jupyter-widgets/controls"
          }
        },
        "1592ae4ec0a149c7bc0f84effd9ce605": {
          "model_module": "@jupyter-widgets/base",
          "model_name": "LayoutModel",
          "state": {
            "_view_name": "LayoutView",
            "grid_template_rows": null,
            "right": null,
            "justify_content": null,
            "_view_module": "@jupyter-widgets/base",
            "overflow": null,
            "_model_module_version": "1.2.0",
            "_view_count": null,
            "flex_flow": null,
            "width": null,
            "min_width": null,
            "border": null,
            "align_items": null,
            "bottom": null,
            "_model_module": "@jupyter-widgets/base",
            "top": null,
            "grid_column": null,
            "overflow_y": null,
            "overflow_x": null,
            "grid_auto_flow": null,
            "grid_area": null,
            "grid_template_columns": null,
            "flex": null,
            "_model_name": "LayoutModel",
            "justify_items": null,
            "grid_row": null,
            "max_height": null,
            "align_content": null,
            "visibility": null,
            "align_self": null,
            "height": null,
            "min_height": null,
            "padding": null,
            "grid_auto_rows": null,
            "grid_gap": null,
            "max_width": null,
            "order": null,
            "_view_module_version": "1.2.0",
            "grid_template_areas": null,
            "object_position": null,
            "object_fit": null,
            "grid_auto_columns": null,
            "margin": null,
            "display": null,
            "left": null
          }
        },
        "d22cdf545ac1436a96a80b869d587dc5": {
          "model_module": "@jupyter-widgets/controls",
          "model_name": "HBoxModel",
          "state": {
            "_view_name": "HBoxView",
            "_dom_classes": [],
            "_model_name": "HBoxModel",
            "_view_module": "@jupyter-widgets/controls",
            "_model_module_version": "1.5.0",
            "_view_count": null,
            "_view_module_version": "1.5.0",
            "box_style": "",
            "layout": "IPY_MODEL_f0372ed53b3040fdacb35d251a576687",
            "_model_module": "@jupyter-widgets/controls",
            "children": [
              "IPY_MODEL_512bbd3110eb474f862bb2cc92829451",
              "IPY_MODEL_5b26146380c24c4f94eddd5258f29db3"
            ]
          }
        },
        "f0372ed53b3040fdacb35d251a576687": {
          "model_module": "@jupyter-widgets/base",
          "model_name": "LayoutModel",
          "state": {
            "_view_name": "LayoutView",
            "grid_template_rows": null,
            "right": null,
            "justify_content": null,
            "_view_module": "@jupyter-widgets/base",
            "overflow": null,
            "_model_module_version": "1.2.0",
            "_view_count": null,
            "flex_flow": null,
            "width": null,
            "min_width": null,
            "border": null,
            "align_items": null,
            "bottom": null,
            "_model_module": "@jupyter-widgets/base",
            "top": null,
            "grid_column": null,
            "overflow_y": null,
            "overflow_x": null,
            "grid_auto_flow": null,
            "grid_area": null,
            "grid_template_columns": null,
            "flex": null,
            "_model_name": "LayoutModel",
            "justify_items": null,
            "grid_row": null,
            "max_height": null,
            "align_content": null,
            "visibility": null,
            "align_self": null,
            "height": null,
            "min_height": null,
            "padding": null,
            "grid_auto_rows": null,
            "grid_gap": null,
            "max_width": null,
            "order": null,
            "_view_module_version": "1.2.0",
            "grid_template_areas": null,
            "object_position": null,
            "object_fit": null,
            "grid_auto_columns": null,
            "margin": null,
            "display": null,
            "left": null
          }
        },
        "512bbd3110eb474f862bb2cc92829451": {
          "model_module": "@jupyter-widgets/controls",
          "model_name": "FloatProgressModel",
          "state": {
            "_view_name": "ProgressView",
            "style": "IPY_MODEL_f67e890d26b34e10972478b6e2d4cdac",
            "_dom_classes": [],
            "description": "Downloading: 100%",
            "_model_name": "FloatProgressModel",
            "bar_style": "success",
            "max": 1269737156,
            "_view_module": "@jupyter-widgets/controls",
            "_model_module_version": "1.5.0",
            "value": 1269737156,
            "_view_count": null,
            "_view_module_version": "1.5.0",
            "orientation": "horizontal",
            "min": 0,
            "description_tooltip": null,
            "_model_module": "@jupyter-widgets/controls",
            "layout": "IPY_MODEL_d29b9c84ffde45c792d7e0504bdb1505"
          }
        },
        "5b26146380c24c4f94eddd5258f29db3": {
          "model_module": "@jupyter-widgets/controls",
          "model_name": "HTMLModel",
          "state": {
            "_view_name": "HTMLView",
            "style": "IPY_MODEL_421b81fcff6b421eb360b258695fa778",
            "_dom_classes": [],
            "description": "",
            "_model_name": "HTMLModel",
            "placeholder": "​",
            "_view_module": "@jupyter-widgets/controls",
            "_model_module_version": "1.5.0",
            "value": " 1.27G/1.27G [00:34&lt;00:00, 36.5MB/s]",
            "_view_count": null,
            "_view_module_version": "1.5.0",
            "description_tooltip": null,
            "_model_module": "@jupyter-widgets/controls",
            "layout": "IPY_MODEL_85745570f96f4f25897ee7e56e8be7b7"
          }
        },
        "f67e890d26b34e10972478b6e2d4cdac": {
          "model_module": "@jupyter-widgets/controls",
          "model_name": "ProgressStyleModel",
          "state": {
            "_view_name": "StyleView",
            "_model_name": "ProgressStyleModel",
            "description_width": "initial",
            "_view_module": "@jupyter-widgets/base",
            "_model_module_version": "1.5.0",
            "_view_count": null,
            "_view_module_version": "1.2.0",
            "bar_color": null,
            "_model_module": "@jupyter-widgets/controls"
          }
        },
        "d29b9c84ffde45c792d7e0504bdb1505": {
          "model_module": "@jupyter-widgets/base",
          "model_name": "LayoutModel",
          "state": {
            "_view_name": "LayoutView",
            "grid_template_rows": null,
            "right": null,
            "justify_content": null,
            "_view_module": "@jupyter-widgets/base",
            "overflow": null,
            "_model_module_version": "1.2.0",
            "_view_count": null,
            "flex_flow": null,
            "width": null,
            "min_width": null,
            "border": null,
            "align_items": null,
            "bottom": null,
            "_model_module": "@jupyter-widgets/base",
            "top": null,
            "grid_column": null,
            "overflow_y": null,
            "overflow_x": null,
            "grid_auto_flow": null,
            "grid_area": null,
            "grid_template_columns": null,
            "flex": null,
            "_model_name": "LayoutModel",
            "justify_items": null,
            "grid_row": null,
            "max_height": null,
            "align_content": null,
            "visibility": null,
            "align_self": null,
            "height": null,
            "min_height": null,
            "padding": null,
            "grid_auto_rows": null,
            "grid_gap": null,
            "max_width": null,
            "order": null,
            "_view_module_version": "1.2.0",
            "grid_template_areas": null,
            "object_position": null,
            "object_fit": null,
            "grid_auto_columns": null,
            "margin": null,
            "display": null,
            "left": null
          }
        },
        "421b81fcff6b421eb360b258695fa778": {
          "model_module": "@jupyter-widgets/controls",
          "model_name": "DescriptionStyleModel",
          "state": {
            "_view_name": "StyleView",
            "_model_name": "DescriptionStyleModel",
            "description_width": "",
            "_view_module": "@jupyter-widgets/base",
            "_model_module_version": "1.5.0",
            "_view_count": null,
            "_view_module_version": "1.2.0",
            "_model_module": "@jupyter-widgets/controls"
          }
        },
        "85745570f96f4f25897ee7e56e8be7b7": {
          "model_module": "@jupyter-widgets/base",
          "model_name": "LayoutModel",
          "state": {
            "_view_name": "LayoutView",
            "grid_template_rows": null,
            "right": null,
            "justify_content": null,
            "_view_module": "@jupyter-widgets/base",
            "overflow": null,
            "_model_module_version": "1.2.0",
            "_view_count": null,
            "flex_flow": null,
            "width": null,
            "min_width": null,
            "border": null,
            "align_items": null,
            "bottom": null,
            "_model_module": "@jupyter-widgets/base",
            "top": null,
            "grid_column": null,
            "overflow_y": null,
            "overflow_x": null,
            "grid_auto_flow": null,
            "grid_area": null,
            "grid_template_columns": null,
            "flex": null,
            "_model_name": "LayoutModel",
            "justify_items": null,
            "grid_row": null,
            "max_height": null,
            "align_content": null,
            "visibility": null,
            "align_self": null,
            "height": null,
            "min_height": null,
            "padding": null,
            "grid_auto_rows": null,
            "grid_gap": null,
            "max_width": null,
            "order": null,
            "_view_module_version": "1.2.0",
            "grid_template_areas": null,
            "object_position": null,
            "object_fit": null,
            "grid_auto_columns": null,
            "margin": null,
            "display": null,
            "left": null
          }
        }
      }
    }
  },
  "cells": [
    {
      "cell_type": "markdown",
      "metadata": {
        "id": "view-in-github",
        "colab_type": "text"
      },
      "source": [
        "<a href=\"https://colab.research.google.com/github/yuifuku1118/TobyPy/blob/master/YY_roma_model_v3.ipynb\" target=\"_parent\"><img src=\"https://colab.research.google.com/assets/colab-badge.svg\" alt=\"Open In Colab\"/></a>"
      ]
    },
    {
      "cell_type": "code",
      "metadata": {
        "id": "q2IoZxtZ-LQN"
      },
      "source": [
        "%%capture\n",
        "!pip install datasets==1.4.1\n",
        "!pip install transformers==4.4.0\n",
        "!pip install torchaudio\n",
        "!pip install librosa\n",
        "!pip install jiwer\n",
        "!pip install pykakasi\n",
        "!pip install romkan\n",
        "!pip install pandas "
      ],
      "execution_count": null,
      "outputs": []
    },
    {
      "cell_type": "markdown",
      "metadata": {
        "id": "b2KjiKuZxzjV"
      },
      "source": [
        "#モデル作成"
      ]
    },
    {
      "cell_type": "markdown",
      "metadata": {
        "id": "jIhxCWsIK4ZB"
      },
      "source": [
        "## データセット作成"
      ]
    },
    {
      "cell_type": "code",
      "metadata": {
        "colab": {
          "base_uri": "https://localhost:8080/"
        },
        "id": "Zgf9vvgxTtGn",
        "outputId": "e7022d66-770a-4005-8357-4e442e7fd660"
      },
      "source": [
        "from google.colab import drive\n",
        "\n",
        "/drive.mount('/content/gdrive/')"
      ],
      "execution_count": null,
      "outputs": [
        {
          "output_type": "stream",
          "text": [
            "Mounted at /content/gdrive/\n"
          ],
          "name": "stdout"
        }
      ]
    },
    {
      "cell_type": "code",
      "metadata": {
        "id": "iy1nFpYMG8qQ"
      },
      "source": [
        "import os\n",
        "def get_filename(pathname):\n",
        "    return os.path.basename(pathname)"
      ],
      "execution_count": null,
      "outputs": []
    },
    {
      "cell_type": "markdown",
      "metadata": {
        "id": "cvKQ7Txrs18J"
      },
      "source": [
        "Yuichiro Model\n"
      ]
    },
    {
      "cell_type": "code",
      "metadata": {
        "id": "Cp6zOy3LAPrI"
      },
      "source": [
        "import glob\n",
        "import pandas as pd"
      ],
      "execution_count": null,
      "outputs": []
    },
    {
      "cell_type": "code",
      "metadata": {
        "id": "15hoTrlWCkfb"
      },
      "source": [
        "file1 = open('/content/gdrive/MyDrive/yamaoka_san_voice/label.txt', 'r')\n",
        "Lines = file1.readlines()"
      ],
      "execution_count": null,
      "outputs": []
    },
    {
      "cell_type": "code",
      "metadata": {
        "id": "_gjpHYfxCriL"
      },
      "source": [
        "pathdict = {}\n",
        "for i in Lines:\n",
        "    s = i.rstrip('\\n').split('.')\n",
        "    label = s[1].replace(\" \", \"\")\n",
        "    name = int(s[0])\n",
        "    pathdict[name] = label"
      ],
      "execution_count": null,
      "outputs": []
    },
    {
      "cell_type": "code",
      "metadata": {
        "colab": {
          "base_uri": "https://localhost:8080/"
        },
        "id": "YksnUNGv9u47",
        "outputId": "7e30594b-fcbc-470e-912f-428967673cc3"
      },
      "source": [
        "pathdict"
      ],
      "execution_count": null,
      "outputs": [
        {
          "output_type": "execute_result",
          "data": {
            "text/plain": [
              "{1: 'お電話ありがとうございます',\n",
              " 2: 'どのようなご用件',\n",
              " 3: 'どのようなお問い合わせ',\n",
              " 4: 'ありがとう',\n",
              " 5: '申し訳ありません',\n",
              " 6: 'はい',\n",
              " 7: 'いいえ',\n",
              " 8: '今後ともよろしくお願いいたします',\n",
              " 9: '解決しました',\n",
              " 10: '解決しません',\n",
              " 11: 'よかったです',\n",
              " 12: '本当に',\n",
              " 13: 'おせわになっております',\n",
              " 14: 'おはようございます',\n",
              " 15: 'こんにちわ',\n",
              " 16: 'いえ',\n",
              " 17: 'そうですね',\n",
              " 18: 'ありがとうございます',\n",
              " 19: '助かりました',\n",
              " 20: '大変助かりました',\n",
              " 21: 'おかしいです',\n",
              " 22: 'おかしくないですか',\n",
              " 23: '納得できない',\n",
              " 24: '納得できません',\n",
              " 25: '納得しました',\n",
              " 26: '納得できました',\n",
              " 27: '解決しました',\n",
              " 28: '解決しません',\n",
              " 29: 'ほっとしました',\n",
              " 30: '安心です',\n",
              " 31: '安心しました',\n",
              " 32: '不安です',\n",
              " 33: '不安なんです',\n",
              " 34: '不安がなくなりました',\n",
              " 35: 'ありがとうございます'}"
            ]
          },
          "metadata": {
            "tags": []
          },
          "execution_count": 7
        }
      ]
    },
    {
      "cell_type": "code",
      "metadata": {
        "id": "_J21sZY0tBgU"
      },
      "source": [
        "folderpathlist = glob.glob(\"/content/gdrive/MyDrive/yuichiro_voice/*\")"
      ],
      "execution_count": null,
      "outputs": []
    },
    {
      "cell_type": "code",
      "metadata": {
        "id": "fOjDE1dC-6RD"
      },
      "source": [
        "folderpathlist.remove('/content/gdrive/MyDrive/yuichiro_voice/label.txt')"
      ],
      "execution_count": null,
      "outputs": []
    },
    {
      "cell_type": "code",
      "metadata": {
        "id": "F9FZDG_7-_ak"
      },
      "source": [
        "wavpathlist = []\n",
        "for eachfolder in folderpathlist:\n",
        "  wavlist = glob.glob(eachfolder + \"/*.wav\")\n",
        "  wavpathlist.extend(wavlist)"
      ],
      "execution_count": null,
      "outputs": []
    },
    {
      "cell_type": "code",
      "metadata": {
        "id": "1rUQ3c_3tD2w"
      },
      "source": [
        "arr = []\n",
        "for eachpath in wavpathlist:\n",
        "    filename = get_filename(eachpath)\n",
        "    name = int(filename.split(\".\")[0])\n",
        "    label = pathdict[name]\n",
        "    arr.append([eachpath, label])"
      ],
      "execution_count": null,
      "outputs": []
    },
    {
      "cell_type": "code",
      "metadata": {
        "id": "sLoTyhLNtFbC"
      },
      "source": [
        "main = pd.DataFrame(arr, columns =['path', 'sentence'])"
      ],
      "execution_count": null,
      "outputs": []
    },
    {
      "cell_type": "code",
      "metadata": {
        "colab": {
          "base_uri": "https://localhost:8080/",
          "height": 419
        },
        "id": "B3S3H9Ke22LV",
        "outputId": "0012a82d-315c-412c-ccf1-8481a96b4d3e"
      },
      "source": [
        "main"
      ],
      "execution_count": null,
      "outputs": [
        {
          "output_type": "execute_result",
          "data": {
            "text/html": [
              "<div>\n",
              "<style scoped>\n",
              "    .dataframe tbody tr th:only-of-type {\n",
              "        vertical-align: middle;\n",
              "    }\n",
              "\n",
              "    .dataframe tbody tr th {\n",
              "        vertical-align: top;\n",
              "    }\n",
              "\n",
              "    .dataframe thead th {\n",
              "        text-align: right;\n",
              "    }\n",
              "</style>\n",
              "<table border=\"1\" class=\"dataframe\">\n",
              "  <thead>\n",
              "    <tr style=\"text-align: right;\">\n",
              "      <th></th>\n",
              "      <th>path</th>\n",
              "      <th>sentence</th>\n",
              "    </tr>\n",
              "  </thead>\n",
              "  <tbody>\n",
              "    <tr>\n",
              "      <th>0</th>\n",
              "      <td>/content/gdrive/MyDrive/yuichiro_voice/origina...</td>\n",
              "      <td>お電話ありがとうございます</td>\n",
              "    </tr>\n",
              "    <tr>\n",
              "      <th>1</th>\n",
              "      <td>/content/gdrive/MyDrive/yuichiro_voice/origina...</td>\n",
              "      <td>どのようなご用件</td>\n",
              "    </tr>\n",
              "    <tr>\n",
              "      <th>2</th>\n",
              "      <td>/content/gdrive/MyDrive/yuichiro_voice/origina...</td>\n",
              "      <td>どのようなお問い合わせ</td>\n",
              "    </tr>\n",
              "    <tr>\n",
              "      <th>3</th>\n",
              "      <td>/content/gdrive/MyDrive/yuichiro_voice/origina...</td>\n",
              "      <td>ありがとう</td>\n",
              "    </tr>\n",
              "    <tr>\n",
              "      <th>4</th>\n",
              "      <td>/content/gdrive/MyDrive/yuichiro_voice/origina...</td>\n",
              "      <td>申し訳ありません</td>\n",
              "    </tr>\n",
              "    <tr>\n",
              "      <th>...</th>\n",
              "      <td>...</td>\n",
              "      <td>...</td>\n",
              "    </tr>\n",
              "    <tr>\n",
              "      <th>681</th>\n",
              "      <td>/content/gdrive/MyDrive/yuichiro_voice/pydubm0...</td>\n",
              "      <td>安心です</td>\n",
              "    </tr>\n",
              "    <tr>\n",
              "      <th>682</th>\n",
              "      <td>/content/gdrive/MyDrive/yuichiro_voice/pydubm0...</td>\n",
              "      <td>不安です</td>\n",
              "    </tr>\n",
              "    <tr>\n",
              "      <th>683</th>\n",
              "      <td>/content/gdrive/MyDrive/yuichiro_voice/pydubm0...</td>\n",
              "      <td>不安なんです</td>\n",
              "    </tr>\n",
              "    <tr>\n",
              "      <th>684</th>\n",
              "      <td>/content/gdrive/MyDrive/yuichiro_voice/pydubm0...</td>\n",
              "      <td>不安がなくなりました</td>\n",
              "    </tr>\n",
              "    <tr>\n",
              "      <th>685</th>\n",
              "      <td>/content/gdrive/MyDrive/yuichiro_voice/pydubm0...</td>\n",
              "      <td>安心しました</td>\n",
              "    </tr>\n",
              "  </tbody>\n",
              "</table>\n",
              "<p>686 rows × 2 columns</p>\n",
              "</div>"
            ],
            "text/plain": [
              "                                                  path       sentence\n",
              "0    /content/gdrive/MyDrive/yuichiro_voice/origina...  お電話ありがとうございます\n",
              "1    /content/gdrive/MyDrive/yuichiro_voice/origina...       どのようなご用件\n",
              "2    /content/gdrive/MyDrive/yuichiro_voice/origina...    どのようなお問い合わせ\n",
              "3    /content/gdrive/MyDrive/yuichiro_voice/origina...          ありがとう\n",
              "4    /content/gdrive/MyDrive/yuichiro_voice/origina...       申し訳ありません\n",
              "..                                                 ...            ...\n",
              "681  /content/gdrive/MyDrive/yuichiro_voice/pydubm0...           安心です\n",
              "682  /content/gdrive/MyDrive/yuichiro_voice/pydubm0...           不安です\n",
              "683  /content/gdrive/MyDrive/yuichiro_voice/pydubm0...         不安なんです\n",
              "684  /content/gdrive/MyDrive/yuichiro_voice/pydubm0...     不安がなくなりました\n",
              "685  /content/gdrive/MyDrive/yuichiro_voice/pydubm0...         安心しました\n",
              "\n",
              "[686 rows x 2 columns]"
            ]
          },
          "metadata": {
            "tags": []
          },
          "execution_count": 12
        }
      ]
    },
    {
      "cell_type": "code",
      "metadata": {
        "id": "UKiMEJGAqzrv"
      },
      "source": [
        "folderpathlist = glob.glob(\"/content/gdrive/MyDrive/yamaoka_san_voice/*\")"
      ],
      "execution_count": null,
      "outputs": []
    },
    {
      "cell_type": "code",
      "metadata": {
        "id": "a4SKI2X8q9Yy"
      },
      "source": [
        "folderpathlist.remove('/content/gdrive/MyDrive/yamaoka_san_voice/label.txt')"
      ],
      "execution_count": null,
      "outputs": []
    },
    {
      "cell_type": "code",
      "metadata": {
        "id": "mP4xIvFCrJM4"
      },
      "source": [
        "y_arr = []\n",
        "for eachpath in wavpathlist:\n",
        "    filename = get_filename(eachpath)\n",
        "    name = int(filename.split(\".\")[0])\n",
        "    label = pathdict[name]\n",
        "    y_arr.append([eachpath, label])"
      ],
      "execution_count": null,
      "outputs": []
    },
    {
      "cell_type": "code",
      "metadata": {
        "id": "rPw11VxdrGd6"
      },
      "source": [
        "wavpathlist = []\n",
        "for eachfolder in folderpathlist:\n",
        "  wavlist = glob.glob(eachfolder + \"/*.wav\")\n",
        "  wavpathlist.extend(wavlist)"
      ],
      "execution_count": null,
      "outputs": []
    },
    {
      "cell_type": "code",
      "metadata": {
        "id": "xjRMqpdPrMSL"
      },
      "source": [
        "y_main = pd.DataFrame(y_arr, columns =['path', 'sentence'])"
      ],
      "execution_count": null,
      "outputs": []
    },
    {
      "cell_type": "code",
      "metadata": {
        "colab": {
          "base_uri": "https://localhost:8080/",
          "height": 419
        },
        "id": "7odzSj80rQUa",
        "outputId": "9551a907-5958-4242-bcff-e7c80f15076a"
      },
      "source": [
        "y_main"
      ],
      "execution_count": null,
      "outputs": [
        {
          "output_type": "execute_result",
          "data": {
            "text/html": [
              "<div>\n",
              "<style scoped>\n",
              "    .dataframe tbody tr th:only-of-type {\n",
              "        vertical-align: middle;\n",
              "    }\n",
              "\n",
              "    .dataframe tbody tr th {\n",
              "        vertical-align: top;\n",
              "    }\n",
              "\n",
              "    .dataframe thead th {\n",
              "        text-align: right;\n",
              "    }\n",
              "</style>\n",
              "<table border=\"1\" class=\"dataframe\">\n",
              "  <thead>\n",
              "    <tr style=\"text-align: right;\">\n",
              "      <th></th>\n",
              "      <th>path</th>\n",
              "      <th>sentence</th>\n",
              "    </tr>\n",
              "  </thead>\n",
              "  <tbody>\n",
              "    <tr>\n",
              "      <th>0</th>\n",
              "      <td>/content/gdrive/MyDrive/yuichiro_voice/origina...</td>\n",
              "      <td>お電話ありがとうございます</td>\n",
              "    </tr>\n",
              "    <tr>\n",
              "      <th>1</th>\n",
              "      <td>/content/gdrive/MyDrive/yuichiro_voice/origina...</td>\n",
              "      <td>どのようなご用件</td>\n",
              "    </tr>\n",
              "    <tr>\n",
              "      <th>2</th>\n",
              "      <td>/content/gdrive/MyDrive/yuichiro_voice/origina...</td>\n",
              "      <td>どのようなお問い合わせ</td>\n",
              "    </tr>\n",
              "    <tr>\n",
              "      <th>3</th>\n",
              "      <td>/content/gdrive/MyDrive/yuichiro_voice/origina...</td>\n",
              "      <td>ありがとう</td>\n",
              "    </tr>\n",
              "    <tr>\n",
              "      <th>4</th>\n",
              "      <td>/content/gdrive/MyDrive/yuichiro_voice/origina...</td>\n",
              "      <td>申し訳ありません</td>\n",
              "    </tr>\n",
              "    <tr>\n",
              "      <th>...</th>\n",
              "      <td>...</td>\n",
              "      <td>...</td>\n",
              "    </tr>\n",
              "    <tr>\n",
              "      <th>681</th>\n",
              "      <td>/content/gdrive/MyDrive/yuichiro_voice/pydubm0...</td>\n",
              "      <td>安心です</td>\n",
              "    </tr>\n",
              "    <tr>\n",
              "      <th>682</th>\n",
              "      <td>/content/gdrive/MyDrive/yuichiro_voice/pydubm0...</td>\n",
              "      <td>不安です</td>\n",
              "    </tr>\n",
              "    <tr>\n",
              "      <th>683</th>\n",
              "      <td>/content/gdrive/MyDrive/yuichiro_voice/pydubm0...</td>\n",
              "      <td>不安なんです</td>\n",
              "    </tr>\n",
              "    <tr>\n",
              "      <th>684</th>\n",
              "      <td>/content/gdrive/MyDrive/yuichiro_voice/pydubm0...</td>\n",
              "      <td>不安がなくなりました</td>\n",
              "    </tr>\n",
              "    <tr>\n",
              "      <th>685</th>\n",
              "      <td>/content/gdrive/MyDrive/yuichiro_voice/pydubm0...</td>\n",
              "      <td>安心しました</td>\n",
              "    </tr>\n",
              "  </tbody>\n",
              "</table>\n",
              "<p>686 rows × 2 columns</p>\n",
              "</div>"
            ],
            "text/plain": [
              "                                                  path       sentence\n",
              "0    /content/gdrive/MyDrive/yuichiro_voice/origina...  お電話ありがとうございます\n",
              "1    /content/gdrive/MyDrive/yuichiro_voice/origina...       どのようなご用件\n",
              "2    /content/gdrive/MyDrive/yuichiro_voice/origina...    どのようなお問い合わせ\n",
              "3    /content/gdrive/MyDrive/yuichiro_voice/origina...          ありがとう\n",
              "4    /content/gdrive/MyDrive/yuichiro_voice/origina...       申し訳ありません\n",
              "..                                                 ...            ...\n",
              "681  /content/gdrive/MyDrive/yuichiro_voice/pydubm0...           安心です\n",
              "682  /content/gdrive/MyDrive/yuichiro_voice/pydubm0...           不安です\n",
              "683  /content/gdrive/MyDrive/yuichiro_voice/pydubm0...         不安なんです\n",
              "684  /content/gdrive/MyDrive/yuichiro_voice/pydubm0...     不安がなくなりました\n",
              "685  /content/gdrive/MyDrive/yuichiro_voice/pydubm0...         安心しました\n",
              "\n",
              "[686 rows x 2 columns]"
            ]
          },
          "metadata": {
            "tags": []
          },
          "execution_count": 18
        }
      ]
    },
    {
      "cell_type": "code",
      "metadata": {
        "id": "rAHkOaselQJJ"
      },
      "source": [
        "#training_df = final_df\n",
        "#testing_df = final_df.sample(frac = 0.3)"
      ],
      "execution_count": null,
      "outputs": []
    },
    {
      "cell_type": "code",
      "metadata": {
        "id": "JAA113W_KKsQ"
      },
      "source": [
        "from datasets import Dataset\n",
        "common_voice_train = Dataset.from_pandas(y_main)\n",
        "common_voice_test = Dataset.from_pandas(main)"
      ],
      "execution_count": null,
      "outputs": []
    },
    {
      "cell_type": "code",
      "metadata": {
        "id": "lCg3JpIeKz3D"
      },
      "source": [
        "from datasets import ClassLabel\n",
        "import random\n",
        "import pandas as pd\n",
        "from IPython.display import display, HTML\n",
        "\n",
        "def show_random_elements(dataset, num_examples=10):\n",
        "    assert num_examples <= len(dataset), \"Can't pick more elements than there are in the dataset.\"\n",
        "    picks = []\n",
        "    for _ in range(num_examples):\n",
        "        pick = random.randint(0, len(dataset)-1)\n",
        "        while pick in picks:\n",
        "            pick = random.randint(0, len(dataset)-1)\n",
        "        picks.append(pick)\n",
        "\n",
        "    df = pd.DataFrame(dataset[picks])\n",
        "    display(HTML(df.to_html()))"
      ],
      "execution_count": null,
      "outputs": []
    },
    {
      "cell_type": "code",
      "metadata": {
        "colab": {
          "base_uri": "https://localhost:8080/",
          "height": 359
        },
        "id": "uU6eIaHSK9d0",
        "outputId": "72e01148-c9e6-42cc-e897-e7d1e8a3d919"
      },
      "source": [
        "show_random_elements(common_voice_train.remove_columns([\"path\"]))"
      ],
      "execution_count": null,
      "outputs": [
        {
          "output_type": "display_data",
          "data": {
            "text/html": [
              "<table border=\"1\" class=\"dataframe\">\n",
              "  <thead>\n",
              "    <tr style=\"text-align: right;\">\n",
              "      <th></th>\n",
              "      <th>sentence</th>\n",
              "    </tr>\n",
              "  </thead>\n",
              "  <tbody>\n",
              "    <tr>\n",
              "      <th>0</th>\n",
              "      <td>解決しません</td>\n",
              "    </tr>\n",
              "    <tr>\n",
              "      <th>1</th>\n",
              "      <td>納得しました</td>\n",
              "    </tr>\n",
              "    <tr>\n",
              "      <th>2</th>\n",
              "      <td>納得できない</td>\n",
              "    </tr>\n",
              "    <tr>\n",
              "      <th>3</th>\n",
              "      <td>そうですね</td>\n",
              "    </tr>\n",
              "    <tr>\n",
              "      <th>4</th>\n",
              "      <td>ありがとう</td>\n",
              "    </tr>\n",
              "    <tr>\n",
              "      <th>5</th>\n",
              "      <td>いえ</td>\n",
              "    </tr>\n",
              "    <tr>\n",
              "      <th>6</th>\n",
              "      <td>納得できました</td>\n",
              "    </tr>\n",
              "    <tr>\n",
              "      <th>7</th>\n",
              "      <td>ありがとう</td>\n",
              "    </tr>\n",
              "    <tr>\n",
              "      <th>8</th>\n",
              "      <td>不安なんです</td>\n",
              "    </tr>\n",
              "    <tr>\n",
              "      <th>9</th>\n",
              "      <td>そうですね</td>\n",
              "    </tr>\n",
              "  </tbody>\n",
              "</table>"
            ],
            "text/plain": [
              "<IPython.core.display.HTML object>"
            ]
          },
          "metadata": {
            "tags": []
          }
        }
      ]
    },
    {
      "cell_type": "markdown",
      "metadata": {
        "id": "szzXP-bVLIJx"
      },
      "source": [
        "## プリプロセス"
      ]
    },
    {
      "cell_type": "markdown",
      "metadata": {
        "id": "bwnFhfd7o9hm"
      },
      "source": [
        "### 漢字平仮名　-> ro-maji変換"
      ]
    },
    {
      "cell_type": "code",
      "metadata": {
        "colab": {
          "base_uri": "https://localhost:8080/",
          "height": 115,
          "referenced_widgets": [
            "8e87acf33f8349f5a00ee18b182db4a9",
            "e406513683b441b18be2a96a1b961278",
            "f20abe746c2347bb91ffa010ca81e894",
            "f280ff5ff12d452f875fd681c4d594e4",
            "9b27598979e14638bd00cb71d36958f4",
            "31040fb3fbf54582b77d1a5dfda0ffa6",
            "400082db135640a9842bd1986e446f76",
            "9c0bedde7fcf4230bb947f46479a4040",
            "137d274fe2334777a7e61b9491678a52",
            "999cb8abc6f94738b37a644ae8f24a56",
            "d0eb6cdf7ba14481884563e967bc252d",
            "8380431e433a48dda5866f619ffd6ff9",
            "e7eb07c291e6437b9d702c50a796ae60",
            "ae54e79c31414655a9470b48b17446c6",
            "e7350566aed6427fa43e40337aec93ef",
            "d2138279e39e40b8a7d179712b9feb5a"
          ]
        },
        "id": "WlH7KZZ5uJAb",
        "outputId": "c19ea354-2148-4d40-80ef-5f8726b02cad"
      },
      "source": [
        "import re\n",
        "chars_to_ignore_regex = '[\\、\\？\\。\\！\\.\\」\\「\\〇\\．\\…\\（\\)\\＋\\）\\.]'\n",
        "\n",
        "def remove_special_characters(batch):\n",
        "    batch[\"sentence\"] = re.sub(chars_to_ignore_regex, '', batch[\"sentence\"]).lower() + \" \"\n",
        "    return batch\n",
        "\n",
        "common_voice_train = common_voice_train.map(remove_special_characters)\n",
        "common_voice_test = common_voice_test.map(remove_special_characters)"
      ],
      "execution_count": null,
      "outputs": [
        {
          "output_type": "display_data",
          "data": {
            "application/vnd.jupyter.widget-view+json": {
              "model_id": "8e87acf33f8349f5a00ee18b182db4a9",
              "version_minor": 0,
              "version_major": 2
            },
            "text/plain": [
              "HBox(children=(FloatProgress(value=0.0, max=686.0), HTML(value='')))"
            ]
          },
          "metadata": {
            "tags": []
          }
        },
        {
          "output_type": "stream",
          "text": [
            "\n"
          ],
          "name": "stdout"
        },
        {
          "output_type": "display_data",
          "data": {
            "application/vnd.jupyter.widget-view+json": {
              "model_id": "137d274fe2334777a7e61b9491678a52",
              "version_minor": 0,
              "version_major": 2
            },
            "text/plain": [
              "HBox(children=(FloatProgress(value=0.0, max=686.0), HTML(value='')))"
            ]
          },
          "metadata": {
            "tags": []
          }
        },
        {
          "output_type": "stream",
          "text": [
            "\n"
          ],
          "name": "stdout"
        }
      ]
    },
    {
      "cell_type": "code",
      "metadata": {
        "colab": {
          "base_uri": "https://localhost:8080/",
          "height": 305,
          "referenced_widgets": [
            "08245514389d45fbb93ac8d87f49a0d9",
            "2906cceb552649cd86d08bda8b1f37d3",
            "e8779c3c332246bd9088ac5ea7484df9",
            "4bd0f7f837d24cf4ab20a9fee1d15da1",
            "b46172c7636246bd8ccf4f32db664206",
            "be8fb766b7ec488db4f612a0717f34d3",
            "1ace89e1ee67476cb636e0022c90e5c8",
            "ae46815365cd48c5868545c4f6f21d15",
            "2d8bb94c5e0740a883e546b29bd90087",
            "311af989165e4f98bdceda46eb2aeec5",
            "df62f913234046be9daff1a1a24d1605",
            "584d9d240a8b442c998cb3355a2db4a4",
            "900f5849e05647f681ed31e2b2e2b702",
            "1e5f5f70ea1549b09aae5f00e4bd10cd",
            "71d2fbee63d94430b63a6cb89f1f2837",
            "ccd7671e09344b90b4aab20c030d19d4"
          ]
        },
        "id": "4YDYn2JuAp-Q",
        "outputId": "f7e69c7e-b030-4b92-cfc3-d977b3119ae6"
      },
      "source": [
        "from pykakasi import kakasi\n",
        "\n",
        "def kanachange(batch):\n",
        "    kka = kakasi()\n",
        "\n",
        "    kka.setMode('H', 'a')\n",
        "    kka.setMode('K', 'a')\n",
        "    kka.setMode('J', 'a')\n",
        "\n",
        "    conv = kka.getConverter()\n",
        "\n",
        "    batch[\"sentence\"] = conv.do(batch[\"sentence\"])\n",
        "\n",
        "    return batch\n",
        "\n",
        "common_voice_train = common_voice_train.map(kanachange)\n",
        "common_voice_test = common_voice_test.map(kanachange)"
      ],
      "execution_count": null,
      "outputs": [
        {
          "output_type": "stream",
          "text": [
            "/usr/local/lib/python3.7/dist-packages/ipykernel_launcher.py:6: DeprecationWarning: Call to deprecated method setMode. (Old API will be removed in v3.0.) -- Deprecated since version 2.1.\n",
            "  \n",
            "/usr/local/lib/python3.7/dist-packages/ipykernel_launcher.py:7: DeprecationWarning: Call to deprecated method setMode. (Old API will be removed in v3.0.) -- Deprecated since version 2.1.\n",
            "  import sys\n",
            "/usr/local/lib/python3.7/dist-packages/ipykernel_launcher.py:8: DeprecationWarning: Call to deprecated method setMode. (Old API will be removed in v3.0.) -- Deprecated since version 2.1.\n",
            "  \n",
            "/usr/local/lib/python3.7/dist-packages/ipykernel_launcher.py:10: DeprecationWarning: Call to deprecated method getConverter. (Old API will be removed in v3.0.) -- Deprecated since version 2.1.\n",
            "  # Remove the CWD from sys.path while we load stuff.\n",
            "/usr/local/lib/python3.7/dist-packages/ipykernel_launcher.py:12: DeprecationWarning: Call to deprecated method do. (Old API will be removed in v3.0.) -- Deprecated since version 2.1.\n",
            "  if sys.path[0] == '':\n"
          ],
          "name": "stderr"
        },
        {
          "output_type": "display_data",
          "data": {
            "application/vnd.jupyter.widget-view+json": {
              "model_id": "08245514389d45fbb93ac8d87f49a0d9",
              "version_minor": 0,
              "version_major": 2
            },
            "text/plain": [
              "HBox(children=(FloatProgress(value=0.0, max=686.0), HTML(value='')))"
            ]
          },
          "metadata": {
            "tags": []
          }
        },
        {
          "output_type": "stream",
          "text": [
            "\n"
          ],
          "name": "stdout"
        },
        {
          "output_type": "display_data",
          "data": {
            "application/vnd.jupyter.widget-view+json": {
              "model_id": "2d8bb94c5e0740a883e546b29bd90087",
              "version_minor": 0,
              "version_major": 2
            },
            "text/plain": [
              "HBox(children=(FloatProgress(value=0.0, max=686.0), HTML(value='')))"
            ]
          },
          "metadata": {
            "tags": []
          }
        },
        {
          "output_type": "stream",
          "text": [
            "\n"
          ],
          "name": "stdout"
        }
      ]
    },
    {
      "cell_type": "code",
      "metadata": {
        "colab": {
          "base_uri": "https://localhost:8080/",
          "height": 359
        },
        "id": "fc9qWkuouv35",
        "outputId": "71385e0c-8f1a-4a72-aade-50d9042dfe68"
      },
      "source": [
        "show_random_elements(common_voice_train.remove_columns([\"path\"]))"
      ],
      "execution_count": null,
      "outputs": [
        {
          "output_type": "display_data",
          "data": {
            "text/html": [
              "<table border=\"1\" class=\"dataframe\">\n",
              "  <thead>\n",
              "    <tr style=\"text-align: right;\">\n",
              "      <th></th>\n",
              "      <th>sentence</th>\n",
              "    </tr>\n",
              "  </thead>\n",
              "  <tbody>\n",
              "    <tr>\n",
              "      <th>0</th>\n",
              "      <td>arigatougozaimasu</td>\n",
              "    </tr>\n",
              "    <tr>\n",
              "      <th>1</th>\n",
              "      <td>kaiketsushimasen</td>\n",
              "    </tr>\n",
              "    <tr>\n",
              "      <th>2</th>\n",
              "      <td>konnichiwa</td>\n",
              "    </tr>\n",
              "    <tr>\n",
              "      <th>3</th>\n",
              "      <td>soudesune</td>\n",
              "    </tr>\n",
              "    <tr>\n",
              "      <th>4</th>\n",
              "      <td>fuanganakunarimashita</td>\n",
              "    </tr>\n",
              "    <tr>\n",
              "      <th>5</th>\n",
              "      <td>iie</td>\n",
              "    </tr>\n",
              "    <tr>\n",
              "      <th>6</th>\n",
              "      <td>kaiketsushimashita</td>\n",
              "    </tr>\n",
              "    <tr>\n",
              "      <th>7</th>\n",
              "      <td>yokattadesu</td>\n",
              "    </tr>\n",
              "    <tr>\n",
              "      <th>8</th>\n",
              "      <td>kaiketsushimasen</td>\n",
              "    </tr>\n",
              "    <tr>\n",
              "      <th>9</th>\n",
              "      <td>tasukarimashita</td>\n",
              "    </tr>\n",
              "  </tbody>\n",
              "</table>"
            ],
            "text/plain": [
              "<IPython.core.display.HTML object>"
            ]
          },
          "metadata": {
            "tags": []
          }
        }
      ]
    },
    {
      "cell_type": "markdown",
      "metadata": {
        "id": "-oFr5rL3LPs7"
      },
      "source": [
        "### 辞書作成"
      ]
    },
    {
      "cell_type": "code",
      "metadata": {
        "colab": {
          "base_uri": "https://localhost:8080/",
          "height": 152,
          "referenced_widgets": [
            "cff3c4345e1541e6adcea80ac9869775",
            "7e534c37cd9e4a1f8a33db00efd81a33",
            "c2c0d0d437d54e30ae76fc8a7aa1b83b",
            "0b15a1a6deba4d70884eecd0c1002013",
            "12341ed747bc47219939d83c24f5f3d2",
            "559d1430f49043e9967097ed5a636af0",
            "d9409aa97a024c53b21499dc9a8a9324",
            "796fe2361d5c4876ad01b0c54e3b6684",
            "a323cca947be48fc94eb3989ab8a3ed1",
            "f78c582591b64712a0664606fc8e3327",
            "e9efedf3cb3047dfac7bd57a89c17b84",
            "e9fe9220749840c9af3c226db285f977",
            "2b58c0006802491c8c53766bc77fc42c",
            "ea46855ca5a34cff83af504db6458706",
            "f191f2296f1d4e018517e96adc1c0845",
            "679929fdbbc44d48b8fa905470faebac"
          ]
        },
        "id": "DGOwrzCyLE2O",
        "outputId": "2c933a12-fa8a-406d-9f0a-4adbe07271fe"
      },
      "source": [
        "def extract_all_chars(batch):\n",
        "  all_text = \" \".join(batch[\"sentence\"])\n",
        "  vocab = list(set(all_text))\n",
        "  return {\"vocab\": [vocab], \"all_text\": [all_text]}\n",
        "\n",
        "vocab_train = common_voice_train.map(extract_all_chars, batched=True, batch_size=-1, keep_in_memory=True, remove_columns=common_voice_train.column_names)\n",
        "vocab_test = common_voice_test.map(extract_all_chars, batched=True, batch_size=-1, keep_in_memory=True, remove_columns=common_voice_test.column_names)\n",
        "\n",
        "vocab_list = list(set(vocab_train[\"vocab\"][0]) | set(vocab_test[\"vocab\"][0]))\n",
        "\n",
        "vocab_dict = {v: k for k, v in enumerate(vocab_list)}\n",
        "print(vocab_dict)"
      ],
      "execution_count": null,
      "outputs": [
        {
          "output_type": "display_data",
          "data": {
            "application/vnd.jupyter.widget-view+json": {
              "model_id": "cff3c4345e1541e6adcea80ac9869775",
              "version_minor": 0,
              "version_major": 2
            },
            "text/plain": [
              "HBox(children=(FloatProgress(value=0.0, max=1.0), HTML(value='')))"
            ]
          },
          "metadata": {
            "tags": []
          }
        },
        {
          "output_type": "stream",
          "text": [
            "\n"
          ],
          "name": "stdout"
        },
        {
          "output_type": "display_data",
          "data": {
            "application/vnd.jupyter.widget-view+json": {
              "model_id": "a323cca947be48fc94eb3989ab8a3ed1",
              "version_minor": 0,
              "version_major": 2
            },
            "text/plain": [
              "HBox(children=(FloatProgress(value=0.0, max=1.0), HTML(value='')))"
            ]
          },
          "metadata": {
            "tags": []
          }
        },
        {
          "output_type": "stream",
          "text": [
            "\n",
            "{'a': 0, 's': 1, 'r': 2, 'y': 3, ' ': 4, 'f': 5, 'e': 6, 'o': 7, 'g': 8, 'z': 9, 'd': 10, 'h': 11, 'w': 12, 'm': 13, 'c': 14, 't': 15, 'i': 16, 'u': 17, 'k': 18, 'n': 19}\n"
          ],
          "name": "stdout"
        }
      ]
    },
    {
      "cell_type": "code",
      "metadata": {
        "colab": {
          "base_uri": "https://localhost:8080/"
        },
        "id": "lpICYNXCLUXc",
        "outputId": "0a05dac1-92f1-4bad-e14a-eaf9d761e84e"
      },
      "source": [
        "vocab_dict[\"|\"] = vocab_dict[\" \"]\n",
        "del vocab_dict[\" \"]\n",
        "\n",
        "vocab_dict[\"[UNK]\"] = len(vocab_dict)\n",
        "vocab_dict[\"[PAD]\"] = len(vocab_dict)\n",
        "len(vocab_dict)"
      ],
      "execution_count": null,
      "outputs": [
        {
          "output_type": "execute_result",
          "data": {
            "text/plain": [
              "22"
            ]
          },
          "metadata": {
            "tags": []
          },
          "execution_count": 29
        }
      ]
    },
    {
      "cell_type": "code",
      "metadata": {
        "id": "AQj7hB0KL2r8"
      },
      "source": [
        "import json\n",
        "with open('vocab.json', 'w') as vocab_file:\n",
        "    json.dump(vocab_dict, vocab_file)"
      ],
      "execution_count": null,
      "outputs": []
    },
    {
      "cell_type": "code",
      "metadata": {
        "id": "t_UbCpPWL66X"
      },
      "source": [
        "import json\n",
        "with open('/content/gdrive/MyDrive/roma_vocab.json', 'w') as vocab_file:\n",
        "    json.dump(vocab_dict, vocab_file)"
      ],
      "execution_count": null,
      "outputs": []
    },
    {
      "cell_type": "markdown",
      "metadata": {
        "id": "6eEw7dH-ML9c"
      },
      "source": [
        "### プリプロセス２"
      ]
    },
    {
      "cell_type": "code",
      "metadata": {
        "id": "gOKykOghMSPE"
      },
      "source": [
        "from transformers import Wav2Vec2CTCTokenizer\n",
        "\n",
        "tokenizer = Wav2Vec2CTCTokenizer(\"./vocab.json\", unk_token=\"[UNK]\", pad_token=\"[PAD]\", word_delimiter_token=\"|\")"
      ],
      "execution_count": null,
      "outputs": []
    },
    {
      "cell_type": "code",
      "metadata": {
        "id": "VaRY4Y_5Mssg"
      },
      "source": [
        "from transformers import Wav2Vec2FeatureExtractor\n",
        "\n",
        "feature_extractor = Wav2Vec2FeatureExtractor(feature_size=1, sampling_rate=16000, padding_value=0.0, do_normalize=True, return_attention_mask=True)"
      ],
      "execution_count": null,
      "outputs": []
    },
    {
      "cell_type": "code",
      "metadata": {
        "id": "YXBz2HkZMtu2"
      },
      "source": [
        "from transformers import Wav2Vec2Processor\n",
        "\n",
        "processor = Wav2Vec2Processor(feature_extractor=feature_extractor, tokenizer=tokenizer)"
      ],
      "execution_count": null,
      "outputs": []
    },
    {
      "cell_type": "code",
      "metadata": {
        "id": "lKnGL6bXAmIt"
      },
      "source": [
        ""
      ],
      "execution_count": null,
      "outputs": []
    },
    {
      "cell_type": "code",
      "metadata": {
        "id": "pIT1VfE2M1k8"
      },
      "source": [
        "processor.save_pretrained(\"/content/gdrive/MyDrive/wav2vec2-large-xlsr-japanese-YY-demo\")"
      ],
      "execution_count": null,
      "outputs": []
    },
    {
      "cell_type": "code",
      "metadata": {
        "colab": {
          "base_uri": "https://localhost:8080/",
          "height": 115,
          "referenced_widgets": [
            "ec9e7cbc5401494d8cd3ebe6306dcd51",
            "acc056aeb57b4c75b867e9a07d011058",
            "22f3cba49cd04696a509b2fa2dcc5a37",
            "d1a4c2c37d614107a0d7178a31400d45",
            "226d772a493d40adb7fad1665bc4245e",
            "ced337e6ac704d47933238623ce84930",
            "332ecf99c0da4311931fd101cbbbd950",
            "8f7d9c38a7854fb8b82fb3a1b095eb6d",
            "68d136a255c442d6a2758b127aecfa0f",
            "78000f8c84374bb1b368155e90a5561f",
            "fd2d15ce583c4ad58922b56ffe0d9486",
            "69a9fe71a2e545f18b1728fbde6822f7",
            "3c605163b0914f508c6ab9a6d770ca81",
            "11d19474f900466ca553d85941107bc3",
            "5af2f91a03b24b2f9b1bd55c8ebe7b0d",
            "86d1137769774e8bb564ade4097f02fa"
          ]
        },
        "id": "W7Nm-rwIM-vW",
        "outputId": "aed9aa66-e8aa-45cf-ae52-b615e2e2910f"
      },
      "source": [
        "import torchaudio\n",
        "\n",
        "def speech_file_to_array_fn(batch):\n",
        "    speech_array, sampling_rate = torchaudio.load(batch[\"path\"])\n",
        "    batch[\"speech\"] = speech_array[0].numpy()\n",
        "    batch[\"sampling_rate\"] = sampling_rate\n",
        "    batch[\"target_text\"] = batch[\"sentence\"]\n",
        "    return batch\n",
        "\n",
        "common_voice_train = common_voice_train.map(speech_file_to_array_fn, remove_columns=common_voice_train.column_names)\n",
        "common_voice_test = common_voice_test.map(speech_file_to_array_fn, remove_columns=common_voice_test.column_names)"
      ],
      "execution_count": null,
      "outputs": [
        {
          "output_type": "display_data",
          "data": {
            "application/vnd.jupyter.widget-view+json": {
              "model_id": "ec9e7cbc5401494d8cd3ebe6306dcd51",
              "version_minor": 0,
              "version_major": 2
            },
            "text/plain": [
              "HBox(children=(FloatProgress(value=0.0, max=686.0), HTML(value='')))"
            ]
          },
          "metadata": {
            "tags": []
          }
        },
        {
          "output_type": "stream",
          "text": [
            "\n"
          ],
          "name": "stdout"
        },
        {
          "output_type": "display_data",
          "data": {
            "application/vnd.jupyter.widget-view+json": {
              "model_id": "68d136a255c442d6a2758b127aecfa0f",
              "version_minor": 0,
              "version_major": 2
            },
            "text/plain": [
              "HBox(children=(FloatProgress(value=0.0, max=686.0), HTML(value='')))"
            ]
          },
          "metadata": {
            "tags": []
          }
        },
        {
          "output_type": "stream",
          "text": [
            "\n"
          ],
          "name": "stdout"
        }
      ]
    },
    {
      "cell_type": "code",
      "metadata": {
        "id": "xbeIKRay0Ven"
      },
      "source": [
        "import librosa\n",
        "import numpy as np\n",
        "\n",
        "def resample(batch):\n",
        "    batch[\"speech\"] = librosa.resample(np.asarray(batch[\"speech\"]), 8000, 16000)\n",
        "    batch[\"sampling_rate\"] = 16_000\n",
        "    return batch"
      ],
      "execution_count": null,
      "outputs": []
    },
    {
      "cell_type": "code",
      "metadata": {
        "id": "NjrpeJt74MFb"
      },
      "source": [
        "def resample2(batch):\n",
        "    batch[\"sampling_rate\"] = 16_000\n",
        "    return batch"
      ],
      "execution_count": null,
      "outputs": []
    },
    {
      "cell_type": "code",
      "metadata": {
        "colab": {
          "base_uri": "https://localhost:8080/",
          "height": 545,
          "referenced_widgets": [
            "b285e475ae604b038d3752d425205493",
            "9ac7145b4285430985f94623db13cc17",
            "42d637cd61d64be79470ba212b0b6788",
            "a31699579c2742719ebbf39e6e213c32",
            "39f5b5b029004811837eb99a8e63a2ad",
            "9e01058ad48a4dc3bfdf8e89cfd9c542",
            "a46cde471b0b4edf9bb6a9c84899aaf6",
            "a2224824674a45c8a1c17d9f3b674397",
            "878c4ca3b1c1456aa0747845a44bccfd",
            "aba0eb20714b4dc8bbbf1888d1b68b54",
            "65473c7089e6469a89ed8205658ea7a8",
            "d099ef0077284bfb9c4a8e6a62c9a45a",
            "51107b7f074e47eba21d6885f5bbaaa3",
            "9f454afbaef4406eb8d21a75d14dbd3c",
            "5fc538aacda34ce39d2c43614710a7c5",
            "312cf32b8e314b18821bceb83cd69401",
            "d09716a1334e46198426b870907e5f5c",
            "0d62360480314193818e51db59179d01",
            "09a990624fb54d9c93d55fac9a28dc80",
            "b95058b7089146389544ca7283239de8",
            "dc0b92d002e94899b8151c742fe34377",
            "d59c7d7617914b3e88b2341501c91cc6",
            "2cc8eecb3b314d58afe6e282051de2b5",
            "3eec4ea5b4a64ec8a2d3cb60697228b2",
            "915c29a06df04ec6acf775d6dcadbf5c",
            "abca24c23e9b4b2ba3d4667ef8313efa",
            "edd0682044874e3d89b845e9243f57a0",
            "281dcc1b3d1c468fae0af227df59ff47",
            "f03d159a4d104225b204982af50709cb",
            "1f4275bf521b4a20b2ee95f0b1ef813b",
            "e1144b7698c44f20aaf29ad9094ef822",
            "c579c59a09da47dfbd6874e00c7ad58a",
            "ef6faa920424435da111a77a6302c5fd",
            "ca8d1dfb3d7c48c781df65490d1c54a3",
            "18caaf0b2fe0495cae6e08b1fd2a99f0",
            "ebc0ceb94ba74d18893eb69ddfaa4ee1",
            "ba63ccaff98247e3be3f0e9014647e7c",
            "af46fea00dd644839ff3823f18db0487",
            "f7b799fd5daa47879bcf516c7ab73504",
            "867e6ee600fe42b0ad426f439d68aad0",
            "b03941d3a2e94f31a4ece841e9c1252e",
            "fc01e8a0c34a4bc49dc2f0eca22fe9f6",
            "c94f387690a44978a04bc0f37b335be6",
            "56971c80237b4ff093e3994849a4f7ef",
            "74b56ef554504038b1810999b5665f0d",
            "4662aafcd3ac4dd9b533050dad3ed589",
            "3a50df6117dc4c209dcd70054a1cc437",
            "b2b45cc00b0c4f7a91f503c7e0666c60",
            "6d7e47b464be4e4cb1e4f61c30acf342",
            "9c91662d579c48f58c6d1a1c334f44d2",
            "2652f93207714dee8f263e62055accdb",
            "405b788fa44d4d7aa287d00bea096a7a",
            "bd74506027be48888253f0f53c0fe835",
            "7967e678e2c44f07be8c530cb925eae2",
            "3b63f4ee92954108922019faf66cb1e3",
            "cc9871cab9124f86b73eade503f36f71",
            "83f1d4445df844efb410a4892f2440d8",
            "1c002d57ec3448e19f90f45186cda5fd",
            "e220ea86d7c3488eb10b402d20fa60a4",
            "2ac7bc38544644c5aa739a46229a09fe",
            "e249ba4a03d04274bc0e9aeaf3513a77",
            "42c15af12ef34b1698b36371eac0dc06",
            "3ec41775629e4defa8114fcd974e98d1",
            "5b40ce060914469caf6f8c6d49003257"
          ]
        },
        "id": "g7ff0lXa0WFD",
        "outputId": "058cd774-d752-48fa-e5e4-9e684ac59f16"
      },
      "source": [
        "common_voice_train = common_voice_train.map(resample2, num_proc=4)\n",
        "common_voice_test = common_voice_test.map(resample2, num_proc=4)"
      ],
      "execution_count": null,
      "outputs": [
        {
          "output_type": "stream",
          "text": [
            " "
          ],
          "name": "stdout"
        },
        {
          "output_type": "display_data",
          "data": {
            "application/vnd.jupyter.widget-view+json": {
              "model_id": "b285e475ae604b038d3752d425205493",
              "version_minor": 0,
              "version_major": 2
            },
            "text/plain": [
              "HBox(children=(FloatProgress(value=0.0, description='#0', max=172.0, style=ProgressStyle(description_width='in…"
            ]
          },
          "metadata": {
            "tags": []
          }
        },
        {
          "output_type": "stream",
          "text": [
            " "
          ],
          "name": "stdout"
        },
        {
          "output_type": "display_data",
          "data": {
            "application/vnd.jupyter.widget-view+json": {
              "model_id": "878c4ca3b1c1456aa0747845a44bccfd",
              "version_minor": 0,
              "version_major": 2
            },
            "text/plain": [
              "HBox(children=(FloatProgress(value=0.0, description='#1', max=172.0, style=ProgressStyle(description_width='in…"
            ]
          },
          "metadata": {
            "tags": []
          }
        },
        {
          "output_type": "stream",
          "text": [
            " "
          ],
          "name": "stdout"
        },
        {
          "output_type": "display_data",
          "data": {
            "application/vnd.jupyter.widget-view+json": {
              "model_id": "d09716a1334e46198426b870907e5f5c",
              "version_minor": 0,
              "version_major": 2
            },
            "text/plain": [
              "HBox(children=(FloatProgress(value=0.0, description='#2', max=171.0, style=ProgressStyle(description_width='in…"
            ]
          },
          "metadata": {
            "tags": []
          }
        },
        {
          "output_type": "stream",
          "text": [
            " "
          ],
          "name": "stdout"
        },
        {
          "output_type": "display_data",
          "data": {
            "application/vnd.jupyter.widget-view+json": {
              "model_id": "915c29a06df04ec6acf775d6dcadbf5c",
              "version_minor": 0,
              "version_major": 2
            },
            "text/plain": [
              "HBox(children=(FloatProgress(value=0.0, description='#3', max=171.0, style=ProgressStyle(description_width='in…"
            ]
          },
          "metadata": {
            "tags": []
          }
        },
        {
          "output_type": "stream",
          "text": [
            "\n",
            "\n",
            "\n",
            "\n",
            " "
          ],
          "name": "stdout"
        },
        {
          "output_type": "display_data",
          "data": {
            "application/vnd.jupyter.widget-view+json": {
              "model_id": "ef6faa920424435da111a77a6302c5fd",
              "version_minor": 0,
              "version_major": 2
            },
            "text/plain": [
              "HBox(children=(FloatProgress(value=0.0, description='#0', max=172.0, style=ProgressStyle(description_width='in…"
            ]
          },
          "metadata": {
            "tags": []
          }
        },
        {
          "output_type": "stream",
          "text": [
            " "
          ],
          "name": "stdout"
        },
        {
          "output_type": "display_data",
          "data": {
            "application/vnd.jupyter.widget-view+json": {
              "model_id": "b03941d3a2e94f31a4ece841e9c1252e",
              "version_minor": 0,
              "version_major": 2
            },
            "text/plain": [
              "HBox(children=(FloatProgress(value=0.0, description='#1', max=172.0, style=ProgressStyle(description_width='in…"
            ]
          },
          "metadata": {
            "tags": []
          }
        },
        {
          "output_type": "stream",
          "text": [
            " "
          ],
          "name": "stdout"
        },
        {
          "output_type": "display_data",
          "data": {
            "application/vnd.jupyter.widget-view+json": {
              "model_id": "6d7e47b464be4e4cb1e4f61c30acf342",
              "version_minor": 0,
              "version_major": 2
            },
            "text/plain": [
              "HBox(children=(FloatProgress(value=0.0, description='#2', max=171.0, style=ProgressStyle(description_width='in…"
            ]
          },
          "metadata": {
            "tags": []
          }
        },
        {
          "output_type": "stream",
          "text": [
            " "
          ],
          "name": "stdout"
        },
        {
          "output_type": "display_data",
          "data": {
            "application/vnd.jupyter.widget-view+json": {
              "model_id": "83f1d4445df844efb410a4892f2440d8",
              "version_minor": 0,
              "version_major": 2
            },
            "text/plain": [
              "HBox(children=(FloatProgress(value=0.0, description='#3', max=171.0, style=ProgressStyle(description_width='in…"
            ]
          },
          "metadata": {
            "tags": []
          }
        },
        {
          "output_type": "stream",
          "text": [
            "\n",
            "\n",
            "\n",
            "\n"
          ],
          "name": "stdout"
        }
      ]
    },
    {
      "cell_type": "code",
      "metadata": {
        "id": "kllTFF_h20Pa"
      },
      "source": [
        "yama_df = common_voice_train.to_pandas()\n",
        "yui_df = common_voice_test.to_pandas()"
      ],
      "execution_count": null,
      "outputs": []
    },
    {
      "cell_type": "code",
      "metadata": {
        "id": "bgf2nGVy4aNc"
      },
      "source": [
        "final_df = pd.concat([yama_df, yui_df])"
      ],
      "execution_count": null,
      "outputs": []
    },
    {
      "cell_type": "code",
      "metadata": {
        "id": "IO8U_6gO437I"
      },
      "source": [
        "training_df = final_df\n",
        "testing_df = final_df.sample(frac = 0.3)"
      ],
      "execution_count": null,
      "outputs": []
    },
    {
      "cell_type": "code",
      "metadata": {
        "id": "qzMqO7l34vtu"
      },
      "source": [
        "training_df = training_df.reset_index()\n",
        "testing_df = testing_df.reset_index()"
      ],
      "execution_count": null,
      "outputs": []
    },
    {
      "cell_type": "code",
      "metadata": {
        "id": "Xd41RK8y420_"
      },
      "source": [
        "common_voice_train = Dataset.from_pandas(training_df)\n",
        "common_voice_test = Dataset.from_pandas(testing_df)"
      ],
      "execution_count": null,
      "outputs": []
    },
    {
      "cell_type": "markdown",
      "metadata": {
        "id": "41ISslsRNbuJ"
      },
      "source": [
        "## 音声サンプリング"
      ]
    },
    {
      "cell_type": "code",
      "metadata": {
        "id": "HhuobdwWOKBR",
        "colab": {
          "base_uri": "https://localhost:8080/",
          "height": 75
        },
        "outputId": "aad0c9a4-69cc-4b63-e801-1caa646ce5d3"
      },
      "source": [
        "import IPython.display as ipd\n",
        "import numpy as np\n",
        "import random\n",
        "\n",
        "rand_int = random.randint(0, len(common_voice_train)-1)\n",
        "\n",
        "ipd.Audio(data=np.asarray(common_voice_train[rand_int][\"speech\"]), autoplay=True, rate=16000)"
      ],
      "execution_count": null,
      "outputs": [
        {
          "output_type": "execute_result",
          "data": {
            "text/html": [
              "\n",
              "                <audio controls=\"controls\" autoplay=\"autoplay\">\n",
              "                    <source src=\"data:audio/wav;base64,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\" type=\"audio/wav\" />\n",
              "                    Your browser does not support the audio element.\n",
              "                </audio>\n",
              "              "
            ],
            "text/plain": [
              "<IPython.lib.display.Audio object>"
            ]
          },
          "metadata": {
            "tags": []
          },
          "execution_count": 45
        }
      ]
    },
    {
      "cell_type": "code",
      "metadata": {
        "id": "4Uy6gDX_ONOv",
        "colab": {
          "base_uri": "https://localhost:8080/"
        },
        "outputId": "286a5988-e698-420e-b444-631c919bab03"
      },
      "source": [
        "rand_int = random.randint(0, len(common_voice_train)-1)\n",
        "\n",
        "print(\"Target text:\", common_voice_train[rand_int][\"target_text\"])\n",
        "print(\"Input array shape:\", np.asarray(common_voice_train[rand_int][\"speech\"]).shape)\n",
        "print(\"Sampling rate:\", common_voice_train[rand_int][\"sampling_rate\"])"
      ],
      "execution_count": null,
      "outputs": [
        {
          "output_type": "stream",
          "text": [
            "Target text: konnichiwa \n",
            "Input array shape: (37894,)\n",
            "Sampling rate: 16000\n"
          ],
          "name": "stdout"
        }
      ]
    },
    {
      "cell_type": "code",
      "metadata": {
        "id": "GKKQfTWYOQe4"
      },
      "source": [
        "def prepare_dataset(batch):\n",
        "    # check that all files have the correct sampling rate\n",
        "    assert (\n",
        "        len(set(batch[\"sampling_rate\"])) == 1\n",
        "    ), f\"Make sure all inputs have the same sampling rate of {processor.feature_extractor.sampling_rate}.\"\n",
        "\n",
        "    batch[\"input_values\"] = processor(batch[\"speech\"], sampling_rate=batch[\"sampling_rate\"][0]).input_values\n",
        "    \n",
        "    with processor.as_target_processor():\n",
        "        batch[\"labels\"] = processor(batch[\"target_text\"]).input_ids\n",
        "    return batch"
      ],
      "execution_count": null,
      "outputs": []
    },
    {
      "cell_type": "code",
      "metadata": {
        "id": "pVURUqcCOSI5",
        "colab": {
          "base_uri": "https://localhost:8080/",
          "height": 169,
          "referenced_widgets": [
            "429af35513ca4c36b381c320f9a9352a",
            "0f917118ed3841378c946dd785db4354",
            "c7edaed616c04b439ee88b7ece04be73",
            "8bf26ea33c7e4a20a77189b8f566e120",
            "6be4a7b0513d46fbbcae7b6b2e836cfa",
            "c903d269d8564b2683b9491218f8f733",
            "4a9a34b89425481faae60d97f8572877",
            "6927e3f3c0a04adea36b7448e7504990",
            "9efe2e4fd1c3494db7a11efaf024f30b",
            "d42537cfd747460398ff11413f5b751a",
            "85216d3f06484907b501f6b49cb08c24",
            "7494ee2567f64823925bcaa6069659e2",
            "87e7d9dd07114facaf17a5ee60f856bf",
            "f5ec4aebedde461caed3e7de7800c55b",
            "52507ddb6edf4ba99b1313c812ba7548",
            "95acb778f59a42f9ae872768b59ff509"
          ]
        },
        "outputId": "14464064-3371-44ea-fbeb-8a7a930abe43"
      },
      "source": [
        "common_voice_train = common_voice_train.map(prepare_dataset, remove_columns=common_voice_train.column_names, batch_size=8,  batched=True)\n",
        "common_voice_test = common_voice_test.map(prepare_dataset, remove_columns=common_voice_test.column_names, batch_size=8, batched=True)"
      ],
      "execution_count": null,
      "outputs": [
        {
          "output_type": "stream",
          "text": [
            "/usr/local/lib/python3.7/dist-packages/numpy/core/_asarray.py:83: VisibleDeprecationWarning: Creating an ndarray from ragged nested sequences (which is a list-or-tuple of lists-or-tuples-or ndarrays with different lengths or shapes) is deprecated. If you meant to do this, you must specify 'dtype=object' when creating the ndarray\n",
            "  return array(a, dtype, copy=False, order=order)\n"
          ],
          "name": "stderr"
        },
        {
          "output_type": "display_data",
          "data": {
            "application/vnd.jupyter.widget-view+json": {
              "model_id": "429af35513ca4c36b381c320f9a9352a",
              "version_minor": 0,
              "version_major": 2
            },
            "text/plain": [
              "HBox(children=(FloatProgress(value=0.0, max=172.0), HTML(value='')))"
            ]
          },
          "metadata": {
            "tags": []
          }
        },
        {
          "output_type": "stream",
          "text": [
            "\n"
          ],
          "name": "stdout"
        },
        {
          "output_type": "display_data",
          "data": {
            "application/vnd.jupyter.widget-view+json": {
              "model_id": "9efe2e4fd1c3494db7a11efaf024f30b",
              "version_minor": 0,
              "version_major": 2
            },
            "text/plain": [
              "HBox(children=(FloatProgress(value=0.0, max=52.0), HTML(value='')))"
            ]
          },
          "metadata": {
            "tags": []
          }
        },
        {
          "output_type": "stream",
          "text": [
            "\n"
          ],
          "name": "stdout"
        }
      ]
    },
    {
      "cell_type": "markdown",
      "metadata": {
        "id": "hkBlIBjGOirq"
      },
      "source": [
        "## Training phase\n"
      ]
    },
    {
      "cell_type": "code",
      "metadata": {
        "id": "yd_01O4xOmo5"
      },
      "source": [
        "import torch\n",
        "\n",
        "from dataclasses import dataclass, field\n",
        "from typing import Any, Dict, List, Optional, Union\n",
        "\n",
        "@dataclass\n",
        "class DataCollatorCTCWithPadding:\n",
        "    \"\"\"\n",
        "    Data collator that will dynamically pad the inputs received.\n",
        "    Args:\n",
        "        processor (:class:`~transformers.Wav2Vec2Processor`)\n",
        "            The processor used for proccessing the data.\n",
        "        padding (:obj:`bool`, :obj:`str` or :class:`~transformers.tokenization_utils_base.PaddingStrategy`, `optional`, defaults to :obj:`True`):\n",
        "            Select a strategy to pad the returned sequences (according to the model's padding side and padding index)\n",
        "            among:\n",
        "            * :obj:`True` or :obj:`'longest'`: Pad to the longest sequence in the batch (or no padding if only a single\n",
        "              sequence if provided).\n",
        "            * :obj:`'max_length'`: Pad to a maximum length specified with the argument :obj:`max_length` or to the\n",
        "              maximum acceptable input length for the model if that argument is not provided.\n",
        "            * :obj:`False` or :obj:`'do_not_pad'` (default): No padding (i.e., can output a batch with sequences of\n",
        "              different lengths).\n",
        "        max_length (:obj:`int`, `optional`):\n",
        "            Maximum length of the ``input_values`` of the returned list and optionally padding length (see above).\n",
        "        max_length_labels (:obj:`int`, `optional`):\n",
        "            Maximum length of the ``labels`` returned list and optionally padding length (see above).\n",
        "        pad_to_multiple_of (:obj:`int`, `optional`):\n",
        "            If set will pad the sequence to a multiple of the provided value.\n",
        "            This is especially useful to enable the use of Tensor Cores on NVIDIA hardware with compute capability >=\n",
        "            7.5 (Volta).\n",
        "    \"\"\"\n",
        "\n",
        "    processor: Wav2Vec2Processor\n",
        "    padding: Union[bool, str] = True\n",
        "    max_length: Optional[int] = None\n",
        "    max_length_labels: Optional[int] = None\n",
        "    pad_to_multiple_of: Optional[int] = None\n",
        "    pad_to_multiple_of_labels: Optional[int] = None\n",
        "\n",
        "    def __call__(self, features: List[Dict[str, Union[List[int], torch.Tensor]]]) -> Dict[str, torch.Tensor]:\n",
        "        # split inputs and labels since they have to be of different lenghts and need\n",
        "        # different padding methods\n",
        "        input_features = [{\"input_values\": feature[\"input_values\"]} for feature in features]\n",
        "        label_features = [{\"input_ids\": feature[\"labels\"]} for feature in features]\n",
        "\n",
        "        batch = self.processor.pad(\n",
        "            input_features,\n",
        "            padding=self.padding,\n",
        "            max_length=self.max_length,\n",
        "            pad_to_multiple_of=self.pad_to_multiple_of,\n",
        "            return_tensors=\"pt\",\n",
        "        )\n",
        "        with self.processor.as_target_processor():\n",
        "            labels_batch = self.processor.pad(\n",
        "                label_features,\n",
        "                padding=self.padding,\n",
        "                max_length=self.max_length_labels,\n",
        "                pad_to_multiple_of=self.pad_to_multiple_of_labels,\n",
        "                return_tensors=\"pt\",\n",
        "            )\n",
        "\n",
        "        # replace padding with -100 to ignore loss correctly\n",
        "        labels = labels_batch[\"input_ids\"].masked_fill(labels_batch.attention_mask.ne(1), -100)\n",
        "\n",
        "        batch[\"labels\"] = labels\n",
        "\n",
        "        return batch"
      ],
      "execution_count": null,
      "outputs": []
    },
    {
      "cell_type": "code",
      "metadata": {
        "id": "EbmTTS_jOsHh"
      },
      "source": [
        "data_collator = DataCollatorCTCWithPadding(processor=processor, padding=True)"
      ],
      "execution_count": null,
      "outputs": []
    },
    {
      "cell_type": "code",
      "metadata": {
        "id": "PuUczaAcOujw",
        "colab": {
          "base_uri": "https://localhost:8080/",
          "height": 66,
          "referenced_widgets": [
            "3642367448c14898abca3401b94330eb",
            "97ce184b27644f5b974886aab266e8cf",
            "a05ddd1fafd14065a9f96f33ec96b61f",
            "143ce263420e4b8193dbe262bb2488ee",
            "3c130b820a994d88bcd0f89dc9ec7f2f",
            "b3020cf1711745d29c011cd2d26b0357",
            "c7eed975baa5425b9a39958b4b032c07",
            "5f11c1d600754712986e0529b595fd62"
          ]
        },
        "outputId": "d4732dee-54c0-444d-85a0-83e43b26c83a"
      },
      "source": [
        "from datasets import load_metric\n",
        "wer_metric = load_metric(\"wer\")"
      ],
      "execution_count": null,
      "outputs": [
        {
          "output_type": "display_data",
          "data": {
            "application/vnd.jupyter.widget-view+json": {
              "model_id": "3642367448c14898abca3401b94330eb",
              "version_minor": 0,
              "version_major": 2
            },
            "text/plain": [
              "HBox(children=(FloatProgress(value=0.0, description='Downloading', max=1764.0, style=ProgressStyle(description…"
            ]
          },
          "metadata": {
            "tags": []
          }
        },
        {
          "output_type": "stream",
          "text": [
            "\n"
          ],
          "name": "stdout"
        }
      ]
    },
    {
      "cell_type": "code",
      "metadata": {
        "id": "YdrbjMfSO8qO"
      },
      "source": [
        "def compute_metrics(pred):\n",
        "    pred_logits = pred.predictions\n",
        "    pred_ids = np.argmax(pred_logits, axis=-1)\n",
        "\n",
        "    pred.label_ids[pred.label_ids == -100] = processor.tokenizer.pad_token_id\n",
        "\n",
        "    pred_str = processor.batch_decode(pred_ids)\n",
        "    # we do not want to group tokens when computing the metrics\n",
        "    label_str = processor.batch_decode(pred.label_ids, group_tokens=False)\n",
        "\n",
        "    wer = wer_metric.compute(predictions=pred_str, references=label_str)\n",
        "\n",
        "    return {\"wer\": wer}"
      ],
      "execution_count": null,
      "outputs": []
    },
    {
      "cell_type": "code",
      "metadata": {
        "id": "vg2HnbrUPCYL",
        "colab": {
          "base_uri": "https://localhost:8080/",
          "height": 220,
          "referenced_widgets": [
            "bd3161759c1a41fd933f5e552c00e38c",
            "888e5743d9294aec865d976b463bc04e",
            "2f0ac66a99df4373b5d7e2ade6ee4a27",
            "5d44fdbacd9a41d085ad0e7ec64fee21",
            "cca69151aae6433ea46587969f65c9ff",
            "1f2734bae3a245de90d0678440632ae7",
            "d205a851cac448ca879f2c54dc7c980a",
            "1592ae4ec0a149c7bc0f84effd9ce605",
            "d22cdf545ac1436a96a80b869d587dc5",
            "f0372ed53b3040fdacb35d251a576687",
            "512bbd3110eb474f862bb2cc92829451",
            "5b26146380c24c4f94eddd5258f29db3",
            "f67e890d26b34e10972478b6e2d4cdac",
            "d29b9c84ffde45c792d7e0504bdb1505",
            "421b81fcff6b421eb360b258695fa778",
            "85745570f96f4f25897ee7e56e8be7b7"
          ]
        },
        "outputId": "8ca2cd38-8231-45b3-84e2-72c6eefe6518"
      },
      "source": [
        "from transformers import Wav2Vec2ForCTC\n",
        "\n",
        "model = Wav2Vec2ForCTC.from_pretrained(\n",
        "    \"facebook/wav2vec2-large-xlsr-53\", \n",
        "    attention_dropout=0.1,\n",
        "    hidden_dropout=0.1,\n",
        "    feat_proj_dropout=0.0,\n",
        "    mask_time_prob=0.05,\n",
        "    layerdrop=0.1,\n",
        "    gradient_checkpointing=True, \n",
        "    ctc_loss_reduction=\"mean\", \n",
        "    pad_token_id=processor.tokenizer.pad_token_id,\n",
        "    vocab_size=len(processor.tokenizer)\n",
        ")"
      ],
      "execution_count": null,
      "outputs": [
        {
          "output_type": "display_data",
          "data": {
            "application/vnd.jupyter.widget-view+json": {
              "model_id": "bd3161759c1a41fd933f5e552c00e38c",
              "version_minor": 0,
              "version_major": 2
            },
            "text/plain": [
              "HBox(children=(FloatProgress(value=0.0, description='Downloading', max=1768.0, style=ProgressStyle(description…"
            ]
          },
          "metadata": {
            "tags": []
          }
        },
        {
          "output_type": "stream",
          "text": [
            "\n"
          ],
          "name": "stdout"
        },
        {
          "output_type": "display_data",
          "data": {
            "application/vnd.jupyter.widget-view+json": {
              "model_id": "d22cdf545ac1436a96a80b869d587dc5",
              "version_minor": 0,
              "version_major": 2
            },
            "text/plain": [
              "HBox(children=(FloatProgress(value=0.0, description='Downloading', max=1269737156.0, style=ProgressStyle(descr…"
            ]
          },
          "metadata": {
            "tags": []
          }
        },
        {
          "output_type": "stream",
          "text": [
            "\n"
          ],
          "name": "stdout"
        },
        {
          "output_type": "stream",
          "text": [
            "Some weights of the model checkpoint at facebook/wav2vec2-large-xlsr-53 were not used when initializing Wav2Vec2ForCTC: ['quantizer.codevectors', 'quantizer.weight_proj.weight', 'quantizer.weight_proj.bias', 'project_q.weight', 'project_q.bias', 'project_hid.weight', 'project_hid.bias']\n",
            "- This IS expected if you are initializing Wav2Vec2ForCTC from the checkpoint of a model trained on another task or with another architecture (e.g. initializing a BertForSequenceClassification model from a BertForPreTraining model).\n",
            "- This IS NOT expected if you are initializing Wav2Vec2ForCTC from the checkpoint of a model that you expect to be exactly identical (initializing a BertForSequenceClassification model from a BertForSequenceClassification model).\n",
            "Some weights of Wav2Vec2ForCTC were not initialized from the model checkpoint at facebook/wav2vec2-large-xlsr-53 and are newly initialized: ['lm_head.weight', 'lm_head.bias']\n",
            "You should probably TRAIN this model on a down-stream task to be able to use it for predictions and inference.\n"
          ],
          "name": "stderr"
        }
      ]
    },
    {
      "cell_type": "markdown",
      "metadata": {
        "id": "CYvgdHqhPGbm"
      },
      "source": [
        "### **CNN** fecure extreact"
      ]
    },
    {
      "cell_type": "code",
      "metadata": {
        "id": "eX_XR4m8PIJp"
      },
      "source": [
        "model.freeze_feature_extractor()"
      ],
      "execution_count": null,
      "outputs": []
    },
    {
      "cell_type": "code",
      "metadata": {
        "id": "6q7YeQ1TPO7M"
      },
      "source": [
        "from transformers import TrainingArguments\n",
        "\n",
        "training_args = TrainingArguments(\n",
        "  output_dir=\"/content/gdrive/MyDrive/wav2vec2-large-xlsr-japanese-YY-demo\",\n",
        "  group_by_length=True,\n",
        "  per_device_train_batch_size=16,\n",
        "  gradient_accumulation_steps=2,\n",
        "  evaluation_strategy=\"steps\",\n",
        "  num_train_epochs=30,\n",
        "  fp16=False,\n",
        "  save_steps=200,\n",
        "  eval_steps=200,\n",
        "  logging_steps=200,\n",
        "  learning_rate=3e-4,\n",
        "  warmup_steps=500,\n",
        "  save_total_limit=2,\n",
        ")"
      ],
      "execution_count": null,
      "outputs": []
    },
    {
      "cell_type": "code",
      "metadata": {
        "id": "MEtAV8SWPUO9"
      },
      "source": [
        "from transformers import Trainer\n",
        "\n",
        "trainer = Trainer(\n",
        "    model=model,\n",
        "    data_collator=data_collator,\n",
        "    args=training_args,\n",
        "    compute_metrics=compute_metrics,\n",
        "    train_dataset=common_voice_train,\n",
        "    eval_dataset=common_voice_test,\n",
        "    tokenizer=processor.feature_extractor,\n",
        ")"
      ],
      "execution_count": null,
      "outputs": []
    },
    {
      "cell_type": "code",
      "metadata": {
        "id": "1jFot_HOPVjR",
        "colab": {
          "base_uri": "https://localhost:8080/",
          "height": 349
        },
        "outputId": "54788e7d-4f57-4f16-f4cd-095ad40914cb"
      },
      "source": [
        "trainer.train()"
      ],
      "execution_count": null,
      "outputs": [
        {
          "output_type": "stream",
          "text": [
            "/usr/local/lib/python3.7/dist-packages/torch/_tensor.py:575: UserWarning: floor_divide is deprecated, and will be removed in a future version of pytorch. It currently rounds toward 0 (like the 'trunc' function NOT 'floor'). This results in incorrect rounding for negative values.\n",
            "To keep the current behavior, use torch.div(a, b, rounding_mode='trunc'), or for actual floor division, use torch.div(a, b, rounding_mode='floor'). (Triggered internally at  /pytorch/aten/src/ATen/native/BinaryOps.cpp:467.)\n",
            "  return torch.floor_divide(self, other)\n"
          ],
          "name": "stderr"
        },
        {
          "output_type": "display_data",
          "data": {
            "text/html": [
              "\n",
              "    <div>\n",
              "        <style>\n",
              "            /* Turns off some styling */\n",
              "            progress {\n",
              "                /* gets rid of default border in Firefox and Opera. */\n",
              "                border: none;\n",
              "                /* Needs to be in here for Safari polyfill so background images work as expected. */\n",
              "                background-size: auto;\n",
              "            }\n",
              "        </style>\n",
              "      \n",
              "      <progress value='1290' max='1290' style='width:300px; height:20px; vertical-align: middle;'></progress>\n",
              "      [1290/1290 1:15:38, Epoch 30/30]\n",
              "    </div>\n",
              "    <table border=\"1\" class=\"dataframe\">\n",
              "  <thead>\n",
              "    <tr style=\"text-align: left;\">\n",
              "      <th>Step</th>\n",
              "      <th>Training Loss</th>\n",
              "      <th>Validation Loss</th>\n",
              "      <th>Wer</th>\n",
              "      <th>Runtime</th>\n",
              "      <th>Samples Per Second</th>\n",
              "    </tr>\n",
              "  </thead>\n",
              "  <tbody>\n",
              "    <tr>\n",
              "      <td>200</td>\n",
              "      <td>9.753300</td>\n",
              "      <td>2.847992</td>\n",
              "      <td>1.000000</td>\n",
              "      <td>30.541400</td>\n",
              "      <td>13.490000</td>\n",
              "    </tr>\n",
              "    <tr>\n",
              "      <td>400</td>\n",
              "      <td>2.251900</td>\n",
              "      <td>0.528370</td>\n",
              "      <td>1.682039</td>\n",
              "      <td>31.020100</td>\n",
              "      <td>13.282000</td>\n",
              "    </tr>\n",
              "    <tr>\n",
              "      <td>600</td>\n",
              "      <td>0.218100</td>\n",
              "      <td>0.011237</td>\n",
              "      <td>1.080097</td>\n",
              "      <td>31.070100</td>\n",
              "      <td>13.260000</td>\n",
              "    </tr>\n",
              "    <tr>\n",
              "      <td>800</td>\n",
              "      <td>0.053100</td>\n",
              "      <td>0.003015</td>\n",
              "      <td>1.060680</td>\n",
              "      <td>31.318700</td>\n",
              "      <td>13.155000</td>\n",
              "    </tr>\n",
              "    <tr>\n",
              "      <td>1000</td>\n",
              "      <td>0.023500</td>\n",
              "      <td>0.002189</td>\n",
              "      <td>0.980583</td>\n",
              "      <td>30.717100</td>\n",
              "      <td>13.413000</td>\n",
              "    </tr>\n",
              "    <tr>\n",
              "      <td>1200</td>\n",
              "      <td>0.016000</td>\n",
              "      <td>0.001454</td>\n",
              "      <td>0.985437</td>\n",
              "      <td>30.197900</td>\n",
              "      <td>13.643000</td>\n",
              "    </tr>\n",
              "  </tbody>\n",
              "</table><p>"
            ],
            "text/plain": [
              "<IPython.core.display.HTML object>"
            ]
          },
          "metadata": {
            "tags": []
          }
        },
        {
          "output_type": "execute_result",
          "data": {
            "text/plain": [
              "TrainOutput(global_step=1290, training_loss=1.9103615666544715, metrics={'train_runtime': 4543.8055, 'train_samples_per_second': 0.284, 'total_flos': 3.2104075928599777e+18, 'epoch': 30.0, 'init_mem_cpu_alloc_delta': 1707996, 'init_mem_gpu_alloc_delta': 1261845504, 'init_mem_cpu_peaked_delta': 18306, 'init_mem_gpu_peaked_delta': 0, 'train_mem_cpu_alloc_delta': 1384163, 'train_mem_gpu_alloc_delta': 3779276288, 'train_mem_cpu_peaked_delta': 61378407, 'train_mem_gpu_peaked_delta': 1827236352})"
            ]
          },
          "metadata": {
            "tags": []
          },
          "execution_count": 57
        }
      ]
    },
    {
      "cell_type": "markdown",
      "metadata": {
        "id": "R8YDn3_TyBi3"
      },
      "source": [
        "#モデル検証"
      ]
    },
    {
      "cell_type": "code",
      "metadata": {
        "id": "SmdJy7IhzMAN"
      },
      "source": [
        ""
      ],
      "execution_count": null,
      "outputs": []
    },
    {
      "cell_type": "code",
      "metadata": {
        "colab": {
          "base_uri": "https://localhost:8080/"
        },
        "id": "DUnaiMeUzMTh",
        "outputId": "4812d15a-3cf4-40a7-a8d8-c9a8789d9779"
      },
      "source": [
        "from google.colab import drive\n",
        "\n",
        "/drive.mount('/content/gdrive/')"
      ],
      "execution_count": null,
      "outputs": [
        {
          "output_type": "stream",
          "text": [
            "Mounted at /content/gdrive/\n"
          ],
          "name": "stdout"
        }
      ]
    },
    {
      "cell_type": "markdown",
      "metadata": {
        "id": "Dc68arpWtn3z"
      },
      "source": [
        "## Testing "
      ]
    },
    {
      "cell_type": "code",
      "metadata": {
        "id": "17pe2g-kPYTv"
      },
      "source": [
        "MODEL_ID = \"/content/gdrive/MyDrive/wav2vec2-large-xlsr-japanese-YY-demo/checkpoint-1200\""
      ],
      "execution_count": null,
      "outputs": []
    },
    {
      "cell_type": "code",
      "metadata": {
        "id": "X7wrfUUmEujZ"
      },
      "source": [
        "from transformers import Wav2Vec2CTCTokenizer\n",
        "from transformers import Wav2Vec2FeatureExtractor\n",
        "from transformers import Wav2Vec2Processor\n",
        "from transformers import Wav2Vec2ForCTC\n",
        "import torch\n",
        "import librosa\n",
        "from datasets import load_dataset\n",
        "import glob\n",
        "import torchaudio\n",
        "import numpy as np\n",
        "import json"
      ],
      "execution_count": null,
      "outputs": []
    },
    {
      "cell_type": "code",
      "metadata": {
        "id": "V_Y4qhBQFuJS"
      },
      "source": [
        "file1 = open('/content/gdrive/MyDrive/yamaoka_san_voice/label.txt', 'r')\n",
        "Lines = file1.readlines()\n",
        "pathdict = {}\n",
        "for i in Lines:\n",
        "    s = i.rstrip('\\n').split('.')\n",
        "    label = s[1].replace(\" \", \"\")\n",
        "    name = int(s[0])\n",
        "    pathdict[name] = label"
      ],
      "execution_count": null,
      "outputs": []
    },
    {
      "cell_type": "code",
      "metadata": {
        "colab": {
          "base_uri": "https://localhost:8080/"
        },
        "id": "j95i1VLQPkjm",
        "outputId": "40c17b2a-14bd-4e9e-9d5b-b07a4eee1485"
      },
      "source": [
        "processor = Wav2Vec2Processor.from_pretrained(MODEL_ID)\n",
        "model = Wav2Vec2ForCTC.from_pretrained(MODEL_ID)"
      ],
      "execution_count": null,
      "outputs": [
        {
          "output_type": "stream",
          "text": [
            "Special tokens have been added in the vocabulary, make sure the associated word embedding are fine-tuned or trained.\n"
          ],
          "name": "stderr"
        }
      ]
    },
    {
      "cell_type": "code",
      "metadata": {
        "id": "EWWqTn_dPoQS"
      },
      "source": [
        "import romkan\n",
        "def toKanji(s):\n",
        "    s = romkan.to_hiragana(s)\n",
        "    if s != None:\n",
        "        return s"
      ],
      "execution_count": null,
      "outputs": []
    },
    {
      "cell_type": "markdown",
      "metadata": {
        "id": "E-fuQCjPG-4L"
      },
      "source": [
        "###Fathers voice\n"
      ]
    },
    {
      "cell_type": "code",
      "metadata": {
        "id": "-gwyzNfgPvFy"
      },
      "source": [
        "pathlist = glob.glob(\"/content/gdrive/MyDrive/test_father/*.wav\") "
      ],
      "execution_count": null,
      "outputs": []
    },
    {
      "cell_type": "code",
      "metadata": {
        "id": "gT-IE3cqPxPB"
      },
      "source": [
        "def load_and_resample(file_path):\n",
        "    signal_tensor, samling_rate = torchaudio.load(file_path)\n",
        "    signal_array = signal_tensor[0].numpy()\n",
        "    return signal_array"
      ],
      "execution_count": null,
      "outputs": []
    },
    {
      "cell_type": "code",
      "metadata": {
        "id": "WNs0mNL3P09p"
      },
      "source": [
        "signals = []\n",
        "for eachpath in pathlist:\n",
        "    signal = load_and_resample(eachpath)\n",
        "    signal_list = signal.tolist()\n",
        "    signals.append([signal_list,eachpath])"
      ],
      "execution_count": null,
      "outputs": []
    },
    {
      "cell_type": "code",
      "metadata": {
        "id": "w7n5as8CP4OW"
      },
      "source": [
        "predicted = []\n",
        "for eachsginals, path in signals:\n",
        "    inputs = processor(eachsginals, sampling_rate=16_000, return_tensors=\"pt\", padding=True)\n",
        "    logits = model(inputs.input_values, attention_mask=inputs.attention_mask).logits\n",
        "    predicted_ids = torch.argmax(logits, dim=-1)\n",
        "    predicted_sentences = processor.batch_decode(predicted_ids)\n",
        "    predicted.append([predicted_sentences[0].replace(\"[PAD]\", \"\"),path])\n"
      ],
      "execution_count": null,
      "outputs": []
    },
    {
      "cell_type": "code",
      "metadata": {
        "colab": {
          "base_uri": "https://localhost:8080/"
        },
        "id": "DgtRKOifQSfu",
        "outputId": "b946f69a-fe54-4db4-e99c-fb25f77ff6db"
      },
      "source": [
        "for predsent, path in predicted:\n",
        "    filename = get_filename(path)\n",
        "    name = int(filename.split(\".\")[0])\n",
        "    label = pathdict[name]\n",
        "    print(\"Reference: \" + label)\n",
        "    print(\"Roma-ji Prediction: \" + predsent)\n",
        "    print(\"kana translated: \"+ toKanji(predsent))\n",
        "    print(\"------------------------------------------------------------------------------\")\n",
        "    "
      ],
      "execution_count": null,
      "outputs": [
        {
          "output_type": "stream",
          "text": [
            "Reference: お電話ありがとうございます\n",
            "Roma-ji Prediction: odenwarigatougozaimasu\n",
            "kana translated: おでんわりがとうございます\n",
            "------------------------------------------------------------------------------\n",
            "Reference: どのようなご用件\n",
            "Roma-ji Prediction: donoyounagoyouken\n",
            "kana translated: どのようなごようけん\n",
            "------------------------------------------------------------------------------\n",
            "Reference: どのようなお問い合わせ\n",
            "Roma-ji Prediction: donoyounaotoiawase\n",
            "kana translated: どのようなおといあわせ\n",
            "------------------------------------------------------------------------------\n",
            "Reference: ありがとう\n",
            "Roma-ji Prediction: arigatou\n",
            "kana translated: ありがとう\n",
            "------------------------------------------------------------------------------\n",
            "Reference: はい\n",
            "Roma-ji Prediction: hai\n",
            "kana translated: はい\n",
            "------------------------------------------------------------------------------\n",
            "Reference: いいえ\n",
            "Roma-ji Prediction: iie\n",
            "kana translated: いいえ\n",
            "------------------------------------------------------------------------------\n",
            "Reference: 申し訳ありません\n",
            "Roma-ji Prediction: takinarimasen\n",
            "kana translated: たきなりません\n",
            "------------------------------------------------------------------------------\n",
            "Reference: 今後ともよろしくお願いいたします\n",
            "Roma-ji Prediction: kongotomoyoroshikuonegaiitashimasu\n",
            "kana translated: こんごともよろしくおねがいいたします\n",
            "------------------------------------------------------------------------------\n",
            "Reference: 解決しました\n",
            "Roma-ji Prediction: kaiketshimashita\n",
            "kana translated: かいけtしました\n",
            "------------------------------------------------------------------------------\n",
            "Reference: 解決しません\n",
            "Roma-ji Prediction: kaiketsuimasen\n",
            "kana translated: かいけついません\n",
            "------------------------------------------------------------------------------\n"
          ],
          "name": "stdout"
        }
      ]
    },
    {
      "cell_type": "code",
      "metadata": {
        "id": "QB9xlSByRjpc"
      },
      "source": [
        "keyaudiopath = '/content/gdrive/MyDrive/originalCallcenterAudio/man1.wav'"
      ],
      "execution_count": null,
      "outputs": []
    },
    {
      "cell_type": "code",
      "metadata": {
        "colab": {
          "base_uri": "https://localhost:8080/"
        },
        "id": "LkImEF9rRsIY",
        "outputId": "a802ad18-7517-45b4-9a14-8ea8056b24c8"
      },
      "source": [
        "  signal = load_and_resample(keyaudiopath)\n",
        "  signal_list = signal.tolist()\n",
        "  inputs = processor(signal_list, sampling_rate=16_000, return_tensors=\"pt\", padding=True)\n",
        "  logits = model(inputs.input_values, attention_mask=inputs.attention_mask).logits\n",
        "  predicted_ids = torch.argmax(logits, dim=-1)\n",
        "  predicted_sentences = processor.batch_decode(predicted_ids)\n",
        "  predicted_sentencesver = predicted_sentences[0].replace(\"[PAD]\", \"\")\n",
        "  print(\"Roma-ji Prediction: \" + predicted_sentencesver)\n",
        "  print(\"kana translated: \"+ toKanji(predicted_sentencesver))\n",
        "\n"
      ],
      "execution_count": null,
      "outputs": [
        {
          "output_type": "stream",
          "text": [
            "Roma-ji Prediction: ohayougozaimatoukewainateorimasu\n",
            "kana translated: おはようございまとうけわいなております\n"
          ],
          "name": "stdout"
        }
      ]
    },
    {
      "cell_type": "markdown",
      "metadata": {
        "id": "fbdCk02sEOFv"
      },
      "source": [
        "###Yamaoka_san Voice\n"
      ]
    },
    {
      "cell_type": "code",
      "metadata": {
        "id": "vR1G8mBcR88d"
      },
      "source": [
        "def load_and_resample(file_path, resamling_rate=16000):\n",
        "    signal_tensor, samling_rate = torchaudio.load(file_path)\n",
        "    signal_array = signal_tensor[0].numpy()\n",
        "    #signal_array = librosa.resample(signal_array, 16000, resamling_rate)\n",
        "    return signal_array"
      ],
      "execution_count": null,
      "outputs": []
    },
    {
      "cell_type": "code",
      "metadata": {
        "id": "eQaCNUUnE-hQ"
      },
      "source": [
        "pathlist = glob.glob(\"/content/gdrive/MyDrive/yamaoka_san_voice/original/*.wav\") "
      ],
      "execution_count": null,
      "outputs": []
    },
    {
      "cell_type": "code",
      "metadata": {
        "id": "TqOY42HQFAPd",
        "colab": {
          "base_uri": "https://localhost:8080/",
          "height": 392
        },
        "outputId": "f56cb27f-8a9b-4913-c17d-55f9dd48c46a"
      },
      "source": [
        "signals = []\n",
        "for eachpath in pathlist:\n",
        "    signal = load_and_resample(eachpath)\n",
        "    signal_list = signal.tolist()\n",
        "    signals.append([signal_list,eachpath])"
      ],
      "execution_count": null,
      "outputs": [
        {
          "output_type": "error",
          "ename": "KeyboardInterrupt",
          "evalue": "ignored",
          "traceback": [
            "\u001b[0;31m---------------------------------------------------------------------------\u001b[0m",
            "\u001b[0;31mKeyboardInterrupt\u001b[0m                         Traceback (most recent call last)",
            "\u001b[0;32m<ipython-input-10-c66ff4df9e77>\u001b[0m in \u001b[0;36m<module>\u001b[0;34m()\u001b[0m\n\u001b[1;32m      1\u001b[0m \u001b[0msignals\u001b[0m \u001b[0;34m=\u001b[0m \u001b[0;34m[\u001b[0m\u001b[0;34m]\u001b[0m\u001b[0;34m\u001b[0m\u001b[0;34m\u001b[0m\u001b[0m\n\u001b[1;32m      2\u001b[0m \u001b[0;32mfor\u001b[0m \u001b[0meachpath\u001b[0m \u001b[0;32min\u001b[0m \u001b[0mpathlist\u001b[0m\u001b[0;34m:\u001b[0m\u001b[0;34m\u001b[0m\u001b[0;34m\u001b[0m\u001b[0m\n\u001b[0;32m----> 3\u001b[0;31m     \u001b[0msignal\u001b[0m \u001b[0;34m=\u001b[0m \u001b[0mload_and_resample\u001b[0m\u001b[0;34m(\u001b[0m\u001b[0meachpath\u001b[0m\u001b[0;34m)\u001b[0m\u001b[0;34m\u001b[0m\u001b[0;34m\u001b[0m\u001b[0m\n\u001b[0m\u001b[1;32m      4\u001b[0m     \u001b[0msignal_list\u001b[0m \u001b[0;34m=\u001b[0m \u001b[0msignal\u001b[0m\u001b[0;34m.\u001b[0m\u001b[0mtolist\u001b[0m\u001b[0;34m(\u001b[0m\u001b[0;34m)\u001b[0m\u001b[0;34m\u001b[0m\u001b[0;34m\u001b[0m\u001b[0m\n\u001b[1;32m      5\u001b[0m     \u001b[0msignals\u001b[0m\u001b[0;34m.\u001b[0m\u001b[0mappend\u001b[0m\u001b[0;34m(\u001b[0m\u001b[0;34m[\u001b[0m\u001b[0msignal_list\u001b[0m\u001b[0;34m,\u001b[0m\u001b[0meachpath\u001b[0m\u001b[0;34m]\u001b[0m\u001b[0;34m)\u001b[0m\u001b[0;34m\u001b[0m\u001b[0;34m\u001b[0m\u001b[0m\n",
            "\u001b[0;32m<ipython-input-8-60bb076d5578>\u001b[0m in \u001b[0;36mload_and_resample\u001b[0;34m(file_path, resamling_rate)\u001b[0m\n\u001b[1;32m      1\u001b[0m \u001b[0;32mdef\u001b[0m \u001b[0mload_and_resample\u001b[0m\u001b[0;34m(\u001b[0m\u001b[0mfile_path\u001b[0m\u001b[0;34m,\u001b[0m \u001b[0mresamling_rate\u001b[0m\u001b[0;34m=\u001b[0m\u001b[0;36m16000\u001b[0m\u001b[0;34m)\u001b[0m\u001b[0;34m:\u001b[0m\u001b[0;34m\u001b[0m\u001b[0;34m\u001b[0m\u001b[0m\n\u001b[0;32m----> 2\u001b[0;31m     \u001b[0msignal_tensor\u001b[0m\u001b[0;34m,\u001b[0m \u001b[0msamling_rate\u001b[0m \u001b[0;34m=\u001b[0m \u001b[0mtorchaudio\u001b[0m\u001b[0;34m.\u001b[0m\u001b[0mload\u001b[0m\u001b[0;34m(\u001b[0m\u001b[0mfile_path\u001b[0m\u001b[0;34m)\u001b[0m\u001b[0;34m\u001b[0m\u001b[0;34m\u001b[0m\u001b[0m\n\u001b[0m\u001b[1;32m      3\u001b[0m     \u001b[0msignal_array\u001b[0m \u001b[0;34m=\u001b[0m \u001b[0msignal_tensor\u001b[0m\u001b[0;34m[\u001b[0m\u001b[0;36m0\u001b[0m\u001b[0;34m]\u001b[0m\u001b[0;34m.\u001b[0m\u001b[0mnumpy\u001b[0m\u001b[0;34m(\u001b[0m\u001b[0;34m)\u001b[0m\u001b[0;34m\u001b[0m\u001b[0;34m\u001b[0m\u001b[0m\n\u001b[1;32m      4\u001b[0m     \u001b[0;31m#signal_array = librosa.resample(signal_array, 16000, resamling_rate)\u001b[0m\u001b[0;34m\u001b[0m\u001b[0;34m\u001b[0m\u001b[0;34m\u001b[0m\u001b[0m\n\u001b[1;32m      5\u001b[0m     \u001b[0;32mreturn\u001b[0m \u001b[0msignal_array\u001b[0m\u001b[0;34m\u001b[0m\u001b[0;34m\u001b[0m\u001b[0m\n",
            "\u001b[0;32m/usr/local/lib/python3.7/dist-packages/torchaudio/backend/sox_io_backend.py\u001b[0m in \u001b[0;36mload\u001b[0;34m(filepath, frame_offset, num_frames, normalize, channels_first, format)\u001b[0m\n\u001b[1;32m    151\u001b[0m         \u001b[0mfilepath\u001b[0m \u001b[0;34m=\u001b[0m \u001b[0mos\u001b[0m\u001b[0;34m.\u001b[0m\u001b[0mfspath\u001b[0m\u001b[0;34m(\u001b[0m\u001b[0mfilepath\u001b[0m\u001b[0;34m)\u001b[0m\u001b[0;34m\u001b[0m\u001b[0;34m\u001b[0m\u001b[0m\n\u001b[1;32m    152\u001b[0m     return torch.ops.torchaudio.sox_io_load_audio_file(\n\u001b[0;32m--> 153\u001b[0;31m         filepath, frame_offset, num_frames, normalize, channels_first, format)\n\u001b[0m\u001b[1;32m    154\u001b[0m \u001b[0;34m\u001b[0m\u001b[0m\n\u001b[1;32m    155\u001b[0m \u001b[0;34m\u001b[0m\u001b[0m\n",
            "\u001b[0;31mKeyboardInterrupt\u001b[0m: "
          ]
        }
      ]
    },
    {
      "cell_type": "code",
      "metadata": {
        "id": "HfxhcVTYFBz_"
      },
      "source": [
        "predicted = []\n",
        "for eachsginals, path in signals:\n",
        "    inputs = processor(eachsginals, sampling_rate=16_000, return_tensors=\"pt\", padding=True)\n",
        "    logits = model(inputs.input_values, attention_mask=inputs.attention_mask).logits\n",
        "    predicted_ids = torch.argmax(logits, dim=-1)\n",
        "    predicted_sentences = processor.batch_decode(predicted_ids)\n",
        "    predicted.append([predicted_sentences[0].replace(\"[PAD]\", \"\"),path])\n"
      ],
      "execution_count": null,
      "outputs": []
    },
    {
      "cell_type": "code",
      "metadata": {
        "id": "_HlLunnAFEZM"
      },
      "source": [
        "for predsent, path in predicted:\n",
        "    filename = get_filename(path)\n",
        "    name = int(filename.split(\".\")[0])\n",
        "    label = pathdict[name]\n",
        "    print(\"Reference: \" + label)\n",
        "    print(\"Roma-ji Prediction: \" + predsent)\n",
        "    print(\"kana translated: \"+ toKanji(predsent))\n",
        "    print(\"------------------------------------------------------------------------------\")"
      ],
      "execution_count": null,
      "outputs": []
    },
    {
      "cell_type": "markdown",
      "metadata": {
        "id": "BMIr7CsrKCK8"
      },
      "source": [
        "###Callcenter test\n"
      ]
    },
    {
      "cell_type": "code",
      "metadata": {
        "colab": {
          "base_uri": "https://localhost:8080/",
          "height": 232
        },
        "id": "IT3M8LaPdbQV",
        "outputId": "c215079f-2a80-4999-bfb5-607bdfb5ffc5"
      },
      "source": [
        "  keyaudiopath = '/content/gdrive/MyDrive/originalCallcenterAudio/man1.wav'\n",
        "  signal = load_and_resample(keyaudiopath)\n",
        "  signal_list = signal.tolist()\n",
        "  inputs = processor(signal_list, sampling_rate=16_000, return_tensors=\"pt\", padding=True)\n",
        "  logits = model(inputs.input_values, attention_mask=inputs.attention_mask).logits\n",
        "  predicted_ids = torch.argmax(logits, dim=-1)\n",
        "  predicted_sentences = processor.batch_decode(predicted_ids)\n",
        "  predicted_sentencesver = predicted_sentences[0].replace(\"[PAD]\", \"\")\n",
        "  print(\"Roma-ji Prediction: \" + predicted_sentencesver)\n",
        "  print(\"kana translated: \"+ toKanji(predicted_sentencesver))"
      ],
      "execution_count": null,
      "outputs": [
        {
          "output_type": "error",
          "ename": "NameError",
          "evalue": "ignored",
          "traceback": [
            "\u001b[0;31m---------------------------------------------------------------------------\u001b[0m",
            "\u001b[0;31mNameError\u001b[0m                                 Traceback (most recent call last)",
            "\u001b[0;32m<ipython-input-7-aafd63abcc3a>\u001b[0m in \u001b[0;36m<module>\u001b[0;34m()\u001b[0m\n\u001b[1;32m      1\u001b[0m \u001b[0mkeyaudiopath\u001b[0m \u001b[0;34m=\u001b[0m \u001b[0;34m'/content/gdrive/MyDrive/originalCallcenterAudio/man1.wav'\u001b[0m\u001b[0;34m\u001b[0m\u001b[0;34m\u001b[0m\u001b[0m\n\u001b[0;32m----> 2\u001b[0;31m \u001b[0msignal\u001b[0m \u001b[0;34m=\u001b[0m \u001b[0mload_and_resample\u001b[0m\u001b[0;34m(\u001b[0m\u001b[0mkeyaudiopath\u001b[0m\u001b[0;34m)\u001b[0m\u001b[0;34m\u001b[0m\u001b[0;34m\u001b[0m\u001b[0m\n\u001b[0m\u001b[1;32m      3\u001b[0m \u001b[0msignal_list\u001b[0m \u001b[0;34m=\u001b[0m \u001b[0msignal\u001b[0m\u001b[0;34m.\u001b[0m\u001b[0mtolist\u001b[0m\u001b[0;34m(\u001b[0m\u001b[0;34m)\u001b[0m\u001b[0;34m\u001b[0m\u001b[0;34m\u001b[0m\u001b[0m\n\u001b[1;32m      4\u001b[0m \u001b[0minputs\u001b[0m \u001b[0;34m=\u001b[0m \u001b[0mprocessor\u001b[0m\u001b[0;34m(\u001b[0m\u001b[0msignal_list\u001b[0m\u001b[0;34m,\u001b[0m \u001b[0msampling_rate\u001b[0m\u001b[0;34m=\u001b[0m\u001b[0;36m16_000\u001b[0m\u001b[0;34m,\u001b[0m \u001b[0mreturn_tensors\u001b[0m\u001b[0;34m=\u001b[0m\u001b[0;34m\"pt\"\u001b[0m\u001b[0;34m,\u001b[0m \u001b[0mpadding\u001b[0m\u001b[0;34m=\u001b[0m\u001b[0;32mTrue\u001b[0m\u001b[0;34m)\u001b[0m\u001b[0;34m\u001b[0m\u001b[0;34m\u001b[0m\u001b[0m\n\u001b[1;32m      5\u001b[0m \u001b[0mlogits\u001b[0m \u001b[0;34m=\u001b[0m \u001b[0mmodel\u001b[0m\u001b[0;34m(\u001b[0m\u001b[0minputs\u001b[0m\u001b[0;34m.\u001b[0m\u001b[0minput_values\u001b[0m\u001b[0;34m,\u001b[0m \u001b[0mattention_mask\u001b[0m\u001b[0;34m=\u001b[0m\u001b[0minputs\u001b[0m\u001b[0;34m.\u001b[0m\u001b[0mattention_mask\u001b[0m\u001b[0;34m)\u001b[0m\u001b[0;34m.\u001b[0m\u001b[0mlogits\u001b[0m\u001b[0;34m\u001b[0m\u001b[0;34m\u001b[0m\u001b[0m\n",
            "\u001b[0;31mNameError\u001b[0m: name 'load_and_resample' is not defined"
          ]
        }
      ]
    },
    {
      "cell_type": "markdown",
      "metadata": {
        "id": "DspcTUGcHB_V"
      },
      "source": [
        "###Shogos Voice"
      ]
    },
    {
      "cell_type": "code",
      "metadata": {
        "id": "GxSlbbsUHI6o"
      },
      "source": [
        "def load_and_resample(file_path, resamling_rate=16000):\n",
        "    signal_tensor, samling_rate = torchaudio.load(file_path)\n",
        "    signal_array = signal_tensor[0].numpy()\n",
        "    #signal_array = librosa.resample(signal_array, 16000, resamling_rate)\n",
        "    return signal_array"
      ],
      "execution_count": null,
      "outputs": []
    },
    {
      "cell_type": "code",
      "metadata": {
        "id": "XyDCK6DGHJTp"
      },
      "source": [
        "pathlist = glob.glob(\"/content/gdrive/MyDrive/shogo_voice/*.wav\") "
      ],
      "execution_count": null,
      "outputs": []
    },
    {
      "cell_type": "code",
      "metadata": {
        "id": "fyEqUM0THMO4"
      },
      "source": [
        "signals = []\n",
        "for eachpath in pathlist:\n",
        "    signal = load_and_resample(eachpath)\n",
        "    signal_list = signal.tolist()\n",
        "    signals.append([signal_list,eachpath])"
      ],
      "execution_count": null,
      "outputs": []
    },
    {
      "cell_type": "code",
      "metadata": {
        "id": "67cKsEXAHNjQ"
      },
      "source": [
        "predicted = []\n",
        "for eachsginals, path in signals:\n",
        "    inputs = processor(eachsginals, sampling_rate=16_000, return_tensors=\"pt\", padding=True)\n",
        "    logits = model(inputs.input_values, attention_mask=inputs.attention_mask).logits\n",
        "    predicted_ids = torch.argmax(logits, dim=-1)\n",
        "    predicted_sentences = processor.batch_decode(predicted_ids)\n",
        "    predicted.append([predicted_sentences[0].replace(\"[PAD]\", \"\"),path])\n"
      ],
      "execution_count": null,
      "outputs": []
    },
    {
      "cell_type": "code",
      "metadata": {
        "colab": {
          "base_uri": "https://localhost:8080/"
        },
        "id": "zsOExo7THQbP",
        "outputId": "27df0e2f-3b0b-45fe-d5b7-49a8900fe78d"
      },
      "source": [
        "for predsent, path in predicted:\n",
        "    filename = get_filename(path)\n",
        "    name = int(filename.split(\".\")[0])\n",
        "    label = pathdict[name]\n",
        "    print(\"Reference: \" + label)\n",
        "    print(\"Roma-ji Prediction: \" + predsent)\n",
        "    print(\"kana translated: \"+ toKanji(predsent))\n",
        "    print(\"------------------------------------------------------------------------------\")"
      ],
      "execution_count": null,
      "outputs": [
        {
          "output_type": "stream",
          "text": [
            "Reference: 不安なんです\n",
            "Roma-ji Prediction: fuannandesu\n",
            "kana translated: ふあんあんです\n",
            "------------------------------------------------------------------------------\n",
            "Reference: 助かりました\n",
            "Roma-ji Prediction: tasukarimashita\n",
            "kana translated: たすかりました\n",
            "------------------------------------------------------------------------------\n",
            "Reference: 安心しました\n",
            "Roma-ji Prediction: anshinshimashita\n",
            "kana translated: あんしんしました\n",
            "------------------------------------------------------------------------------\n",
            "Reference: 納得しました\n",
            "Roma-ji Prediction: nattokushimashita\n",
            "kana translated: なっとくしました\n",
            "------------------------------------------------------------------------------\n",
            "Reference: 安心です\n",
            "Roma-ji Prediction: anshindesu\n",
            "kana translated: あんしんです\n",
            "------------------------------------------------------------------------------\n",
            "Reference: 納得できません\n",
            "Roma-ji Prediction: nattokudekimasen\n",
            "kana translated: なっとくできません\n",
            "------------------------------------------------------------------------------\n",
            "Reference: 納得できました\n",
            "Roma-ji Prediction: nattokudekimashita\n",
            "kana translated: なっとくできました\n",
            "------------------------------------------------------------------------------\n",
            "Reference: 不安です\n",
            "Roma-ji Prediction: fuandesu\n",
            "kana translated: ふあんです\n",
            "------------------------------------------------------------------------------\n",
            "Reference: おかしいです\n",
            "Roma-ji Prediction: okashiidesu\n",
            "kana translated: おかしいです\n",
            "------------------------------------------------------------------------------\n",
            "Reference: 大変助かりました\n",
            "Roma-ji Prediction: taihentasukarimashita\n",
            "kana translated: たいへんたすかりました\n",
            "------------------------------------------------------------------------------\n",
            "Reference: おかしくないですか\n",
            "Roma-ji Prediction: okashikunaidesuka\n",
            "kana translated: おかしくないですか\n",
            "------------------------------------------------------------------------------\n",
            "Reference: どのようなご用件\n",
            "Roma-ji Prediction: donoyounagoyouken\n",
            "kana translated: どのようなごようけん\n",
            "------------------------------------------------------------------------------\n",
            "Reference: お電話ありがとうございます\n",
            "Roma-ji Prediction: odenwarigatougozaimasu\n",
            "kana translated: おでんわりがとうございます\n",
            "------------------------------------------------------------------------------\n",
            "Reference: ありがとう\n",
            "Roma-ji Prediction: arigatou\n",
            "kana translated: ありがとう\n",
            "------------------------------------------------------------------------------\n",
            "Reference: 納得できない\n",
            "Roma-ji Prediction: nattokudekinai\n",
            "kana translated: なっとくできない\n",
            "------------------------------------------------------------------------------\n",
            "Reference: どのようなお問い合わせ\n",
            "Roma-ji Prediction: donoyounaoutoiawase\n",
            "kana translated: どのようなおうといあわせ\n",
            "------------------------------------------------------------------------------\n",
            "Reference: いいえ\n",
            "Roma-ji Prediction: iie\n",
            "kana translated: いいえ\n",
            "------------------------------------------------------------------------------\n",
            "Reference: ありがとうございます\n",
            "Roma-ji Prediction: arigatougozaimasu\n",
            "kana translated: ありがとうございます\n",
            "------------------------------------------------------------------------------\n",
            "Reference: 申し訳ありません\n",
            "Roma-ji Prediction: moushigakearimasen\n",
            "kana translated: もうしがけありません\n",
            "------------------------------------------------------------------------------\n",
            "Reference: はい\n",
            "Roma-ji Prediction: hai\n",
            "kana translated: はい\n",
            "------------------------------------------------------------------------------\n",
            "Reference: 今後ともよろしくお願いいたします\n",
            "Roma-ji Prediction: kongotomoyoroshikuonegaiitashimasu\n",
            "kana translated: こんごともよろしくおねがいいたします\n",
            "------------------------------------------------------------------------------\n",
            "Reference: 解決しません\n",
            "Roma-ji Prediction: kaiketsushimasen\n",
            "kana translated: かいけつしません\n",
            "------------------------------------------------------------------------------\n",
            "Reference: よかったです\n",
            "Roma-ji Prediction: yokattadesu\n",
            "kana translated: よかったです\n",
            "------------------------------------------------------------------------------\n",
            "Reference: 解決しました\n",
            "Roma-ji Prediction: kaiketsushimashita\n",
            "kana translated: かいけつしました\n",
            "------------------------------------------------------------------------------\n",
            "Reference: おはようございます\n",
            "Roma-ji Prediction: ohayougozaimasu\n",
            "kana translated: おはようございます\n",
            "------------------------------------------------------------------------------\n",
            "Reference: おせわになっております\n",
            "Roma-ji Prediction: osewaninatteorimasu\n",
            "kana translated: おせわになっております\n",
            "------------------------------------------------------------------------------\n",
            "Reference: 本当に\n",
            "Roma-ji Prediction: hontouni\n",
            "kana translated: ほんとうに\n",
            "------------------------------------------------------------------------------\n",
            "Reference: ほっとしました\n",
            "Roma-ji Prediction: hottoshimashita\n",
            "kana translated: ほっとしました\n",
            "------------------------------------------------------------------------------\n",
            "Reference: こんにちわ\n",
            "Roma-ji Prediction: konnichiwa\n",
            "kana translated: こんいちわ\n",
            "------------------------------------------------------------------------------\n",
            "Reference: そうですね\n",
            "Roma-ji Prediction: soudesune\n",
            "kana translated: そうですね\n",
            "------------------------------------------------------------------------------\n",
            "Reference: いえ\n",
            "Roma-ji Prediction: ie\n",
            "kana translated: いえ\n",
            "------------------------------------------------------------------------------\n"
          ],
          "name": "stdout"
        }
      ]
    },
    {
      "cell_type": "markdown",
      "metadata": {
        "id": "Mm0rwmhj3ZoT"
      },
      "source": [
        "###Suwa-san voice"
      ]
    },
    {
      "cell_type": "code",
      "metadata": {
        "id": "Onk9D7i03YZk"
      },
      "source": [
        "def load_and_resample(file_path, resamling_rate=16000):\n",
        "    signal_tensor, samling_rate = torchaudio.load(file_path)\n",
        "    signal_array = signal_tensor[0].numpy()\n",
        "    #signal_array = librosa.resample(signal_array, 16000, resamling_rate)\n",
        "    return signal_array"
      ],
      "execution_count": null,
      "outputs": []
    },
    {
      "cell_type": "code",
      "metadata": {
        "id": "BhsrgS7h3fCL"
      },
      "source": [
        "pathlist = glob.glob(\"/content/gdrive/MyDrive/training_demo/*.wav\") "
      ],
      "execution_count": null,
      "outputs": []
    },
    {
      "cell_type": "code",
      "metadata": {
        "id": "59NVzOYI31i2"
      },
      "source": [
        "signals = []\n",
        "for eachpath in pathlist:\n",
        "    signal = load_and_resample(eachpath)\n",
        "    signal_list = signal.tolist()\n",
        "    signals.append([signal_list,eachpath])"
      ],
      "execution_count": null,
      "outputs": []
    },
    {
      "cell_type": "code",
      "metadata": {
        "colab": {
          "base_uri": "https://localhost:8080/"
        },
        "id": "fBGPsUvT4LtC",
        "outputId": "29f321ed-a3b8-4282-eb29-2f75e6c0f4b3"
      },
      "source": [
        "predicted = []\n",
        "for eachsginals, path in signals:\n",
        "    inputs = processor(eachsginals, sampling_rate=16_000, return_tensors=\"pt\", padding=True)\n",
        "    logits = model(inputs.input_values, attention_mask=inputs.attention_mask).logits\n",
        "    predicted_ids = torch.argmax(logits, dim=-1)\n",
        "    predicted_sentences = processor.batch_decode(predicted_ids)\n",
        "    predicted.append([predicted_sentences[0].replace(\"[PAD]\", \"\"),path])\n"
      ],
      "execution_count": null,
      "outputs": [
        {
          "output_type": "stream",
          "text": [
            "/usr/local/lib/python3.7/dist-packages/torch/_tensor.py:575: UserWarning: floor_divide is deprecated, and will be removed in a future version of pytorch. It currently rounds toward 0 (like the 'trunc' function NOT 'floor'). This results in incorrect rounding for negative values.\n",
            "To keep the current behavior, use torch.div(a, b, rounding_mode='trunc'), or for actual floor division, use torch.div(a, b, rounding_mode='floor'). (Triggered internally at  /pytorch/aten/src/ATen/native/BinaryOps.cpp:467.)\n",
            "  return torch.floor_divide(self, other)\n"
          ],
          "name": "stderr"
        }
      ]
    },
    {
      "cell_type": "markdown",
      "metadata": {
        "id": "1b8CrsnTbRIZ"
      },
      "source": [
        "###suwa-san cut *voice*\n"
      ]
    },
    {
      "cell_type": "code",
      "metadata": {
        "id": "Qq1xB6OScuvx"
      },
      "source": [
        ""
      ],
      "execution_count": null,
      "outputs": []
    },
    {
      "cell_type": "code",
      "metadata": {
        "id": "z5cBPTqPcuPy"
      },
      "source": [
        "def load_and_resample(file_path, resamling_rate=16000):\n",
        "    signal_tensor, samling_rate = torchaudio.load(file_path)\n",
        "    signal_array = signal_tensor[0].numpy()\n",
        "    #signal_array = librosa.resample(signal_array, 16000, resamling_rate)\n",
        "    return signal_array"
      ],
      "execution_count": null,
      "outputs": []
    },
    {
      "cell_type": "code",
      "metadata": {
        "colab": {
          "base_uri": "https://localhost:8080/"
        },
        "id": "uOdWvVnxbVr8",
        "outputId": "5509820d-2488-4e10-b207-08d39a02542a"
      },
      "source": [
        "  keyaudiopath = '/content/gdrive/MyDrive/training_demo/suwa.wav'\n",
        "  signal = load_and_resample(keyaudiopath)\n",
        "  signal_list = signal.tolist()\n",
        "  inputs = processor(signal_list, sampling_rate=16_000, return_tensors=\"pt\", padding=True)\n",
        "  logits = model(inputs.input_values, attention_mask=inputs.attention_mask).logits\n",
        "  predicted_ids = torch.argmax(logits, dim=-1)\n",
        "  predicted_sentences = processor.batch_decode(predicted_ids)\n",
        "  predicted_sentencesver = predicted_sentences[0].replace(\"[PAD]\", \"\")\n",
        "  print(\"Roma-ji Prediction: \" + predicted_sentencesver)\n",
        "  print(\"kana translated: \"+ toKanji(predicted_sentencesver))"
      ],
      "execution_count": null,
      "outputs": [
        {
          "output_type": "stream",
          "text": [
            "/usr/local/lib/python3.7/dist-packages/torch/_tensor.py:575: UserWarning: floor_divide is deprecated, and will be removed in a future version of pytorch. It currently rounds toward 0 (like the 'trunc' function NOT 'floor'). This results in incorrect rounding for negative values.\n",
            "To keep the current behavior, use torch.div(a, b, rounding_mode='trunc'), or for actual floor division, use torch.div(a, b, rounding_mode='floor'). (Triggered internally at  /pytorch/aten/src/ATen/native/BinaryOps.cpp:467.)\n",
            "  return torch.floor_divide(self, other)\n"
          ],
          "name": "stderr"
        },
        {
          "output_type": "stream",
          "text": [
            "Roma-ji Prediction: odenwaarigatougozaimasudonogagoyoukendonogaotoiwasearigatoumoshiakearimasenkaiiiekongotonoyoroshikunaitashimasukakeshimashitakaigeshimasenyokattadesuhontounioseainatteorimasu\n",
            "kana translated: おでんわありがとうございますどのがごようけんどのがおといわせありがとうもしあけありませんかいいいえこんごとのよろしくないたしますかけしましたかいげしませにょかったですほんとうにおせあいなっております\n"
          ],
          "name": "stdout"
        }
      ]
    },
    {
      "cell_type": "markdown",
      "metadata": {
        "id": "zaVoNuaJgAhi"
      },
      "source": [
        "### suwa-san voice cut difmodel\n"
      ]
    },
    {
      "cell_type": "code",
      "metadata": {
        "id": "GbmPwT2PgFs7"
      },
      "source": [
        "MODEL_ID = \"/content/gdrive/MyDrive/wav2vec2-large-xlsr-japanese-rome-v1-demo\""
      ],
      "execution_count": null,
      "outputs": []
    },
    {
      "cell_type": "code",
      "metadata": {
        "colab": {
          "base_uri": "https://localhost:8080/"
        },
        "id": "aTDyeblOgKBU",
        "outputId": "94d5c8c6-9cb5-4c61-9780-9147804bbeb4"
      },
      "source": [
        "processor = Wav2Vec2Processor.from_pretrained(MODEL_ID)\n",
        "model = Wav2Vec2ForCTC.from_pretrained(MODEL_ID)"
      ],
      "execution_count": null,
      "outputs": [
        {
          "output_type": "stream",
          "text": [
            "Special tokens have been added in the vocabulary, make sure the associated word embedding are fine-tuned or trained.\n"
          ],
          "name": "stderr"
        }
      ]
    },
    {
      "cell_type": "code",
      "metadata": {
        "colab": {
          "base_uri": "https://localhost:8080/"
        },
        "id": "VRuFdPP0gOLt",
        "outputId": "835d13c4-2deb-43eb-f6b3-06aab25c41c1"
      },
      "source": [
        "  keyaudiopath = '/content/gdrive/MyDrive/training_demo/suwa.wav'\n",
        "  signal = load_and_resample(keyaudiopath)\n",
        "  signal_list = signal.tolist()\n",
        "  inputs = processor(signal_list, sampling_rate=16_000, return_tensors=\"pt\", padding=True)\n",
        "  logits = model(inputs.input_values, attention_mask=inputs.attention_mask).logits\n",
        "  predicted_ids = torch.argmax(logits, dim=-1)\n",
        "  predicted_sentences = processor.batch_decode(predicted_ids)\n",
        "  predicted_sentencesver = predicted_sentences[0].replace(\"[PAD]\", \"\")\n",
        "  print(\"Roma-ji Prediction: \" + predicted_sentencesver)\n",
        "  print(\"kana translated: \"+ toKanji(predicted_sentencesver))"
      ],
      "execution_count": null,
      "outputs": [
        {
          "output_type": "stream",
          "text": [
            "Roma-ji Prediction: odenhaarigatoozaimadonorenagoyokendonoeraotoiwasearigatomoshakiarimasenhaiiiekogotomoyoroshikunoeitashimakaketshimashitatakyashimasenyokattadesukontoniosaranattorimasu\n",
            "kana translated: おでんはありがとおざいまどのれなごよけんどのえらおといわせありがともしゃきありませんはいいいえこごともよろしくのえいたしまかけtしましたたきゃしませにょかったですこんとにおさらなっとります\n"
          ],
          "name": "stdout"
        }
      ]
    }
  ]
}